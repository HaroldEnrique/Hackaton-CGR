{
 "cells": [
  {
   "cell_type": "code",
   "execution_count": 1,
   "id": "8ff23a0f-0b4f-45ab-9fe6-0ce29320f9c0",
   "metadata": {},
   "outputs": [],
   "source": [
    "import zipfile\n",
    "import os\n",
    "from io import BytesIO\n",
    "from datetime import datetime\n",
    "\n",
    "import polars as pl\n",
    "import pandas as pd\n",
    "\n",
    "pd.set_option(\"display.max_columns\", None)\n",
    "pd.set_option('display.max_rows', None)"
   ]
  },
  {
   "cell_type": "code",
   "execution_count": 2,
   "id": "02d734f3-0465-4661-adcc-32cd29d01543",
   "metadata": {},
   "outputs": [
    {
     "name": "stdout",
     "output_type": "stream",
     "text": [
      "/home/prueba/cgr_corrupcion/\n"
     ]
    }
   ],
   "source": [
    "BASE_URL = os.environ.get(\"BASE_URL\")\n",
    "print(BASE_URL)"
   ]
  },
  {
   "cell_type": "code",
   "execution_count": 3,
   "id": "062b3fe9-9204-4aa9-9eb8-d5e5fb93c0f8",
   "metadata": {},
   "outputs": [],
   "source": [
    "# datasets\n",
    "folder_data = BASE_URL + 'data/'\n",
    "\n",
    "datasets = {\n",
    "    'ds_airhsp' : 'DS01_AIRHSP.zip',\n",
    "    'ds_seace' : 'DS02_SEACE.zip',\n",
    "    'ds_siaf' : 'DS03_ORDENES_SIAF.zip',\n",
    "    'ds_empresas' : 'DS04_REPRESENTANTES_EMPRESAS.zip',\n",
    "    'ds_servir' : 'DS05_SANCIONADOS_SERVIR.zip',\n",
    "    'ds_gstos' : 'DS06_GASTOS_EJECUTORA.zip',\n",
    "    'ds_proveedor' : 'DS07_PROVEEDORES_PROYECTOS.zip',\n",
    "    'ds_proyectos' : 'DS07_PROYECTOS_INVERSION.zip',\n",
    "    'ds_inco' : 'DS08_INCO.zip'\n",
    "}"
   ]
  },
  {
   "cell_type": "code",
   "execution_count": 4,
   "id": "6487e4dd-ef2e-480e-bf38-c980e6ae7ad7",
   "metadata": {},
   "outputs": [],
   "source": [
    "def get_dataset_multiple_files(id_dataset):\n",
    "\n",
    "    archivo_zip = datasets[id_dataset]\n",
    "    ruta_zip = os.path.join(folder_data, archivo_zip)\n",
    "    \n",
    "    # Crear un DataFrame vacío\n",
    "    df = pd.DataFrame()\n",
    "    \n",
    "    with zipfile.ZipFile(ruta_zip, 'r') as zip_ref:\n",
    "        # Iterar sobre los nombres de los archivos en el zip\n",
    "        for nombre_archivo in zip_ref.namelist():\n",
    "            # Verificar si el archivo es un archivo CSV\n",
    "            if nombre_archivo.endswith('.csv'):\n",
    "                # Leer el contenido del archivo CSV\n",
    "                with zip_ref.open(nombre_archivo) as archivo_csv:\n",
    "                    # contenido_csv = archivo_csv.read().decode('utf-8')\n",
    "                    \n",
    "                    # # Utilizar BytesIO para convertir el contenido en un objeto de bytes\n",
    "                    # bytes_io = BytesIO(contenido_csv)\n",
    "                    \n",
    "                    # Leer el DataFrame desde el objeto de bytes\n",
    "                    df_temp = pd.read_csv(archivo_csv)\n",
    "                    \n",
    "                    # Agregar el DataFrame al DataFrame principal\n",
    "                    df = pd.concat([df, df_temp])\n",
    "    \n",
    "    # Imprimir el DataFrame resultante\n",
    "    return df"
   ]
  },
  {
   "cell_type": "markdown",
   "id": "94802c43-e3f0-418c-bd14-44177f7c3cf9",
   "metadata": {},
   "source": [
    "#### SERVIR"
   ]
  },
  {
   "cell_type": "code",
   "execution_count": 5,
   "id": "2631b196-12ab-4bf3-aae1-da5b6fb5a772",
   "metadata": {},
   "outputs": [
    {
     "name": "stdout",
     "output_type": "stream",
     "text": [
      "CPU times: user 129 ms, sys: 26.1 ms, total: 155 ms\n",
      "Wall time: 157 ms\n"
     ]
    }
   ],
   "source": [
    "%%time\n",
    "\n",
    "servir_data = get_dataset_multiple_files(\"ds_servir\")"
   ]
  },
  {
   "cell_type": "code",
   "execution_count": 6,
   "id": "41704c22-e1ce-493f-b68b-bdc9197919c7",
   "metadata": {},
   "outputs": [
    {
     "data": {
      "text/html": [
       "<div>\n",
       "<style scoped>\n",
       "    .dataframe tbody tr th:only-of-type {\n",
       "        vertical-align: middle;\n",
       "    }\n",
       "\n",
       "    .dataframe tbody tr th {\n",
       "        vertical-align: top;\n",
       "    }\n",
       "\n",
       "    .dataframe thead th {\n",
       "        text-align: right;\n",
       "    }\n",
       "</style>\n",
       "<table border=\"1\" class=\"dataframe\">\n",
       "  <thead>\n",
       "    <tr style=\"text-align: right;\">\n",
       "      <th></th>\n",
       "      <th>NTDI_CODIGO</th>\n",
       "      <th>CTDI_DESCRIPCION</th>\n",
       "      <th>CSAS_PER_NRODOC</th>\n",
       "      <th>CENT_RUC</th>\n",
       "      <th>CENT_NOMBRE</th>\n",
       "      <th>OBANT_NIVEL_GOB</th>\n",
       "      <th>OBANT_SECTOR</th>\n",
       "      <th>NOMBRE_DEPARTAMENTO</th>\n",
       "      <th>NOMBRE_PROVINCIA</th>\n",
       "      <th>NOMBRE_DISTRITO</th>\n",
       "      <th>CSAS_CATEGORIA</th>\n",
       "      <th>CSAS_TIPO</th>\n",
       "      <th>CSAS_CAUSA</th>\n",
       "      <th>DSAS_FECINI</th>\n",
       "      <th>DSAS_FECFIN</th>\n",
       "      <th>CSAS_INHABILITA</th>\n",
       "    </tr>\n",
       "  </thead>\n",
       "  <tbody>\n",
       "    <tr>\n",
       "      <th>0</th>\n",
       "      <td>1</td>\n",
       "      <td>DNI</td>\n",
       "      <td>10004780</td>\n",
       "      <td>20393274655</td>\n",
       "      <td>UNIDAD DE GESTIÓN EDUCATIVA LOCAL CORONEL PORT...</td>\n",
       "      <td>GOBIERNO REGIONAL</td>\n",
       "      <td>GOBIERNOS REGIONALES</td>\n",
       "      <td>UCAYALI</td>\n",
       "      <td>CORONEL PORTILLO</td>\n",
       "      <td>CALLARIA</td>\n",
       "      <td>INHABILITACIÓN DEL PODER JUDICIAL</td>\n",
       "      <td>PRIVACIÓN DE LA FUNCIÓN, CARGO O COMISIÓN QUE ...</td>\n",
       "      <td>DELITOS CONTRA LA LIBERTAD</td>\n",
       "      <td>06/06/2018</td>\n",
       "      <td>05/06/2023</td>\n",
       "      <td>SI</td>\n",
       "    </tr>\n",
       "    <tr>\n",
       "      <th>1</th>\n",
       "      <td>1</td>\n",
       "      <td>DNI</td>\n",
       "      <td>10039068</td>\n",
       "      <td>20195970751</td>\n",
       "      <td>DIRECCIÓN REGIONAL DE EDUCACIÓN UCAYALI</td>\n",
       "      <td>GOBIERNO REGIONAL</td>\n",
       "      <td>GOBIERNOS REGIONALES</td>\n",
       "      <td>UCAYALI</td>\n",
       "      <td>CORONEL PORTILLO</td>\n",
       "      <td>CALLARIA</td>\n",
       "      <td>ADMINISTRATIVA</td>\n",
       "      <td>DESTITUCION - LEY 29988</td>\n",
       "      <td>DELITO DE TRÁFICO ILÍCITO DE DROGAS</td>\n",
       "      <td>02/06/2018</td>\n",
       "      <td>NaN</td>\n",
       "      <td>SI</td>\n",
       "    </tr>\n",
       "    <tr>\n",
       "      <th>2</th>\n",
       "      <td>1</td>\n",
       "      <td>DNI</td>\n",
       "      <td>10106861</td>\n",
       "      <td>20533025057</td>\n",
       "      <td>UNIDAD DE GESTION EDUCATIVA LOCAL TACNA - UGEL...</td>\n",
       "      <td>GOBIERNO REGIONAL</td>\n",
       "      <td>GOBIERNOS REGIONALES</td>\n",
       "      <td>TACNA</td>\n",
       "      <td>TACNA</td>\n",
       "      <td>TACNA</td>\n",
       "      <td>DISCIPLINARIA</td>\n",
       "      <td>CESE TEMPORAL</td>\n",
       "      <td>TRANSGRESIÓN DE LOS DEBERES DE LA FUNCIÓN DOCENTE</td>\n",
       "      <td>28/01/2022</td>\n",
       "      <td>28/03/2022</td>\n",
       "      <td>SI</td>\n",
       "    </tr>\n",
       "    <tr>\n",
       "      <th>3</th>\n",
       "      <td>1</td>\n",
       "      <td>DNI</td>\n",
       "      <td>10124840</td>\n",
       "      <td>20170639520</td>\n",
       "      <td>PROYECTO ESPECIAL AFIANZAMIENTO Y AMPLIACION D...</td>\n",
       "      <td>GOBIERNO REGIONAL</td>\n",
       "      <td>GOBIERNOS REGIONALES</td>\n",
       "      <td>TACNA</td>\n",
       "      <td>TACNA</td>\n",
       "      <td>TACNA</td>\n",
       "      <td>DISCIPLINARIA</td>\n",
       "      <td>SUSPENSIÓN</td>\n",
       "      <td>ACTUAR O INFLUIR EN OTROS SERVIDORES PARA OBTE...</td>\n",
       "      <td>09/04/2022</td>\n",
       "      <td>08/04/2023</td>\n",
       "      <td>NO</td>\n",
       "    </tr>\n",
       "    <tr>\n",
       "      <th>4</th>\n",
       "      <td>1</td>\n",
       "      <td>DNI</td>\n",
       "      <td>10188673</td>\n",
       "      <td>20404224809</td>\n",
       "      <td>DIRECCIÓN REGIONAL DE EDUCACIÓN SAN MARTÍN - M...</td>\n",
       "      <td>GOBIERNO REGIONAL</td>\n",
       "      <td>GOBIERNOS REGIONALES</td>\n",
       "      <td>SAN MARTIN</td>\n",
       "      <td>MOYOBAMBA</td>\n",
       "      <td>MOYOBAMBA</td>\n",
       "      <td>ADMINISTRATIVA</td>\n",
       "      <td>INHABILITACION DEFINITIVA - LEY 29988</td>\n",
       "      <td>DELITOS DE VIOLACIÓN DE LA LIBERTAD SEXUAL E I...</td>\n",
       "      <td>06/06/2018</td>\n",
       "      <td>NaN</td>\n",
       "      <td>SI</td>\n",
       "    </tr>\n",
       "  </tbody>\n",
       "</table>\n",
       "</div>"
      ],
      "text/plain": [
       "   NTDI_CODIGO CTDI_DESCRIPCION  CSAS_PER_NRODOC     CENT_RUC  \\\n",
       "0            1              DNI         10004780  20393274655   \n",
       "1            1              DNI         10039068  20195970751   \n",
       "2            1              DNI         10106861  20533025057   \n",
       "3            1              DNI         10124840  20170639520   \n",
       "4            1              DNI         10188673  20404224809   \n",
       "\n",
       "                                         CENT_NOMBRE    OBANT_NIVEL_GOB  \\\n",
       "0  UNIDAD DE GESTIÓN EDUCATIVA LOCAL CORONEL PORT...  GOBIERNO REGIONAL   \n",
       "1            DIRECCIÓN REGIONAL DE EDUCACIÓN UCAYALI  GOBIERNO REGIONAL   \n",
       "2  UNIDAD DE GESTION EDUCATIVA LOCAL TACNA - UGEL...  GOBIERNO REGIONAL   \n",
       "3  PROYECTO ESPECIAL AFIANZAMIENTO Y AMPLIACION D...  GOBIERNO REGIONAL   \n",
       "4  DIRECCIÓN REGIONAL DE EDUCACIÓN SAN MARTÍN - M...  GOBIERNO REGIONAL   \n",
       "\n",
       "           OBANT_SECTOR NOMBRE_DEPARTAMENTO  NOMBRE_PROVINCIA NOMBRE_DISTRITO  \\\n",
       "0  GOBIERNOS REGIONALES             UCAYALI  CORONEL PORTILLO        CALLARIA   \n",
       "1  GOBIERNOS REGIONALES             UCAYALI  CORONEL PORTILLO        CALLARIA   \n",
       "2  GOBIERNOS REGIONALES               TACNA             TACNA           TACNA   \n",
       "3  GOBIERNOS REGIONALES               TACNA             TACNA           TACNA   \n",
       "4  GOBIERNOS REGIONALES          SAN MARTIN         MOYOBAMBA       MOYOBAMBA   \n",
       "\n",
       "                      CSAS_CATEGORIA  \\\n",
       "0  INHABILITACIÓN DEL PODER JUDICIAL   \n",
       "1                     ADMINISTRATIVA   \n",
       "2                      DISCIPLINARIA   \n",
       "3                      DISCIPLINARIA   \n",
       "4                     ADMINISTRATIVA   \n",
       "\n",
       "                                           CSAS_TIPO  \\\n",
       "0  PRIVACIÓN DE LA FUNCIÓN, CARGO O COMISIÓN QUE ...   \n",
       "1                            DESTITUCION - LEY 29988   \n",
       "2                                      CESE TEMPORAL   \n",
       "3                                         SUSPENSIÓN   \n",
       "4              INHABILITACION DEFINITIVA - LEY 29988   \n",
       "\n",
       "                                          CSAS_CAUSA DSAS_FECINI DSAS_FECFIN  \\\n",
       "0                         DELITOS CONTRA LA LIBERTAD  06/06/2018  05/06/2023   \n",
       "1                DELITO DE TRÁFICO ILÍCITO DE DROGAS  02/06/2018         NaN   \n",
       "2  TRANSGRESIÓN DE LOS DEBERES DE LA FUNCIÓN DOCENTE  28/01/2022  28/03/2022   \n",
       "3  ACTUAR O INFLUIR EN OTROS SERVIDORES PARA OBTE...  09/04/2022  08/04/2023   \n",
       "4  DELITOS DE VIOLACIÓN DE LA LIBERTAD SEXUAL E I...  06/06/2018         NaN   \n",
       "\n",
       "  CSAS_INHABILITA  \n",
       "0              SI  \n",
       "1              SI  \n",
       "2              SI  \n",
       "3              NO  \n",
       "4              SI  "
      ]
     },
     "execution_count": 6,
     "metadata": {},
     "output_type": "execute_result"
    }
   ],
   "source": [
    "servir_data.head()"
   ]
  },
  {
   "cell_type": "code",
   "execution_count": 7,
   "id": "05599349-e14f-412a-b8f8-418d2f513545",
   "metadata": {},
   "outputs": [
    {
     "data": {
      "text/plain": [
       "1110"
      ]
     },
     "execution_count": 7,
     "metadata": {},
     "output_type": "execute_result"
    }
   ],
   "source": [
    "len(servir_data[\"CENT_RUC\"].unique())"
   ]
  },
  {
   "cell_type": "code",
   "execution_count": 8,
   "id": "7085ad92-5b59-4b86-984f-b4d452d21662",
   "metadata": {},
   "outputs": [
    {
     "data": {
      "text/plain": [
       "Index(['NTDI_CODIGO', 'CTDI_DESCRIPCION', 'CSAS_PER_NRODOC', 'CENT_RUC',\n",
       "       'CENT_NOMBRE', 'OBANT_NIVEL_GOB', 'OBANT_SECTOR', 'NOMBRE_DEPARTAMENTO',\n",
       "       'NOMBRE_PROVINCIA', 'NOMBRE_DISTRITO', 'CSAS_CATEGORIA', 'CSAS_TIPO',\n",
       "       'CSAS_CAUSA', 'DSAS_FECINI', 'DSAS_FECFIN', 'CSAS_INHABILITA'],\n",
       "      dtype='object')"
      ]
     },
     "execution_count": 8,
     "metadata": {},
     "output_type": "execute_result"
    }
   ],
   "source": [
    "servir_data.columns"
   ]
  },
  {
   "cell_type": "code",
   "execution_count": 13,
   "id": "6d8f174e-3340-4da3-bbd2-437e6ba8e6b1",
   "metadata": {},
   "outputs": [
    {
     "data": {
      "text/plain": [
       "array(['PRIVACIÓN DE LA FUNCIÓN, CARGO O COMISIÓN QUE EJERCÍA EL CONDENADO, AUNQUE PROVENGA DE ELECCIÓN POPULAR',\n",
       "       'DESTITUCION - LEY 29988', 'CESE TEMPORAL', 'SUSPENSIÓN',\n",
       "       'INHABILITACION DEFINITIVA - LEY 29988', 'INHABILITACIÓN',\n",
       "       'CONDENAS PENALES POR DELITOS CONTRA LA ADMINISTRACIÓN PUBLICA',\n",
       "       'CONDENA PENAL POR DELITOS ESTABLECIDOS EN LA LEY 29988',\n",
       "       'DESTITUCIÓN',\n",
       "       'INCAPACIDAD DEFINITIVA PARA INGRESAR O REINGRESAR AL SERVICIO DOCENTE O ADMINISTRATIVO EN INSTITUCIONES DE EDUCACIÓN […]',\n",
       "       'INHABILITACION EX SERVIDORES',\n",
       "       'INCAPACIDAD PARA OBTENER MANDATO, CARGO, EMPLEO O COMISIÓN DE CARÁCTER PÚBLICO',\n",
       "       'DESPIDO', 'INHABILITACION', 'RESOLUCION CONTRACTUAL - LEY 29988',\n",
       "       'DESPIDO - LEY 29988', 'SUSPENSIÓN TEMPORAL',\n",
       "       'CESE TEMPORAL - LEY 30220', 'MULTA - RA 227-2009-PJ'],\n",
       "      dtype=object)"
      ]
     },
     "execution_count": 13,
     "metadata": {},
     "output_type": "execute_result"
    }
   ],
   "source": [
    "servir_data[\"CSAS_TIPO\"].unique()"
   ]
  },
  {
   "cell_type": "code",
   "execution_count": null,
   "id": "0abdcd8f-b63a-4f3b-91bd-03b299c44ecf",
   "metadata": {},
   "outputs": [],
   "source": []
  },
  {
   "cell_type": "code",
   "execution_count": null,
   "id": "acec1818-6534-4142-b3e2-c7af0097f836",
   "metadata": {},
   "outputs": [],
   "source": []
  },
  {
   "cell_type": "code",
   "execution_count": null,
   "id": "e5d4e305-8b09-4f34-aa17-e68c6d7401f1",
   "metadata": {},
   "outputs": [],
   "source": []
  },
  {
   "cell_type": "code",
   "execution_count": null,
   "id": "e2cb42fc-62d0-4e70-9103-388de6991037",
   "metadata": {},
   "outputs": [],
   "source": []
  },
  {
   "cell_type": "code",
   "execution_count": null,
   "id": "95ac6bd3-f9dc-40ca-8eae-7da5860577a2",
   "metadata": {},
   "outputs": [],
   "source": []
  }
 ],
 "metadata": {
  "kernelspec": {
   "display_name": "Python 3 (ipykernel)",
   "language": "python",
   "name": "python3"
  },
  "language_info": {
   "codemirror_mode": {
    "name": "ipython",
    "version": 3
   },
   "file_extension": ".py",
   "mimetype": "text/x-python",
   "name": "python",
   "nbconvert_exporter": "python",
   "pygments_lexer": "ipython3",
   "version": "3.10.12"
  }
 },
 "nbformat": 4,
 "nbformat_minor": 5
}
