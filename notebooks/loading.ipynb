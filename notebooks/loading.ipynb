{
 "cells": [
  {
   "cell_type": "code",
   "execution_count": 2,
   "id": "cdb1b302-0faa-4e2b-a3a1-c6e6ce73c1ba",
   "metadata": {},
   "outputs": [],
   "source": [
    "import zipfile\n",
    "import os\n",
    "from io import BytesIO\n",
    "from datetime import datetime\n",
    "\n",
    "import polars as pl\n",
    "import pandas as pd\n",
    "\n",
    "pd.set_option(\"display.max_columns\", None)\n",
    "pd.set_option('display.max_rows', None)"
   ]
  },
  {
   "cell_type": "code",
   "execution_count": 3,
   "id": "1c8a109b-4465-4385-887d-dfeca091a020",
   "metadata": {},
   "outputs": [
    {
     "name": "stdout",
     "output_type": "stream",
     "text": [
      "/home/prueba/cgr_corrupcion/\n"
     ]
    }
   ],
   "source": [
    "BASE_URL = os.environ.get(\"BASE_URL\")\n",
    "print(BASE_URL)"
   ]
  },
  {
   "cell_type": "code",
   "execution_count": 4,
   "id": "fde34617-25c0-40e0-9a2c-b2681d5cf986",
   "metadata": {},
   "outputs": [],
   "source": [
    "# datasets\n",
    "folder_data = BASE_URL + 'data/'\n",
    "\n",
    "datasets = {\n",
    "    'ds_airhsp' : 'DS01_AIRHSP.zip',\n",
    "    'ds_seace' : 'DS02_SEACE.zip',\n",
    "    'ds_siaf' : 'DS03_ORDENES_SIAF.zip',\n",
    "    'ds_empresas' : 'DS04_REPRESENTANTES_EMPRESAS.zip',\n",
    "    'ds_servir' : 'DS05_SANCIONADOS_SERVIR.zip',\n",
    "    'ds_gstos' : 'DS06_GASTOS_EJECUTORA.zip',\n",
    "    'ds_proveedor' : 'DS07_PROVEEDORES_PROYECTOS.zip',\n",
    "    'ds_proyectos' : 'DS07_PROYECTOS_INVERSION.zip',\n",
    "    'ds_inco' : 'DS08_INCO.zip'\n",
    "}"
   ]
  },
  {
   "cell_type": "code",
   "execution_count": 49,
   "id": "1e44571e-25f0-4909-88f7-dab9a41e985b",
   "metadata": {
    "jupyter": {
     "source_hidden": true
    }
   },
   "outputs": [
    {
     "name": "stdout",
     "output_type": "stream",
     "text": [
      "\n",
      "Tamaños de archivos CSV en DS01_AIRHSP.zip:\n",
      "DS01_AIRHSP/AIRHSP_2201.csv: 0.75 GB\n",
      "DS01_AIRHSP/AIRHSP_2202.csv: 0.75 GB\n",
      "DS01_AIRHSP/AIRHSP_2203.csv: 0.75 GB\n",
      "DS01_AIRHSP/AIRHSP_2204.csv: 0.76 GB\n",
      "DS01_AIRHSP/AIRHSP_2205.csv: 0.76 GB\n",
      "DS01_AIRHSP/AIRHSP_2206.csv: 0.76 GB\n",
      "DS01_AIRHSP/AIRHSP_2207.csv: 0.77 GB\n",
      "DS01_AIRHSP/AIRHSP_2208.csv: 0.77 GB\n",
      "DS01_AIRHSP/AIRHSP_2209.csv: 0.77 GB\n",
      "DS01_AIRHSP/AIRHSP_2210.csv: 0.77 GB\n",
      "DS01_AIRHSP/AIRHSP_2211.csv: 0.78 GB\n",
      "DS01_AIRHSP/AIRHSP_2212.csv: 0.78 GB\n",
      "\n",
      "Tamaños de archivos CSV en DS02_SEACE.zip:\n",
      "DS02_SEACE.csv: 0.06 GB\n",
      "\n",
      "Tamaños de archivos CSV en DS03_ORDENES_SIAF.zip:\n",
      "DS03_ORDENES_SIAF/DS03_ORDENESSIAF_2020.csv: 4.16 GB\n",
      "DS03_ORDENES_SIAF/DS03_ORDENESSIAF_2021.csv: 4.82 GB\n",
      "DS03_ORDENES_SIAF/DS03_ORDENESSIAF_2022.csv: 5.40 GB\n",
      "\n",
      "Tamaños de archivos CSV en DS04_REPRESENTANTES_EMPRESAS.zip:\n",
      "DS04_REPRESENTANTES.csv: 3.66 GB\n",
      "\n",
      "Tamaños de archivos CSV en DS05_SANCIONADOS_SERVIR.zip:\n",
      "DS05_SERVIR_SANCIONADOS.csv: 0.01 GB\n",
      "\n",
      "Tamaños de archivos CSV en DS06_GASTOS_EJECUTORA.zip:\n",
      "DS06_GASTOSEJECUTORA.csv: 4.16 GB\n",
      "\n",
      "Tamaños de archivos CSV en DS07_PROVEEDORES_PROYECTOS.zip:\n",
      "DS07_PROVEEDORES_DE_PROYECTOS.csv: 4.91 GB\n",
      "\n",
      "Tamaños de archivos CSV en DS07_PROYECTOS_INVERSION.zip:\n",
      "DS07_PROYECTOSINVERSION/DS07_PROVEEDORES_PROYECTOSINV.csv: 1.26 GB\n",
      "DS07_PROYECTOSINVERSION/DS07_PROYECTOS_INVERSION.csv: 1.45 GB\n",
      "\n",
      "Tamaños de archivos CSV en DS08_INCO.zip:\n"
     ]
    }
   ],
   "source": []
  },
  {
   "cell_type": "code",
   "execution_count": 5,
   "id": "88cd3f01-10c2-4029-9b54-2eddc91a9d86",
   "metadata": {},
   "outputs": [],
   "source": [
    "def get_dataset(id_dataset,id_elem):\n",
    "    archivo_zip = datasets[id_dataset]\n",
    "    ruta_zip = os.path.join(folder_data, archivo_zip)\n",
    "    df = pl.DataFrame()\n",
    "    \n",
    "    with zipfile.ZipFile(ruta_zip, 'r') as zip_ref:\n",
    "        print(f\"\\nTamaños de archivos CSV en {archivo_zip}:\")\n",
    "        # Iterar sobre los archivos dentro del zip\n",
    "        list_archivo = []\n",
    "        for nombre_archivo in zip_ref.namelist():\n",
    "            # Verificar si el archivo es un archivo CSV\n",
    "            \n",
    "            if nombre_archivo.endswith('.csv'):\n",
    "                list_archivo.append(nombre_archivo)\n",
    "            \n",
    "        print(list_archivo)\n",
    "        print(list_archivo[id_elem])\n",
    "        with zip_ref.open(list_archivo[id_elem]) as archivo_csv:\n",
    "            # df = pl.read_csv(archivo_csv, ignore_errors=True)\n",
    "            df = pd.read_csv(archivo_csv)\n",
    "            \n",
    "        # Obtener el tamaño del archivo en bytes\n",
    "        # tamano_bytes = zip_ref.getinfo(nombre_archivo).file_size\n",
    "\n",
    "        # # Convertir el tamaño a megabytes para mayor legibilidad\n",
    "        # tamano_mb = tamano_bytes / (1024 ** 3)\n",
    "\n",
    "        # # Imprimir el nombre del archivo y su tamaño\n",
    "        # print(f'{nombre_archivo}: {tamano_mb:.2f} GB')\n",
    "            # break\n",
    "    return df"
   ]
  },
  {
   "cell_type": "code",
   "execution_count": 6,
   "id": "47f8a5f8-a7e0-4c87-bcee-38c9e26a6b9c",
   "metadata": {},
   "outputs": [],
   "source": [
    "def get_dataset_multiple_files(id_dataset):\n",
    "\n",
    "    archivo_zip = datasets[id_dataset]\n",
    "    ruta_zip = os.path.join(folder_data, archivo_zip)\n",
    "    \n",
    "    # Crear un DataFrame vacío\n",
    "    df = pd.DataFrame()\n",
    "    \n",
    "    with zipfile.ZipFile(ruta_zip, 'r') as zip_ref:\n",
    "        # Iterar sobre los nombres de los archivos en el zip\n",
    "        for nombre_archivo in zip_ref.namelist():\n",
    "            # Verificar si el archivo es un archivo CSV\n",
    "            if nombre_archivo.endswith('.csv'):\n",
    "                # Leer el contenido del archivo CSV\n",
    "                with zip_ref.open(nombre_archivo) as archivo_csv:\n",
    "                    # contenido_csv = archivo_csv.read().decode('utf-8')\n",
    "                    \n",
    "                    # # Utilizar BytesIO para convertir el contenido en un objeto de bytes\n",
    "                    # bytes_io = BytesIO(contenido_csv)\n",
    "                    \n",
    "                    # Leer el DataFrame desde el objeto de bytes\n",
    "                    df_temp = pd.read_csv(archivo_csv)\n",
    "                    \n",
    "                    # Agregar el DataFrame al DataFrame principal\n",
    "                    df = pd.concat([df, df_temp])\n",
    "    \n",
    "    # Imprimir el DataFrame resultante\n",
    "    return df"
   ]
  },
  {
   "cell_type": "code",
   "execution_count": null,
   "id": "cd4d3a6c-ad33-4d45-9d9c-e32bf0131e92",
   "metadata": {},
   "outputs": [],
   "source": []
  },
  {
   "cell_type": "markdown",
   "id": "1e31e704-6ec7-4c14-b6f3-f344cb32397a",
   "metadata": {
    "jp-MarkdownHeadingCollapsed": true
   },
   "source": [
    "### AIRHSP"
   ]
  },
  {
   "cell_type": "code",
   "execution_count": 6,
   "id": "fc82e1f4-2be8-4768-81b8-38d3afcb3e45",
   "metadata": {},
   "outputs": [
    {
     "name": "stdout",
     "output_type": "stream",
     "text": [
      "CPU times: user 4min 18s, sys: 41.1 s, total: 5min\n",
      "Wall time: 5min 4s\n"
     ]
    }
   ],
   "source": [
    "%%time\n",
    "\n",
    "airhsp_data = get_dataset_multiple_files(\"ds_airhsp\")"
   ]
  },
  {
   "cell_type": "code",
   "execution_count": 108,
   "id": "a104b03b-f9ed-485d-99d8-2072a785392b",
   "metadata": {},
   "outputs": [
    {
     "data": {
      "text/plain": [
       "892"
      ]
     },
     "execution_count": 108,
     "metadata": {},
     "output_type": "execute_result"
    }
   ],
   "source": [
    "len(airhsp_data[\"CENT_RUC\"].unique())"
   ]
  },
  {
   "cell_type": "code",
   "execution_count": 7,
   "id": "f8e18bb2-42ed-4113-a737-d705c5a19b2d",
   "metadata": {},
   "outputs": [
    {
     "data": {
      "text/html": [
       "<div>\n",
       "<style scoped>\n",
       "    .dataframe tbody tr th:only-of-type {\n",
       "        vertical-align: middle;\n",
       "    }\n",
       "\n",
       "    .dataframe tbody tr th {\n",
       "        vertical-align: top;\n",
       "    }\n",
       "\n",
       "    .dataframe thead th {\n",
       "        text-align: right;\n",
       "    }\n",
       "</style>\n",
       "<table border=\"1\" class=\"dataframe\">\n",
       "  <thead>\n",
       "    <tr style=\"text-align: right;\">\n",
       "      <th></th>\n",
       "      <th>PERIODO</th>\n",
       "      <th>NTDI_CODIGO</th>\n",
       "      <th>CTDI_DESCRIPCION</th>\n",
       "      <th>NUMERO_DOCUMENTO_A</th>\n",
       "      <th>FECHA_INGRESO</th>\n",
       "      <th>FECHA_CESE</th>\n",
       "      <th>DESC_GRUPO_OCUPACIONAL</th>\n",
       "      <th>DESC_CARGO_ESTRUCTURAL</th>\n",
       "      <th>DESC_CARGO_FUNCIONAL</th>\n",
       "      <th>CENT_RUC</th>\n",
       "      <th>CENT_NOMBRE</th>\n",
       "      <th>OBANT_NIVEL_GOB</th>\n",
       "      <th>OBANT_SECTOR</th>\n",
       "      <th>OBANT_GRUPO_FUNCIONAL</th>\n",
       "      <th>NOMBRE_DEPARTAMENTO</th>\n",
       "      <th>NOMBRE_PROVINCIA</th>\n",
       "      <th>NOMBRE_DISTRITO</th>\n",
       "      <th>CODIGO_ESTABLECIMIENTO</th>\n",
       "      <th>DESC_ESTABLECIMIENTO</th>\n",
       "      <th>TIPO_REGISTRO</th>\n",
       "      <th>DESC_TIPO_REGISTRO</th>\n",
       "      <th>COSTO_PRESUP</th>\n",
       "      <th>INGRESO_IMPONIBLE</th>\n",
       "      <th>CARGA_SOCIAL</th>\n",
       "      <th>INGRESO_NO_IMPONIBLE</th>\n",
       "      <th>INCENTIVO_UNICO</th>\n",
       "      <th>GUARDIA_HOSPITALARIA</th>\n",
       "      <th>ESCOLARIDAD</th>\n",
       "      <th>AGUINALDO</th>\n",
       "      <th>OTROS_OCASIONALES</th>\n",
       "      <th>TOTAL_MENSUAL</th>\n",
       "      <th>TOTAL_OCASIONAL</th>\n",
       "      <th>TOTAL_ANUAL</th>\n",
       "    </tr>\n",
       "  </thead>\n",
       "  <tbody>\n",
       "    <tr>\n",
       "      <th>0</th>\n",
       "      <td>2022-01</td>\n",
       "      <td>1</td>\n",
       "      <td>DNI</td>\n",
       "      <td>10000482</td>\n",
       "      <td>31/12/1999</td>\n",
       "      <td>NaN</td>\n",
       "      <td>Profesorado</td>\n",
       "      <td>Profesor V-40 con Título Pedagógico</td>\n",
       "      <td>No tiene</td>\n",
       "      <td>20393274655</td>\n",
       "      <td>UNIDAD DE GESTIÓN EDUCATIVA LOCAL CORONEL PORT...</td>\n",
       "      <td>GOBIERNO REGIONAL</td>\n",
       "      <td>GOBIERNOS REGIONALES</td>\n",
       "      <td>GOBIERNO REGIONAL</td>\n",
       "      <td>UCAYALI</td>\n",
       "      <td>CORONEL PORTILLO</td>\n",
       "      <td>CALLARIA</td>\n",
       "      <td>70632</td>\n",
       "      <td>EDUCACION CORONEL PORTILLO</td>\n",
       "      <td>2</td>\n",
       "      <td>Pensionistas</td>\n",
       "      <td>1267.68</td>\n",
       "      <td>519.96</td>\n",
       "      <td>0.00</td>\n",
       "      <td>664.39</td>\n",
       "      <td>0.0</td>\n",
       "      <td>0.00</td>\n",
       "      <td>400.0</td>\n",
       "      <td>600.0</td>\n",
       "      <td>0.0</td>\n",
       "      <td>1184.35</td>\n",
       "      <td>1000.0</td>\n",
       "      <td>15212.20</td>\n",
       "    </tr>\n",
       "    <tr>\n",
       "      <th>1</th>\n",
       "      <td>2022-01</td>\n",
       "      <td>1</td>\n",
       "      <td>DNI</td>\n",
       "      <td>10002552</td>\n",
       "      <td>02/01/2004</td>\n",
       "      <td>NaN</td>\n",
       "      <td>Profesionales</td>\n",
       "      <td>Servidor Profesional E</td>\n",
       "      <td>CONTADOR</td>\n",
       "      <td>20195970751</td>\n",
       "      <td>DIRECCIÓN REGIONAL DE EDUCACIÓN UCAYALI</td>\n",
       "      <td>GOBIERNO REGIONAL</td>\n",
       "      <td>GOBIERNOS REGIONALES</td>\n",
       "      <td>GOBIERNO REGIONAL</td>\n",
       "      <td>UCAYALI</td>\n",
       "      <td>CORONEL PORTILLO</td>\n",
       "      <td>CALLARIA</td>\n",
       "      <td>359601</td>\n",
       "      <td>ESUA - EDUARDO MEZA SARAVIA</td>\n",
       "      <td>1</td>\n",
       "      <td>Activos</td>\n",
       "      <td>2262.97</td>\n",
       "      <td>598.98</td>\n",
       "      <td>83.70</td>\n",
       "      <td>350.66</td>\n",
       "      <td>1230.0</td>\n",
       "      <td>0.00</td>\n",
       "      <td>400.0</td>\n",
       "      <td>600.0</td>\n",
       "      <td>0.0</td>\n",
       "      <td>2263.34</td>\n",
       "      <td>1000.0</td>\n",
       "      <td>28160.08</td>\n",
       "    </tr>\n",
       "    <tr>\n",
       "      <th>2</th>\n",
       "      <td>2022-01</td>\n",
       "      <td>1</td>\n",
       "      <td>DNI</td>\n",
       "      <td>10005000</td>\n",
       "      <td>01/09/1984</td>\n",
       "      <td>NaN</td>\n",
       "      <td>Tecnicos</td>\n",
       "      <td>Servidor Tecnico B</td>\n",
       "      <td>TECNICO EN ENFERMERIA I</td>\n",
       "      <td>20198261476</td>\n",
       "      <td>DIRECCIÓN REGIONAL DE SALUD UCAYALI</td>\n",
       "      <td>GOBIERNO REGIONAL</td>\n",
       "      <td>GOBIERNOS REGIONALES</td>\n",
       "      <td>GOBIERNO REGIONAL</td>\n",
       "      <td>UCAYALI</td>\n",
       "      <td>CORONEL PORTILLO</td>\n",
       "      <td>CALLARIA</td>\n",
       "      <td>428678</td>\n",
       "      <td>P.S. I-2 SHIRAMBARI.</td>\n",
       "      <td>1</td>\n",
       "      <td>Activos</td>\n",
       "      <td>3211.88</td>\n",
       "      <td>1382.55</td>\n",
       "      <td>124.43</td>\n",
       "      <td>1312.45</td>\n",
       "      <td>0.0</td>\n",
       "      <td>433.55</td>\n",
       "      <td>400.0</td>\n",
       "      <td>600.0</td>\n",
       "      <td>0.0</td>\n",
       "      <td>3252.98</td>\n",
       "      <td>1000.0</td>\n",
       "      <td>40035.76</td>\n",
       "    </tr>\n",
       "    <tr>\n",
       "      <th>3</th>\n",
       "      <td>2022-01</td>\n",
       "      <td>1</td>\n",
       "      <td>DNI</td>\n",
       "      <td>10008979</td>\n",
       "      <td>14/03/2019</td>\n",
       "      <td>NaN</td>\n",
       "      <td>Reforma Magisterial</td>\n",
       "      <td>Profesor I-30 con Título Pedagógico</td>\n",
       "      <td>PROFESOR</td>\n",
       "      <td>20393274655</td>\n",
       "      <td>UNIDAD DE GESTIÓN EDUCATIVA LOCAL CORONEL PORT...</td>\n",
       "      <td>GOBIERNO REGIONAL</td>\n",
       "      <td>GOBIERNOS REGIONALES</td>\n",
       "      <td>GOBIERNO REGIONAL</td>\n",
       "      <td>UCAYALI</td>\n",
       "      <td>CORONEL PORTILLO</td>\n",
       "      <td>CALLARIA</td>\n",
       "      <td>401196</td>\n",
       "      <td>EBRS - COMERCIO 64</td>\n",
       "      <td>1</td>\n",
       "      <td>Activos</td>\n",
       "      <td>2583.63</td>\n",
       "      <td>1560.20</td>\n",
       "      <td>140.42</td>\n",
       "      <td>940.10</td>\n",
       "      <td>0.0</td>\n",
       "      <td>0.00</td>\n",
       "      <td>400.0</td>\n",
       "      <td>600.0</td>\n",
       "      <td>0.0</td>\n",
       "      <td>2740.72</td>\n",
       "      <td>1000.0</td>\n",
       "      <td>32688.64</td>\n",
       "    </tr>\n",
       "    <tr>\n",
       "      <th>4</th>\n",
       "      <td>2022-01</td>\n",
       "      <td>1</td>\n",
       "      <td>DNI</td>\n",
       "      <td>10011497</td>\n",
       "      <td>NaN</td>\n",
       "      <td>NaN</td>\n",
       "      <td>Sin Grupo Ocupacional</td>\n",
       "      <td>No tiene</td>\n",
       "      <td>No tiene</td>\n",
       "      <td>20254165035</td>\n",
       "      <td>OFICINA DE NORMALIZACIÓN PREVISIONAL - ONP</td>\n",
       "      <td>GOBIERNO NACIONAL</td>\n",
       "      <td>ECONOMÍA Y FINANZAS</td>\n",
       "      <td>ECONOMICA PRODUCTIVA</td>\n",
       "      <td>LIMA</td>\n",
       "      <td>LIMA</td>\n",
       "      <td>LIMA</td>\n",
       "      <td>60036</td>\n",
       "      <td>ONP - HUANUCO</td>\n",
       "      <td>3</td>\n",
       "      <td>Sobrevivientes</td>\n",
       "      <td>385.00</td>\n",
       "      <td>0.00</td>\n",
       "      <td>0.00</td>\n",
       "      <td>385.00</td>\n",
       "      <td>0.0</td>\n",
       "      <td>0.00</td>\n",
       "      <td>0.0</td>\n",
       "      <td>0.0</td>\n",
       "      <td>0.0</td>\n",
       "      <td>385.00</td>\n",
       "      <td>0.0</td>\n",
       "      <td>4620.00</td>\n",
       "    </tr>\n",
       "  </tbody>\n",
       "</table>\n",
       "</div>"
      ],
      "text/plain": [
       "   PERIODO  NTDI_CODIGO CTDI_DESCRIPCION  NUMERO_DOCUMENTO_A FECHA_INGRESO  \\\n",
       "0  2022-01            1              DNI            10000482    31/12/1999   \n",
       "1  2022-01            1              DNI            10002552    02/01/2004   \n",
       "2  2022-01            1              DNI            10005000    01/09/1984   \n",
       "3  2022-01            1              DNI            10008979    14/03/2019   \n",
       "4  2022-01            1              DNI            10011497           NaN   \n",
       "\n",
       "  FECHA_CESE DESC_GRUPO_OCUPACIONAL               DESC_CARGO_ESTRUCTURAL  \\\n",
       "0        NaN            Profesorado  Profesor V-40 con Título Pedagógico   \n",
       "1        NaN          Profesionales               Servidor Profesional E   \n",
       "2        NaN               Tecnicos                   Servidor Tecnico B   \n",
       "3        NaN    Reforma Magisterial  Profesor I-30 con Título Pedagógico   \n",
       "4        NaN  Sin Grupo Ocupacional                             No tiene   \n",
       "\n",
       "      DESC_CARGO_FUNCIONAL     CENT_RUC  \\\n",
       "0                 No tiene  20393274655   \n",
       "1                 CONTADOR  20195970751   \n",
       "2  TECNICO EN ENFERMERIA I  20198261476   \n",
       "3                 PROFESOR  20393274655   \n",
       "4                 No tiene  20254165035   \n",
       "\n",
       "                                         CENT_NOMBRE    OBANT_NIVEL_GOB  \\\n",
       "0  UNIDAD DE GESTIÓN EDUCATIVA LOCAL CORONEL PORT...  GOBIERNO REGIONAL   \n",
       "1            DIRECCIÓN REGIONAL DE EDUCACIÓN UCAYALI  GOBIERNO REGIONAL   \n",
       "2                DIRECCIÓN REGIONAL DE SALUD UCAYALI  GOBIERNO REGIONAL   \n",
       "3  UNIDAD DE GESTIÓN EDUCATIVA LOCAL CORONEL PORT...  GOBIERNO REGIONAL   \n",
       "4         OFICINA DE NORMALIZACIÓN PREVISIONAL - ONP  GOBIERNO NACIONAL   \n",
       "\n",
       "           OBANT_SECTOR OBANT_GRUPO_FUNCIONAL NOMBRE_DEPARTAMENTO  \\\n",
       "0  GOBIERNOS REGIONALES     GOBIERNO REGIONAL             UCAYALI   \n",
       "1  GOBIERNOS REGIONALES     GOBIERNO REGIONAL             UCAYALI   \n",
       "2  GOBIERNOS REGIONALES     GOBIERNO REGIONAL             UCAYALI   \n",
       "3  GOBIERNOS REGIONALES     GOBIERNO REGIONAL             UCAYALI   \n",
       "4   ECONOMÍA Y FINANZAS  ECONOMICA PRODUCTIVA                LIMA   \n",
       "\n",
       "   NOMBRE_PROVINCIA NOMBRE_DISTRITO  CODIGO_ESTABLECIMIENTO  \\\n",
       "0  CORONEL PORTILLO        CALLARIA                   70632   \n",
       "1  CORONEL PORTILLO        CALLARIA                  359601   \n",
       "2  CORONEL PORTILLO        CALLARIA                  428678   \n",
       "3  CORONEL PORTILLO        CALLARIA                  401196   \n",
       "4              LIMA            LIMA                   60036   \n",
       "\n",
       "          DESC_ESTABLECIMIENTO  TIPO_REGISTRO DESC_TIPO_REGISTRO  \\\n",
       "0   EDUCACION CORONEL PORTILLO              2       Pensionistas   \n",
       "1  ESUA - EDUARDO MEZA SARAVIA              1            Activos   \n",
       "2         P.S. I-2 SHIRAMBARI.              1            Activos   \n",
       "3           EBRS - COMERCIO 64              1            Activos   \n",
       "4                ONP - HUANUCO              3     Sobrevivientes   \n",
       "\n",
       "   COSTO_PRESUP  INGRESO_IMPONIBLE  CARGA_SOCIAL  INGRESO_NO_IMPONIBLE  \\\n",
       "0       1267.68             519.96          0.00                664.39   \n",
       "1       2262.97             598.98         83.70                350.66   \n",
       "2       3211.88            1382.55        124.43               1312.45   \n",
       "3       2583.63            1560.20        140.42                940.10   \n",
       "4        385.00               0.00          0.00                385.00   \n",
       "\n",
       "   INCENTIVO_UNICO  GUARDIA_HOSPITALARIA  ESCOLARIDAD  AGUINALDO  \\\n",
       "0              0.0                  0.00        400.0      600.0   \n",
       "1           1230.0                  0.00        400.0      600.0   \n",
       "2              0.0                433.55        400.0      600.0   \n",
       "3              0.0                  0.00        400.0      600.0   \n",
       "4              0.0                  0.00          0.0        0.0   \n",
       "\n",
       "   OTROS_OCASIONALES  TOTAL_MENSUAL  TOTAL_OCASIONAL  TOTAL_ANUAL  \n",
       "0                0.0        1184.35           1000.0     15212.20  \n",
       "1                0.0        2263.34           1000.0     28160.08  \n",
       "2                0.0        3252.98           1000.0     40035.76  \n",
       "3                0.0        2740.72           1000.0     32688.64  \n",
       "4                0.0         385.00              0.0      4620.00  "
      ]
     },
     "execution_count": 7,
     "metadata": {},
     "output_type": "execute_result"
    }
   ],
   "source": [
    "airhsp_data.head()"
   ]
  },
  {
   "cell_type": "code",
   "execution_count": 8,
   "id": "90e55a93-2ba1-46dd-b14f-20af9fd34bf8",
   "metadata": {},
   "outputs": [
    {
     "name": "stdout",
     "output_type": "stream",
     "text": [
      "<class 'pandas.core.frame.DataFrame'>\n",
      "Index: 27641182 entries, 0 to 2355409\n",
      "Data columns (total 33 columns):\n",
      " #   Column                  Dtype  \n",
      "---  ------                  -----  \n",
      " 0   PERIODO                 object \n",
      " 1   NTDI_CODIGO             int64  \n",
      " 2   CTDI_DESCRIPCION        object \n",
      " 3   NUMERO_DOCUMENTO_A      int64  \n",
      " 4   FECHA_INGRESO           object \n",
      " 5   FECHA_CESE              object \n",
      " 6   DESC_GRUPO_OCUPACIONAL  object \n",
      " 7   DESC_CARGO_ESTRUCTURAL  object \n",
      " 8   DESC_CARGO_FUNCIONAL    object \n",
      " 9   CENT_RUC                int64  \n",
      " 10  CENT_NOMBRE             object \n",
      " 11  OBANT_NIVEL_GOB         object \n",
      " 12  OBANT_SECTOR            object \n",
      " 13  OBANT_GRUPO_FUNCIONAL   object \n",
      " 14  NOMBRE_DEPARTAMENTO     object \n",
      " 15  NOMBRE_PROVINCIA        object \n",
      " 16  NOMBRE_DISTRITO         object \n",
      " 17  CODIGO_ESTABLECIMIENTO  int64  \n",
      " 18  DESC_ESTABLECIMIENTO    object \n",
      " 19  TIPO_REGISTRO           int64  \n",
      " 20  DESC_TIPO_REGISTRO      object \n",
      " 21  COSTO_PRESUP            float64\n",
      " 22  INGRESO_IMPONIBLE       float64\n",
      " 23  CARGA_SOCIAL            float64\n",
      " 24  INGRESO_NO_IMPONIBLE    float64\n",
      " 25  INCENTIVO_UNICO         float64\n",
      " 26  GUARDIA_HOSPITALARIA    float64\n",
      " 27  ESCOLARIDAD             float64\n",
      " 28  AGUINALDO               float64\n",
      " 29  OTROS_OCASIONALES       float64\n",
      " 30  TOTAL_MENSUAL           float64\n",
      " 31  TOTAL_OCASIONAL         float64\n",
      " 32  TOTAL_ANUAL             float64\n",
      "dtypes: float64(12), int64(5), object(16)\n",
      "memory usage: 7.0+ GB\n"
     ]
    }
   ],
   "source": [
    "airhsp_data.info()"
   ]
  },
  {
   "cell_type": "code",
   "execution_count": 60,
   "id": "9c7dd565-c37d-4ef8-9f2a-24146db7ec43",
   "metadata": {},
   "outputs": [
    {
     "data": {
      "text/plain": [
       "array([nan, '31/01/2022', '31/12/2021', ..., '04/01/2012', '18/04/2018',\n",
       "       '11/11/2018'], dtype=object)"
      ]
     },
     "execution_count": 60,
     "metadata": {},
     "output_type": "execute_result"
    }
   ],
   "source": [
    "airhsp_data[\"FECHA_CESE\"].unique()"
   ]
  },
  {
   "cell_type": "code",
   "execution_count": 252,
   "id": "1c09eaac-df4a-48db-b6db-472fcb23cfaa",
   "metadata": {},
   "outputs": [
    {
     "data": {
      "text/plain": [
       "array(['Pensionistas', 'Activos', 'Sobrevivientes',\n",
       "       'Contrato Administrativo de Servicios', 'CPMP',\n",
       "       'Modalidad Formativa', 'Convenio de Administración',\n",
       "       'Palmas Magisteriales', 'Promotoras'], dtype=object)"
      ]
     },
     "execution_count": 252,
     "metadata": {},
     "output_type": "execute_result"
    }
   ],
   "source": [
    "airhsp_data[\"DESC_TIPO_REGISTRO\"].unique()"
   ]
  },
  {
   "cell_type": "code",
   "execution_count": 253,
   "id": "a7ad4de0-3d8a-4739-b960-32c99ae8f5aa",
   "metadata": {},
   "outputs": [
    {
     "data": {
      "text/plain": [
       "array(['2022-01', '2022-02', '2022-03', '2022-04', '2022-05', '2022-06',\n",
       "       '2022-07', '2022-08', '2022-09', '2022-10', '2022-11', '2022-12'],\n",
       "      dtype=object)"
      ]
     },
     "execution_count": 253,
     "metadata": {},
     "output_type": "execute_result"
    }
   ],
   "source": [
    "airhsp_data[\"PERIODO\"].unique()"
   ]
  },
  {
   "cell_type": "code",
   "execution_count": 29,
   "id": "c0c0841f-eee3-4c25-af59-ef3ddc7904e8",
   "metadata": {},
   "outputs": [
    {
     "data": {
      "text/html": [
       "<div>\n",
       "<style scoped>\n",
       "    .dataframe tbody tr th:only-of-type {\n",
       "        vertical-align: middle;\n",
       "    }\n",
       "\n",
       "    .dataframe tbody tr th {\n",
       "        vertical-align: top;\n",
       "    }\n",
       "\n",
       "    .dataframe thead th {\n",
       "        text-align: right;\n",
       "    }\n",
       "</style>\n",
       "<table border=\"1\" class=\"dataframe\">\n",
       "  <thead>\n",
       "    <tr style=\"text-align: right;\">\n",
       "      <th></th>\n",
       "      <th>PERIODO</th>\n",
       "      <th>NTDI_CODIGO</th>\n",
       "      <th>CTDI_DESCRIPCION</th>\n",
       "      <th>NUMERO_DOCUMENTO_A</th>\n",
       "      <th>FECHA_INGRESO</th>\n",
       "      <th>FECHA_CESE</th>\n",
       "      <th>DESC_GRUPO_OCUPACIONAL</th>\n",
       "      <th>DESC_CARGO_ESTRUCTURAL</th>\n",
       "      <th>DESC_CARGO_FUNCIONAL</th>\n",
       "      <th>CENT_RUC</th>\n",
       "      <th>CENT_NOMBRE</th>\n",
       "      <th>OBANT_NIVEL_GOB</th>\n",
       "      <th>OBANT_SECTOR</th>\n",
       "      <th>OBANT_GRUPO_FUNCIONAL</th>\n",
       "      <th>NOMBRE_DEPARTAMENTO</th>\n",
       "      <th>NOMBRE_PROVINCIA</th>\n",
       "      <th>NOMBRE_DISTRITO</th>\n",
       "      <th>CODIGO_ESTABLECIMIENTO</th>\n",
       "      <th>DESC_ESTABLECIMIENTO</th>\n",
       "      <th>TIPO_REGISTRO</th>\n",
       "      <th>DESC_TIPO_REGISTRO</th>\n",
       "      <th>COSTO_PRESUP</th>\n",
       "      <th>INGRESO_IMPONIBLE</th>\n",
       "      <th>CARGA_SOCIAL</th>\n",
       "      <th>INGRESO_NO_IMPONIBLE</th>\n",
       "      <th>INCENTIVO_UNICO</th>\n",
       "      <th>GUARDIA_HOSPITALARIA</th>\n",
       "      <th>ESCOLARIDAD</th>\n",
       "      <th>AGUINALDO</th>\n",
       "      <th>OTROS_OCASIONALES</th>\n",
       "      <th>TOTAL_MENSUAL</th>\n",
       "      <th>TOTAL_OCASIONAL</th>\n",
       "      <th>TOTAL_ANUAL</th>\n",
       "    </tr>\n",
       "  </thead>\n",
       "  <tbody>\n",
       "    <tr>\n",
       "      <th>1216</th>\n",
       "      <td>2022-01</td>\n",
       "      <td>1</td>\n",
       "      <td>DNI</td>\n",
       "      <td>18881475</td>\n",
       "      <td>13/07/2015</td>\n",
       "      <td>31/01/2022</td>\n",
       "      <td>Tecnicos</td>\n",
       "      <td>No tiene</td>\n",
       "      <td>ASISTENTE ADMINISTRATIVO</td>\n",
       "      <td>20530099645</td>\n",
       "      <td>MINISTERIO PUBLICO- GERENCIA ADMNINISTRATIVA D...</td>\n",
       "      <td>GOBIERNO NACIONAL</td>\n",
       "      <td>MINISTERIO PÚBLICO</td>\n",
       "      <td>ORG. CONST. AUTONOMO</td>\n",
       "      <td>PIURA</td>\n",
       "      <td>PIURA</td>\n",
       "      <td>PIURA</td>\n",
       "      <td>71373</td>\n",
       "      <td>MINISTERIO PUBLICO- GERENCIA ADMINISTRATIVA DE...</td>\n",
       "      <td>4</td>\n",
       "      <td>Contrato Administrativo de Servicios</td>\n",
       "      <td>1350.00</td>\n",
       "      <td>1300.00</td>\n",
       "      <td>108.00</td>\n",
       "      <td>0.00</td>\n",
       "      <td>0.0</td>\n",
       "      <td>0.0</td>\n",
       "      <td>0.0</td>\n",
       "      <td>600.0</td>\n",
       "      <td>0.0</td>\n",
       "      <td>1408.00</td>\n",
       "      <td>600.0</td>\n",
       "      <td>17496.00</td>\n",
       "    </tr>\n",
       "    <tr>\n",
       "      <th>1590</th>\n",
       "      <td>2022-01</td>\n",
       "      <td>1</td>\n",
       "      <td>DNI</td>\n",
       "      <td>27825389</td>\n",
       "      <td>01/01/2021</td>\n",
       "      <td>31/12/2021</td>\n",
       "      <td>Reforma Magisterial</td>\n",
       "      <td>Profesor V-30 con Título Pedagógico</td>\n",
       "      <td>PROFESOR</td>\n",
       "      <td>20316055631</td>\n",
       "      <td>UNIDAD DE GESTIÓN EDUCATIVA LOCAL SULLANA - UG...</td>\n",
       "      <td>GOBIERNO REGIONAL</td>\n",
       "      <td>GOBIERNOS REGIONALES</td>\n",
       "      <td>GOBIERNO REGIONAL</td>\n",
       "      <td>PIURA</td>\n",
       "      <td>SULLANA</td>\n",
       "      <td>SULLANA</td>\n",
       "      <td>355202</td>\n",
       "      <td>EBRP - 14794 MARIA INMAC. CONCEPCION</td>\n",
       "      <td>1</td>\n",
       "      <td>Activos</td>\n",
       "      <td>3683.78</td>\n",
       "      <td>2340.29</td>\n",
       "      <td>210.63</td>\n",
       "      <td>1260.16</td>\n",
       "      <td>0.0</td>\n",
       "      <td>0.0</td>\n",
       "      <td>400.0</td>\n",
       "      <td>600.0</td>\n",
       "      <td>0.0</td>\n",
       "      <td>3811.08</td>\n",
       "      <td>1000.0</td>\n",
       "      <td>46732.96</td>\n",
       "    </tr>\n",
       "    <tr>\n",
       "      <th>1795</th>\n",
       "      <td>2022-01</td>\n",
       "      <td>1</td>\n",
       "      <td>DNI</td>\n",
       "      <td>36790679</td>\n",
       "      <td>06/06/1984</td>\n",
       "      <td>11/06/2021</td>\n",
       "      <td>Reforma Magisterial</td>\n",
       "      <td>Profesor I-30 con Título Pedagógico</td>\n",
       "      <td>PROFESOR</td>\n",
       "      <td>20364513276</td>\n",
       "      <td>UNIDAD DE GESTIÓN EDUCATIVA LOCAL 13 YAUYOS - ...</td>\n",
       "      <td>GOBIERNO REGIONAL</td>\n",
       "      <td>GOBIERNOS REGIONALES</td>\n",
       "      <td>GOBIERNO REGIONAL</td>\n",
       "      <td>LIMA</td>\n",
       "      <td>YAUYOS</td>\n",
       "      <td>YAUYOS</td>\n",
       "      <td>375238</td>\n",
       "      <td>EBRP - 20730 JUAN DE LA MATA MICHUY R.</td>\n",
       "      <td>1</td>\n",
       "      <td>Activos</td>\n",
       "      <td>2983.63</td>\n",
       "      <td>1560.20</td>\n",
       "      <td>140.42</td>\n",
       "      <td>1340.10</td>\n",
       "      <td>0.0</td>\n",
       "      <td>0.0</td>\n",
       "      <td>400.0</td>\n",
       "      <td>600.0</td>\n",
       "      <td>0.0</td>\n",
       "      <td>3540.72</td>\n",
       "      <td>1000.0</td>\n",
       "      <td>37488.64</td>\n",
       "    </tr>\n",
       "    <tr>\n",
       "      <th>1796</th>\n",
       "      <td>2022-01</td>\n",
       "      <td>1</td>\n",
       "      <td>DNI</td>\n",
       "      <td>36790679</td>\n",
       "      <td>06/06/1984</td>\n",
       "      <td>31/12/2012</td>\n",
       "      <td>Reforma Magisterial</td>\n",
       "      <td>Profesor I-30 con Título Pedagógico</td>\n",
       "      <td>PROFESOR</td>\n",
       "      <td>20364513276</td>\n",
       "      <td>UNIDAD DE GESTIÓN EDUCATIVA LOCAL 13 YAUYOS - ...</td>\n",
       "      <td>GOBIERNO REGIONAL</td>\n",
       "      <td>GOBIERNOS REGIONALES</td>\n",
       "      <td>GOBIERNO REGIONAL</td>\n",
       "      <td>LIMA</td>\n",
       "      <td>YAUYOS</td>\n",
       "      <td>YAUYOS</td>\n",
       "      <td>375238</td>\n",
       "      <td>EBRP - 20730 JUAN DE LA MATA MICHUY R.</td>\n",
       "      <td>1</td>\n",
       "      <td>Activos</td>\n",
       "      <td>2983.63</td>\n",
       "      <td>1560.20</td>\n",
       "      <td>140.42</td>\n",
       "      <td>1340.10</td>\n",
       "      <td>0.0</td>\n",
       "      <td>0.0</td>\n",
       "      <td>400.0</td>\n",
       "      <td>600.0</td>\n",
       "      <td>0.0</td>\n",
       "      <td>3540.72</td>\n",
       "      <td>1000.0</td>\n",
       "      <td>37488.64</td>\n",
       "    </tr>\n",
       "    <tr>\n",
       "      <th>2389</th>\n",
       "      <td>2022-01</td>\n",
       "      <td>1</td>\n",
       "      <td>DNI</td>\n",
       "      <td>11073816</td>\n",
       "      <td>30/04/1991</td>\n",
       "      <td>31/12/2012</td>\n",
       "      <td>Reforma Magisterial</td>\n",
       "      <td>Profesor IV-30 con Título Pedagógico</td>\n",
       "      <td>PROFESOR</td>\n",
       "      <td>20331166830</td>\n",
       "      <td>UNIDAD DE GESTIÓN EDUCATIVA LOCAL 05</td>\n",
       "      <td>GOBIERNO NACIONAL</td>\n",
       "      <td>EDUCACIÓN</td>\n",
       "      <td>SOCIAL Y CULTURA</td>\n",
       "      <td>LIMA</td>\n",
       "      <td>LIMA</td>\n",
       "      <td>SAN JUAN DE LURIGANCHO</td>\n",
       "      <td>335605</td>\n",
       "      <td>EBRP - 114 VIRGEN DE CHAPI</td>\n",
       "      <td>1</td>\n",
       "      <td>Activos</td>\n",
       "      <td>3203.72</td>\n",
       "      <td>2028.25</td>\n",
       "      <td>182.54</td>\n",
       "      <td>1092.14</td>\n",
       "      <td>0.0</td>\n",
       "      <td>0.0</td>\n",
       "      <td>400.0</td>\n",
       "      <td>600.0</td>\n",
       "      <td>0.0</td>\n",
       "      <td>3302.93</td>\n",
       "      <td>1000.0</td>\n",
       "      <td>40635.16</td>\n",
       "    </tr>\n",
       "  </tbody>\n",
       "</table>\n",
       "</div>"
      ],
      "text/plain": [
       "      PERIODO  NTDI_CODIGO CTDI_DESCRIPCION  NUMERO_DOCUMENTO_A FECHA_INGRESO  \\\n",
       "1216  2022-01            1              DNI            18881475    13/07/2015   \n",
       "1590  2022-01            1              DNI            27825389    01/01/2021   \n",
       "1795  2022-01            1              DNI            36790679    06/06/1984   \n",
       "1796  2022-01            1              DNI            36790679    06/06/1984   \n",
       "2389  2022-01            1              DNI            11073816    30/04/1991   \n",
       "\n",
       "      FECHA_CESE DESC_GRUPO_OCUPACIONAL                DESC_CARGO_ESTRUCTURAL  \\\n",
       "1216  31/01/2022               Tecnicos                              No tiene   \n",
       "1590  31/12/2021    Reforma Magisterial   Profesor V-30 con Título Pedagógico   \n",
       "1795  11/06/2021    Reforma Magisterial   Profesor I-30 con Título Pedagógico   \n",
       "1796  31/12/2012    Reforma Magisterial   Profesor I-30 con Título Pedagógico   \n",
       "2389  31/12/2012    Reforma Magisterial  Profesor IV-30 con Título Pedagógico   \n",
       "\n",
       "          DESC_CARGO_FUNCIONAL     CENT_RUC  \\\n",
       "1216  ASISTENTE ADMINISTRATIVO  20530099645   \n",
       "1590                  PROFESOR  20316055631   \n",
       "1795                  PROFESOR  20364513276   \n",
       "1796                  PROFESOR  20364513276   \n",
       "2389                  PROFESOR  20331166830   \n",
       "\n",
       "                                            CENT_NOMBRE    OBANT_NIVEL_GOB  \\\n",
       "1216  MINISTERIO PUBLICO- GERENCIA ADMNINISTRATIVA D...  GOBIERNO NACIONAL   \n",
       "1590  UNIDAD DE GESTIÓN EDUCATIVA LOCAL SULLANA - UG...  GOBIERNO REGIONAL   \n",
       "1795  UNIDAD DE GESTIÓN EDUCATIVA LOCAL 13 YAUYOS - ...  GOBIERNO REGIONAL   \n",
       "1796  UNIDAD DE GESTIÓN EDUCATIVA LOCAL 13 YAUYOS - ...  GOBIERNO REGIONAL   \n",
       "2389               UNIDAD DE GESTIÓN EDUCATIVA LOCAL 05  GOBIERNO NACIONAL   \n",
       "\n",
       "              OBANT_SECTOR OBANT_GRUPO_FUNCIONAL NOMBRE_DEPARTAMENTO  \\\n",
       "1216    MINISTERIO PÚBLICO  ORG. CONST. AUTONOMO               PIURA   \n",
       "1590  GOBIERNOS REGIONALES     GOBIERNO REGIONAL               PIURA   \n",
       "1795  GOBIERNOS REGIONALES     GOBIERNO REGIONAL                LIMA   \n",
       "1796  GOBIERNOS REGIONALES     GOBIERNO REGIONAL                LIMA   \n",
       "2389             EDUCACIÓN      SOCIAL Y CULTURA                LIMA   \n",
       "\n",
       "     NOMBRE_PROVINCIA         NOMBRE_DISTRITO  CODIGO_ESTABLECIMIENTO  \\\n",
       "1216            PIURA                   PIURA                   71373   \n",
       "1590          SULLANA                 SULLANA                  355202   \n",
       "1795           YAUYOS                  YAUYOS                  375238   \n",
       "1796           YAUYOS                  YAUYOS                  375238   \n",
       "2389             LIMA  SAN JUAN DE LURIGANCHO                  335605   \n",
       "\n",
       "                                   DESC_ESTABLECIMIENTO  TIPO_REGISTRO  \\\n",
       "1216  MINISTERIO PUBLICO- GERENCIA ADMINISTRATIVA DE...              4   \n",
       "1590               EBRP - 14794 MARIA INMAC. CONCEPCION              1   \n",
       "1795             EBRP - 20730 JUAN DE LA MATA MICHUY R.              1   \n",
       "1796             EBRP - 20730 JUAN DE LA MATA MICHUY R.              1   \n",
       "2389                         EBRP - 114 VIRGEN DE CHAPI              1   \n",
       "\n",
       "                        DESC_TIPO_REGISTRO  COSTO_PRESUP  INGRESO_IMPONIBLE  \\\n",
       "1216  Contrato Administrativo de Servicios       1350.00            1300.00   \n",
       "1590                               Activos       3683.78            2340.29   \n",
       "1795                               Activos       2983.63            1560.20   \n",
       "1796                               Activos       2983.63            1560.20   \n",
       "2389                               Activos       3203.72            2028.25   \n",
       "\n",
       "      CARGA_SOCIAL  INGRESO_NO_IMPONIBLE  INCENTIVO_UNICO  \\\n",
       "1216        108.00                  0.00              0.0   \n",
       "1590        210.63               1260.16              0.0   \n",
       "1795        140.42               1340.10              0.0   \n",
       "1796        140.42               1340.10              0.0   \n",
       "2389        182.54               1092.14              0.0   \n",
       "\n",
       "      GUARDIA_HOSPITALARIA  ESCOLARIDAD  AGUINALDO  OTROS_OCASIONALES  \\\n",
       "1216                   0.0          0.0      600.0                0.0   \n",
       "1590                   0.0        400.0      600.0                0.0   \n",
       "1795                   0.0        400.0      600.0                0.0   \n",
       "1796                   0.0        400.0      600.0                0.0   \n",
       "2389                   0.0        400.0      600.0                0.0   \n",
       "\n",
       "      TOTAL_MENSUAL  TOTAL_OCASIONAL  TOTAL_ANUAL  \n",
       "1216        1408.00            600.0     17496.00  \n",
       "1590        3811.08           1000.0     46732.96  \n",
       "1795        3540.72           1000.0     37488.64  \n",
       "1796        3540.72           1000.0     37488.64  \n",
       "2389        3302.93           1000.0     40635.16  "
      ]
     },
     "execution_count": 29,
     "metadata": {},
     "output_type": "execute_result"
    }
   ],
   "source": [
    "airhsp_data[~airhsp_data[\"FECHA_CESE\"].isna()].head()"
   ]
  },
  {
   "cell_type": "markdown",
   "id": "8c2d1fff-f10c-4ef2-bd93-1a139c308b8c",
   "metadata": {},
   "source": [
    "##### TRABAJADORES"
   ]
  },
  {
   "cell_type": "code",
   "execution_count": 8,
   "id": "f92bbaed-3a0d-414e-98c9-509b86fccf1a",
   "metadata": {},
   "outputs": [],
   "source": [
    "master_workers = pd.DataFrame()"
   ]
  },
  {
   "cell_type": "code",
   "execution_count": 346,
   "id": "cea2b376-6b99-41fb-bf24-9ff62b3c5fe0",
   "metadata": {},
   "outputs": [],
   "source": [
    "%%time\n",
    "# employee_data = airhsp_data[(airhsp_data[\"NUMERO_DOCUMENTO_A\"]==10000482) | (airhsp_data[\"NUMERO_DOCUMENTO_A\"]==18881475)]\n",
    "employee_data = airhsp_data.copy()"
   ]
  },
  {
   "cell_type": "code",
   "execution_count": 270,
   "id": "d0b9f5b7-6ae5-4bd1-b258-a8590be8ab5f",
   "metadata": {},
   "outputs": [],
   "source": [
    "# employee_data.iloc[9429,:]\n",
    "# employee_data[\"FECHA_INGRESO\"] = employee_data[\"FECHA_INGRESO\"].apply(lambda x: \"15/11/2015\" if x ==\"15/11/5015\" else x)\n",
    "# employee_data[\"FECHA_INGRESO\"] = employee_data[\"FECHA_INGRESO\"].apply(lambda x: \"02/01/2021\" if x ==\"02/01/202\" else x)"
   ]
  },
  {
   "cell_type": "code",
   "execution_count": 271,
   "id": "0500aaf6-9b7b-4cd3-bc0a-904c0681f483",
   "metadata": {},
   "outputs": [],
   "source": [
    "# %%time\n",
    "# employee_data[\"FECHA_INGRESO\"] = pd.to_datetime(employee_data['FECHA_INGRESO'], dayfirst=True)\n",
    "# employee_data[\"FECHA_CESE\"] = pd.to_datetime(employee_data['FECHA_CESE'], dayfirst=True)\n",
    "# employee_data.loc[:,\"FECHA_INGRESO\"] = pd.to_datetime(employee_data[\"FECHA_INGRESO\"], format='%d/%m/%Y')"
   ]
  },
  {
   "cell_type": "code",
   "execution_count": 243,
   "id": "876082fa-a37d-460d-b409-32ff20289eb1",
   "metadata": {},
   "outputs": [],
   "source": [
    "# # Obtener la fecha de hoy\n",
    "# date_today = datetime.now().replace(hour=0, minute=0, second=0, microsecond=0)\n",
    "\n",
    "# # Reemplazar los valores nulos con la fecha de hoy\n",
    "# employee_data['FECHA_CESE'].fillna(date_today, inplace=True)"
   ]
  },
  {
   "cell_type": "code",
   "execution_count": 9,
   "id": "81664b31-4c77-468b-a7ad-96928dd8ab70",
   "metadata": {},
   "outputs": [
    {
     "name": "stdout",
     "output_type": "stream",
     "text": [
      "CPU times: user 3min 48s, sys: 30 s, total: 4min 18s\n",
      "Wall time: 4min 21s\n"
     ]
    }
   ],
   "source": [
    "%%time\n",
    "\n",
    "airhsp_data = airhsp_data.drop_duplicates().reset_index(drop=True) # 2166"
   ]
  },
  {
   "cell_type": "code",
   "execution_count": 10,
   "id": "51979f34-6d3f-4586-a0d4-36feb71dbca3",
   "metadata": {},
   "outputs": [],
   "source": [
    "airhsp_data[\"PERIODO\"] = pd.to_datetime(airhsp_data['PERIODO'], format='%Y-%m')"
   ]
  },
  {
   "cell_type": "code",
   "execution_count": 11,
   "id": "900ae33e-0f25-4e85-8a12-053ff14de705",
   "metadata": {},
   "outputs": [
    {
     "data": {
      "text/plain": [
       "<DatetimeArray>\n",
       "['2022-01-01 00:00:00', '2022-02-01 00:00:00', '2022-03-01 00:00:00',\n",
       " '2022-04-01 00:00:00', '2022-05-01 00:00:00', '2022-06-01 00:00:00',\n",
       " '2022-07-01 00:00:00', '2022-08-01 00:00:00', '2022-09-01 00:00:00',\n",
       " '2022-10-01 00:00:00', '2022-11-01 00:00:00', '2022-12-01 00:00:00']\n",
       "Length: 12, dtype: datetime64[ns]"
      ]
     },
     "execution_count": 11,
     "metadata": {},
     "output_type": "execute_result"
    }
   ],
   "source": [
    "airhsp_data[\"PERIODO\"].unique()"
   ]
  },
  {
   "cell_type": "code",
   "execution_count": 12,
   "id": "240c4cc1-fb98-4751-91de-78ee55b282f2",
   "metadata": {},
   "outputs": [
    {
     "data": {
      "text/html": [
       "<div>\n",
       "<style scoped>\n",
       "    .dataframe tbody tr th:only-of-type {\n",
       "        vertical-align: middle;\n",
       "    }\n",
       "\n",
       "    .dataframe tbody tr th {\n",
       "        vertical-align: top;\n",
       "    }\n",
       "\n",
       "    .dataframe thead th {\n",
       "        text-align: right;\n",
       "    }\n",
       "</style>\n",
       "<table border=\"1\" class=\"dataframe\">\n",
       "  <thead>\n",
       "    <tr style=\"text-align: right;\">\n",
       "      <th></th>\n",
       "      <th>PERIODO</th>\n",
       "      <th>NTDI_CODIGO</th>\n",
       "      <th>CTDI_DESCRIPCION</th>\n",
       "      <th>NUMERO_DOCUMENTO_A</th>\n",
       "      <th>FECHA_INGRESO</th>\n",
       "      <th>FECHA_CESE</th>\n",
       "      <th>DESC_GRUPO_OCUPACIONAL</th>\n",
       "      <th>DESC_CARGO_ESTRUCTURAL</th>\n",
       "      <th>DESC_CARGO_FUNCIONAL</th>\n",
       "      <th>CENT_RUC</th>\n",
       "      <th>CENT_NOMBRE</th>\n",
       "      <th>OBANT_NIVEL_GOB</th>\n",
       "      <th>OBANT_SECTOR</th>\n",
       "      <th>OBANT_GRUPO_FUNCIONAL</th>\n",
       "      <th>NOMBRE_DEPARTAMENTO</th>\n",
       "      <th>NOMBRE_PROVINCIA</th>\n",
       "      <th>NOMBRE_DISTRITO</th>\n",
       "      <th>CODIGO_ESTABLECIMIENTO</th>\n",
       "      <th>DESC_ESTABLECIMIENTO</th>\n",
       "      <th>TIPO_REGISTRO</th>\n",
       "      <th>DESC_TIPO_REGISTRO</th>\n",
       "      <th>COSTO_PRESUP</th>\n",
       "      <th>INGRESO_IMPONIBLE</th>\n",
       "      <th>CARGA_SOCIAL</th>\n",
       "      <th>INGRESO_NO_IMPONIBLE</th>\n",
       "      <th>INCENTIVO_UNICO</th>\n",
       "      <th>GUARDIA_HOSPITALARIA</th>\n",
       "      <th>ESCOLARIDAD</th>\n",
       "      <th>AGUINALDO</th>\n",
       "      <th>OTROS_OCASIONALES</th>\n",
       "      <th>TOTAL_MENSUAL</th>\n",
       "      <th>TOTAL_OCASIONAL</th>\n",
       "      <th>TOTAL_ANUAL</th>\n",
       "    </tr>\n",
       "  </thead>\n",
       "  <tbody>\n",
       "    <tr>\n",
       "      <th>27639014</th>\n",
       "      <td>2022-12-01</td>\n",
       "      <td>1</td>\n",
       "      <td>DNI</td>\n",
       "      <td>14251973</td>\n",
       "      <td>31/12/2015</td>\n",
       "      <td>NaN</td>\n",
       "      <td>Tecnicos</td>\n",
       "      <td>Servidor Tecnico C</td>\n",
       "      <td>TECNICO EN ENFERMERIA I</td>\n",
       "      <td>20602251641</td>\n",
       "      <td>DIRECCION DE REDES INTEGRADAS DE SALUD LIMA SUR</td>\n",
       "      <td>GOBIERNO NACIONAL</td>\n",
       "      <td>SALUD</td>\n",
       "      <td>SOCIAL Y CULTURA</td>\n",
       "      <td>LIMA</td>\n",
       "      <td>LIMA</td>\n",
       "      <td>VILLA EL SALVADOR</td>\n",
       "      <td>423863</td>\n",
       "      <td>C.S. I-4 JOSE GALVEZ</td>\n",
       "      <td>1</td>\n",
       "      <td>Activos</td>\n",
       "      <td>3118.33</td>\n",
       "      <td>1603.55</td>\n",
       "      <td>161.61</td>\n",
       "      <td>1431.45</td>\n",
       "      <td>0.0</td>\n",
       "      <td>0.0</td>\n",
       "      <td>400.0</td>\n",
       "      <td>600.0</td>\n",
       "      <td>0.0</td>\n",
       "      <td>3196.61</td>\n",
       "      <td>1000.0</td>\n",
       "      <td>39359.32</td>\n",
       "    </tr>\n",
       "    <tr>\n",
       "      <th>27639015</th>\n",
       "      <td>2022-12-01</td>\n",
       "      <td>1</td>\n",
       "      <td>DNI</td>\n",
       "      <td>13290525</td>\n",
       "      <td>24/04/2016</td>\n",
       "      <td>NaN</td>\n",
       "      <td>Profesionales de la Salud</td>\n",
       "      <td>No tiene</td>\n",
       "      <td>ENFERMERA/O</td>\n",
       "      <td>20602251641</td>\n",
       "      <td>DIRECCION DE REDES INTEGRADAS DE SALUD LIMA SUR</td>\n",
       "      <td>GOBIERNO NACIONAL</td>\n",
       "      <td>SALUD</td>\n",
       "      <td>SOCIAL Y CULTURA</td>\n",
       "      <td>LIMA</td>\n",
       "      <td>LIMA</td>\n",
       "      <td>VILLA EL SALVADOR</td>\n",
       "      <td>416059</td>\n",
       "      <td>UE 1685 REDES INTEGRADAS DE SALUD LIMA SUR</td>\n",
       "      <td>4</td>\n",
       "      <td>Contrato Administrativo de Servicios</td>\n",
       "      <td>2289.00</td>\n",
       "      <td>2239.00</td>\n",
       "      <td>186.30</td>\n",
       "      <td>0.00</td>\n",
       "      <td>0.0</td>\n",
       "      <td>0.0</td>\n",
       "      <td>0.0</td>\n",
       "      <td>600.0</td>\n",
       "      <td>0.0</td>\n",
       "      <td>2425.30</td>\n",
       "      <td>600.0</td>\n",
       "      <td>29703.60</td>\n",
       "    </tr>\n",
       "  </tbody>\n",
       "</table>\n",
       "</div>"
      ],
      "text/plain": [
       "            PERIODO  NTDI_CODIGO CTDI_DESCRIPCION  NUMERO_DOCUMENTO_A  \\\n",
       "27639014 2022-12-01            1              DNI            14251973   \n",
       "27639015 2022-12-01            1              DNI            13290525   \n",
       "\n",
       "         FECHA_INGRESO FECHA_CESE     DESC_GRUPO_OCUPACIONAL  \\\n",
       "27639014    31/12/2015        NaN                   Tecnicos   \n",
       "27639015    24/04/2016        NaN  Profesionales de la Salud   \n",
       "\n",
       "         DESC_CARGO_ESTRUCTURAL     DESC_CARGO_FUNCIONAL     CENT_RUC  \\\n",
       "27639014     Servidor Tecnico C  TECNICO EN ENFERMERIA I  20602251641   \n",
       "27639015               No tiene              ENFERMERA/O  20602251641   \n",
       "\n",
       "                                              CENT_NOMBRE    OBANT_NIVEL_GOB  \\\n",
       "27639014  DIRECCION DE REDES INTEGRADAS DE SALUD LIMA SUR  GOBIERNO NACIONAL   \n",
       "27639015  DIRECCION DE REDES INTEGRADAS DE SALUD LIMA SUR  GOBIERNO NACIONAL   \n",
       "\n",
       "         OBANT_SECTOR OBANT_GRUPO_FUNCIONAL NOMBRE_DEPARTAMENTO  \\\n",
       "27639014        SALUD      SOCIAL Y CULTURA                LIMA   \n",
       "27639015        SALUD      SOCIAL Y CULTURA                LIMA   \n",
       "\n",
       "         NOMBRE_PROVINCIA    NOMBRE_DISTRITO  CODIGO_ESTABLECIMIENTO  \\\n",
       "27639014             LIMA  VILLA EL SALVADOR                  423863   \n",
       "27639015             LIMA  VILLA EL SALVADOR                  416059   \n",
       "\n",
       "                                DESC_ESTABLECIMIENTO  TIPO_REGISTRO  \\\n",
       "27639014                        C.S. I-4 JOSE GALVEZ              1   \n",
       "27639015  UE 1685 REDES INTEGRADAS DE SALUD LIMA SUR              4   \n",
       "\n",
       "                            DESC_TIPO_REGISTRO  COSTO_PRESUP  \\\n",
       "27639014                               Activos       3118.33   \n",
       "27639015  Contrato Administrativo de Servicios       2289.00   \n",
       "\n",
       "          INGRESO_IMPONIBLE  CARGA_SOCIAL  INGRESO_NO_IMPONIBLE  \\\n",
       "27639014            1603.55        161.61               1431.45   \n",
       "27639015            2239.00        186.30                  0.00   \n",
       "\n",
       "          INCENTIVO_UNICO  GUARDIA_HOSPITALARIA  ESCOLARIDAD  AGUINALDO  \\\n",
       "27639014              0.0                   0.0        400.0      600.0   \n",
       "27639015              0.0                   0.0          0.0      600.0   \n",
       "\n",
       "          OTROS_OCASIONALES  TOTAL_MENSUAL  TOTAL_OCASIONAL  TOTAL_ANUAL  \n",
       "27639014                0.0        3196.61           1000.0     39359.32  \n",
       "27639015                0.0        2425.30            600.0     29703.60  "
      ]
     },
     "execution_count": 12,
     "metadata": {},
     "output_type": "execute_result"
    }
   ],
   "source": [
    "airhsp_data.tail(2)"
   ]
  },
  {
   "cell_type": "code",
   "execution_count": null,
   "id": "a9e427bc-973f-48cf-873a-5db4382804e0",
   "metadata": {},
   "outputs": [],
   "source": []
  },
  {
   "cell_type": "code",
   "execution_count": 19,
   "id": "262ce1d8-ccab-4719-885c-cf4c9a340de8",
   "metadata": {},
   "outputs": [
    {
     "name": "stdout",
     "output_type": "stream",
     "text": [
      "CPU times: user 2min 41s, sys: 1.58 s, total: 2min 43s\n",
      "Wall time: 2min 45s\n"
     ]
    }
   ],
   "source": [
    "%%time\n",
    "\n",
    "idx_last_month_per_employee = airhsp_data.groupby('NUMERO_DOCUMENTO_A')['PERIODO'].idxmax()\n",
    "last_month_per_employee = airhsp_data.loc[idx_last_month_per_employee]"
   ]
  },
  {
   "cell_type": "code",
   "execution_count": 20,
   "id": "30aae8b5-e921-426f-8d18-b997d8c464f8",
   "metadata": {},
   "outputs": [
    {
     "data": {
      "text/plain": [
       "(2406983,)"
      ]
     },
     "execution_count": 20,
     "metadata": {},
     "output_type": "execute_result"
    }
   ],
   "source": [
    "idx_last_month_per_employee.shape"
   ]
  },
  {
   "cell_type": "code",
   "execution_count": 23,
   "id": "5eaa7cea-de7c-4ceb-b561-d08176798ece",
   "metadata": {},
   "outputs": [
    {
     "data": {
      "text/plain": [
       "(2406983, 33)"
      ]
     },
     "execution_count": 23,
     "metadata": {},
     "output_type": "execute_result"
    }
   ],
   "source": [
    "last_month_per_employee.shape"
   ]
  },
  {
   "cell_type": "code",
   "execution_count": 24,
   "id": "3c23bd8d-456d-410f-99fd-93d45278f388",
   "metadata": {},
   "outputs": [],
   "source": [
    "master_workers = last_month_per_employee[[\"NUMERO_DOCUMENTO_A\",\"FECHA_INGRESO\",\"FECHA_CESE\",\"DESC_GRUPO_OCUPACIONAL\",\"CENT_RUC\",\"TIPO_REGISTRO\"]]"
   ]
  },
  {
   "cell_type": "code",
   "execution_count": 28,
   "id": "360180bb-0f8c-4073-b963-7f2583a0015d",
   "metadata": {},
   "outputs": [
    {
     "data": {
      "text/plain": [
       "(2406983, 7)"
      ]
     },
     "execution_count": 28,
     "metadata": {},
     "output_type": "execute_result"
    }
   ],
   "source": [
    "master_workers.shape"
   ]
  },
  {
   "cell_type": "code",
   "execution_count": null,
   "id": "6a9cea63-3fd9-416c-9eb5-9592beec8bd4",
   "metadata": {},
   "outputs": [],
   "source": []
  },
  {
   "cell_type": "code",
   "execution_count": 29,
   "id": "266705a6-719b-44b0-b1a0-171ffff800f9",
   "metadata": {},
   "outputs": [
    {
     "data": {
      "text/html": [
       "<div>\n",
       "<style scoped>\n",
       "    .dataframe tbody tr th:only-of-type {\n",
       "        vertical-align: middle;\n",
       "    }\n",
       "\n",
       "    .dataframe tbody tr th {\n",
       "        vertical-align: top;\n",
       "    }\n",
       "\n",
       "    .dataframe thead th {\n",
       "        text-align: right;\n",
       "    }\n",
       "</style>\n",
       "<table border=\"1\" class=\"dataframe\">\n",
       "  <thead>\n",
       "    <tr style=\"text-align: right;\">\n",
       "      <th></th>\n",
       "      <th>NUMERO_DOCUMENTO_A</th>\n",
       "      <th>FECHA_INGRESO</th>\n",
       "      <th>FECHA_CESE</th>\n",
       "      <th>DESC_GRUPO_OCUPACIONAL</th>\n",
       "      <th>CENT_RUC</th>\n",
       "      <th>TIPO_REGISTRO</th>\n",
       "      <th>ESTADO</th>\n",
       "    </tr>\n",
       "  </thead>\n",
       "  <tbody>\n",
       "    <tr>\n",
       "      <th>26104763</th>\n",
       "      <td>13486841</td>\n",
       "      <td>NaN</td>\n",
       "      <td>NaN</td>\n",
       "      <td>Sin Grupo Ocupacional</td>\n",
       "      <td>20254165035</td>\n",
       "      <td>2</td>\n",
       "      <td>1</td>\n",
       "    </tr>\n",
       "  </tbody>\n",
       "</table>\n",
       "</div>"
      ],
      "text/plain": [
       "          NUMERO_DOCUMENTO_A FECHA_INGRESO FECHA_CESE DESC_GRUPO_OCUPACIONAL  \\\n",
       "26104763            13486841           NaN        NaN  Sin Grupo Ocupacional   \n",
       "\n",
       "             CENT_RUC  TIPO_REGISTRO  ESTADO  \n",
       "26104763  20254165035              2       1  "
      ]
     },
     "execution_count": 29,
     "metadata": {},
     "output_type": "execute_result"
    }
   ],
   "source": [
    "master_workers[master_workers['NUMERO_DOCUMENTO_A']==13486841]"
   ]
  },
  {
   "cell_type": "code",
   "execution_count": null,
   "id": "0a8f84e0-88d2-42a4-b701-8f0d86546bf3",
   "metadata": {},
   "outputs": [],
   "source": []
  },
  {
   "cell_type": "code",
   "execution_count": 30,
   "id": "b667b27d-3c2e-4c26-8b29-0be8f181baf6",
   "metadata": {},
   "outputs": [
    {
     "name": "stdout",
     "output_type": "stream",
     "text": [
      "CPU times: user 1.78 s, sys: 0 ns, total: 1.78 s\n",
      "Wall time: 1.81 s\n"
     ]
    },
    {
     "name": "stderr",
     "output_type": "stream",
     "text": [
      "<timed exec>:2: SettingWithCopyWarning: \n",
      "A value is trying to be set on a copy of a slice from a DataFrame.\n",
      "Try using .loc[row_indexer,col_indexer] = value instead\n",
      "\n",
      "See the caveats in the documentation: https://pandas.pydata.org/pandas-docs/stable/user_guide/indexing.html#returning-a-view-versus-a-copy\n"
     ]
    }
   ],
   "source": [
    "%%time\n",
    "# ESTADO DEL NUMERO_DOCUMENTO_A (activo, no activo)\n",
    "master_workers[\"ESTADO\"] = master_workers[\"FECHA_CESE\"].apply(lambda x: 1 if pd.isna(x) == True else 0 )"
   ]
  },
  {
   "cell_type": "code",
   "execution_count": 31,
   "id": "b1f2ef54-9cbf-4b79-8917-d710c3e5f26d",
   "metadata": {},
   "outputs": [
    {
     "data": {
      "text/plain": [
       "(2406983, 7)"
      ]
     },
     "execution_count": 31,
     "metadata": {},
     "output_type": "execute_result"
    }
   ],
   "source": [
    "master_workers.shape"
   ]
  },
  {
   "cell_type": "code",
   "execution_count": 33,
   "id": "477aba3d-88af-46a8-bc95-a63feb7e32d0",
   "metadata": {},
   "outputs": [
    {
     "name": "stdout",
     "output_type": "stream",
     "text": [
      "CPU times: user 17.5 s, sys: 226 ms, total: 17.7 s\n",
      "Wall time: 18 s\n"
     ]
    },
    {
     "data": {
      "text/html": [
       "<div>\n",
       "<style scoped>\n",
       "    .dataframe tbody tr th:only-of-type {\n",
       "        vertical-align: middle;\n",
       "    }\n",
       "\n",
       "    .dataframe tbody tr th {\n",
       "        vertical-align: top;\n",
       "    }\n",
       "\n",
       "    .dataframe thead th {\n",
       "        text-align: right;\n",
       "    }\n",
       "</style>\n",
       "<table border=\"1\" class=\"dataframe\">\n",
       "  <thead>\n",
       "    <tr style=\"text-align: right;\">\n",
       "      <th></th>\n",
       "      <th>COSTO_PRESUP</th>\n",
       "      <th>TOTAL_MENSUAL</th>\n",
       "      <th>TOTAL_ANUAL</th>\n",
       "    </tr>\n",
       "    <tr>\n",
       "      <th>NUMERO_DOCUMENTO_A</th>\n",
       "      <th></th>\n",
       "      <th></th>\n",
       "      <th></th>\n",
       "    </tr>\n",
       "  </thead>\n",
       "  <tbody>\n",
       "    <tr>\n",
       "      <th>10000001</th>\n",
       "      <td>0.0</td>\n",
       "      <td>0.0</td>\n",
       "      <td>0.0</td>\n",
       "    </tr>\n",
       "    <tr>\n",
       "      <th>10000002</th>\n",
       "      <td>0.0</td>\n",
       "      <td>0.0</td>\n",
       "      <td>0.0</td>\n",
       "    </tr>\n",
       "  </tbody>\n",
       "</table>\n",
       "</div>"
      ],
      "text/plain": [
       "                    COSTO_PRESUP  TOTAL_MENSUAL  TOTAL_ANUAL\n",
       "NUMERO_DOCUMENTO_A                                          \n",
       "10000001                     0.0            0.0          0.0\n",
       "10000002                     0.0            0.0          0.0"
      ]
     },
     "execution_count": 33,
     "metadata": {},
     "output_type": "execute_result"
    }
   ],
   "source": [
    "%%time\n",
    "# desviacion estandar del ingreso desglosado del trabajador\n",
    "worker_ingresos = airhsp_data.groupby([\"NUMERO_DOCUMENTO_A\"])[[\"COSTO_PRESUP\",\"TOTAL_MENSUAL\",\"TOTAL_ANUAL\"]].std()\n",
    "worker_ingresos.head(2)"
   ]
  },
  {
   "cell_type": "code",
   "execution_count": 34,
   "id": "70ee83b9-1850-490d-a996-7eef5dce0154",
   "metadata": {},
   "outputs": [
    {
     "data": {
      "text/plain": [
       "(2406983, 3)"
      ]
     },
     "execution_count": 34,
     "metadata": {},
     "output_type": "execute_result"
    }
   ],
   "source": [
    "worker_ingresos.shape"
   ]
  },
  {
   "cell_type": "code",
   "execution_count": 35,
   "id": "ebe48904-7dc6-429f-bd39-612a7157a978",
   "metadata": {},
   "outputs": [
    {
     "data": {
      "text/plain": [
       "(2406983, 7)"
      ]
     },
     "execution_count": 35,
     "metadata": {},
     "output_type": "execute_result"
    }
   ],
   "source": [
    "master_workers.shape"
   ]
  },
  {
   "cell_type": "code",
   "execution_count": 36,
   "id": "612f4966-6004-483c-ac09-c1bd47c373b1",
   "metadata": {},
   "outputs": [],
   "source": [
    "master_workers.to_csv(folder_data + \"master_worker_part1.csv\",index=False)"
   ]
  },
  {
   "cell_type": "code",
   "execution_count": 37,
   "id": "fd9cccf4-3d87-4ec0-8e48-89e7d4ea71db",
   "metadata": {},
   "outputs": [
    {
     "name": "stdout",
     "output_type": "stream",
     "text": [
      "CPU times: user 1.56 s, sys: 453 ms, total: 2.02 s\n",
      "Wall time: 2.05 s\n"
     ]
    }
   ],
   "source": [
    "%%time\n",
    "master_workers = pd.merge(master_workers, worker_ingresos, on='NUMERO_DOCUMENTO_A', how='left')"
   ]
  },
  {
   "cell_type": "code",
   "execution_count": 62,
   "id": "e74979aa-0040-4383-98aa-5f4b60cbb2e8",
   "metadata": {},
   "outputs": [
    {
     "data": {
      "text/plain": [
       "(2406983, 10)"
      ]
     },
     "execution_count": 62,
     "metadata": {},
     "output_type": "execute_result"
    }
   ],
   "source": [
    "master_workers.shape"
   ]
  },
  {
   "cell_type": "code",
   "execution_count": 60,
   "id": "26bfbc19-57d7-4c23-a24e-f34e7761158d",
   "metadata": {},
   "outputs": [],
   "source": [
    "# %%time\n",
    "# # para saber en cuantas entidades ha trabajado este NUMERO_DOCUMENTO_A\n",
    "# # employee_data[\"ID\"] = employee_data[\"NUMERO_DOCUMENTO_A\"].astype(str) + \"-\" + employee_data[\"PERIODO\"]\n",
    "# airhsp_data[\"ID_2\"] = airhsp_data[\"NUMERO_DOCUMENTO_A\"].astype(str) + \"-\" + airhsp_data[\"CENT_RUC\"].astype(str)\n",
    "\n",
    "# nro_entidades_table = airhsp_data.groupby([\"NUMERO_DOCUMENTO_A\",\"CENT_RUC\"])[\"ID_2\"].nunique()\n",
    "# nro_entidades_df = nro_entidades_table.to_frame('NRO_ENTIDADES').reset_index()\n",
    "# nro_entidades_df = nro_entidades_df[[\"NUMERO_DOCUMENTO_A\",\"NRO_ENTIDADES\"]]\n",
    "# nro_entidades_df.head()"
   ]
  },
  {
   "cell_type": "code",
   "execution_count": 63,
   "id": "bfb155e6-1613-446b-bb65-3c4a18dfd1f6",
   "metadata": {},
   "outputs": [
    {
     "name": "stdout",
     "output_type": "stream",
     "text": [
      "CPU times: user 10.7 s, sys: 486 ms, total: 11.2 s\n",
      "Wall time: 11.3 s\n"
     ]
    },
    {
     "data": {
      "text/plain": [
       "(2508038, 2)"
      ]
     },
     "execution_count": 63,
     "metadata": {},
     "output_type": "execute_result"
    }
   ],
   "source": [
    "%%time\n",
    "\n",
    "airhsp_data_trab_enti = airhsp_data[[\"NUMERO_DOCUMENTO_A\",\"CENT_RUC\"]].drop_duplicates()\n",
    "airhsp_data_trab_enti.shape"
   ]
  },
  {
   "cell_type": "code",
   "execution_count": 64,
   "id": "2dae6528-2e48-4a89-b8f1-1b7f76d6331d",
   "metadata": {},
   "outputs": [
    {
     "data": {
      "text/plain": [
       "(2406983, 2)"
      ]
     },
     "execution_count": 64,
     "metadata": {},
     "output_type": "execute_result"
    }
   ],
   "source": [
    "conteo_entidades = airhsp_data_trab_enti.groupby([\"NUMERO_DOCUMENTO_A\"])[\"CENT_RUC\"].count()\n",
    "conteo_entidades_df = conteo_entidades.to_frame('NRO_ENTIDADES').reset_index()"
   ]
  },
  {
   "cell_type": "code",
   "execution_count": 65,
   "id": "c825a3a9-bf64-4edd-a25c-c5de16b5ba33",
   "metadata": {},
   "outputs": [
    {
     "data": {
      "text/plain": [
       "(2406983, 2)"
      ]
     },
     "execution_count": 65,
     "metadata": {},
     "output_type": "execute_result"
    }
   ],
   "source": [
    "conteo_entidades_df.shape"
   ]
  },
  {
   "cell_type": "code",
   "execution_count": null,
   "id": "6a4bb76e-5520-40f2-bdac-bc54ce9eab37",
   "metadata": {},
   "outputs": [],
   "source": []
  },
  {
   "cell_type": "code",
   "execution_count": 67,
   "id": "b9da7ef6-007f-45fc-9684-5fc751c10d39",
   "metadata": {},
   "outputs": [
    {
     "name": "stdout",
     "output_type": "stream",
     "text": [
      "CPU times: user 1.52 s, sys: 391 ms, total: 1.91 s\n",
      "Wall time: 1.93 s\n"
     ]
    }
   ],
   "source": [
    "%%time\n",
    "master_workers = pd.merge(master_workers, conteo_entidades_df, on='NUMERO_DOCUMENTO_A', how='left')"
   ]
  },
  {
   "cell_type": "code",
   "execution_count": 68,
   "id": "f243ae8e-4482-4a00-a979-ce94ab1526ed",
   "metadata": {},
   "outputs": [
    {
     "data": {
      "text/plain": [
       "(2406983, 11)"
      ]
     },
     "execution_count": 68,
     "metadata": {},
     "output_type": "execute_result"
    }
   ],
   "source": [
    "master_workers.shape"
   ]
  },
  {
   "cell_type": "code",
   "execution_count": 69,
   "id": "8a64f445-3a07-4577-af14-035c3735d537",
   "metadata": {},
   "outputs": [
    {
     "data": {
      "text/html": [
       "<div>\n",
       "<style scoped>\n",
       "    .dataframe tbody tr th:only-of-type {\n",
       "        vertical-align: middle;\n",
       "    }\n",
       "\n",
       "    .dataframe tbody tr th {\n",
       "        vertical-align: top;\n",
       "    }\n",
       "\n",
       "    .dataframe thead th {\n",
       "        text-align: right;\n",
       "    }\n",
       "</style>\n",
       "<table border=\"1\" class=\"dataframe\">\n",
       "  <thead>\n",
       "    <tr style=\"text-align: right;\">\n",
       "      <th></th>\n",
       "      <th>NUMERO_DOCUMENTO_A</th>\n",
       "      <th>FECHA_INGRESO</th>\n",
       "      <th>FECHA_CESE</th>\n",
       "      <th>DESC_GRUPO_OCUPACIONAL</th>\n",
       "      <th>CENT_RUC</th>\n",
       "      <th>TIPO_REGISTRO</th>\n",
       "      <th>ESTADO</th>\n",
       "      <th>COSTO_PRESUP</th>\n",
       "      <th>TOTAL_MENSUAL</th>\n",
       "      <th>TOTAL_ANUAL</th>\n",
       "      <th>NRO_ENTIDADES</th>\n",
       "    </tr>\n",
       "  </thead>\n",
       "  <tbody>\n",
       "    <tr>\n",
       "      <th>0</th>\n",
       "      <td>10000001</td>\n",
       "      <td>01/01/1901</td>\n",
       "      <td>NaN</td>\n",
       "      <td>Tecnicos</td>\n",
       "      <td>20145686548</td>\n",
       "      <td>3</td>\n",
       "      <td>1</td>\n",
       "      <td>0.000000</td>\n",
       "      <td>0.000000</td>\n",
       "      <td>0.000000</td>\n",
       "      <td>1</td>\n",
       "    </tr>\n",
       "    <tr>\n",
       "      <th>1</th>\n",
       "      <td>10000002</td>\n",
       "      <td>NaN</td>\n",
       "      <td>NaN</td>\n",
       "      <td>Sin Grupo Ocupacional</td>\n",
       "      <td>20254165035</td>\n",
       "      <td>2</td>\n",
       "      <td>1</td>\n",
       "      <td>0.000000</td>\n",
       "      <td>0.000000</td>\n",
       "      <td>0.000000</td>\n",
       "      <td>1</td>\n",
       "    </tr>\n",
       "    <tr>\n",
       "      <th>2</th>\n",
       "      <td>10000006</td>\n",
       "      <td>14/03/2019</td>\n",
       "      <td>NaN</td>\n",
       "      <td>Reforma Magisterial</td>\n",
       "      <td>20393274655</td>\n",
       "      <td>1</td>\n",
       "      <td>1</td>\n",
       "      <td>60.332465</td>\n",
       "      <td>63.860151</td>\n",
       "      <td>766.321816</td>\n",
       "      <td>1</td>\n",
       "    </tr>\n",
       "    <tr>\n",
       "      <th>3</th>\n",
       "      <td>10000018</td>\n",
       "      <td>01/03/2022</td>\n",
       "      <td>NaN</td>\n",
       "      <td>Auxiliar de Educación</td>\n",
       "      <td>20393274655</td>\n",
       "      <td>1</td>\n",
       "      <td>1</td>\n",
       "      <td>16.410558</td>\n",
       "      <td>4.209729</td>\n",
       "      <td>146.429638</td>\n",
       "      <td>1</td>\n",
       "    </tr>\n",
       "    <tr>\n",
       "      <th>4</th>\n",
       "      <td>10000023</td>\n",
       "      <td>14/03/2019</td>\n",
       "      <td>NaN</td>\n",
       "      <td>Profesionales</td>\n",
       "      <td>20393274655</td>\n",
       "      <td>1</td>\n",
       "      <td>1</td>\n",
       "      <td>57.735027</td>\n",
       "      <td>57.735027</td>\n",
       "      <td>692.820323</td>\n",
       "      <td>1</td>\n",
       "    </tr>\n",
       "  </tbody>\n",
       "</table>\n",
       "</div>"
      ],
      "text/plain": [
       "   NUMERO_DOCUMENTO_A FECHA_INGRESO FECHA_CESE DESC_GRUPO_OCUPACIONAL  \\\n",
       "0            10000001    01/01/1901        NaN               Tecnicos   \n",
       "1            10000002           NaN        NaN  Sin Grupo Ocupacional   \n",
       "2            10000006    14/03/2019        NaN    Reforma Magisterial   \n",
       "3            10000018    01/03/2022        NaN  Auxiliar de Educación   \n",
       "4            10000023    14/03/2019        NaN          Profesionales   \n",
       "\n",
       "      CENT_RUC  TIPO_REGISTRO  ESTADO  COSTO_PRESUP  TOTAL_MENSUAL  \\\n",
       "0  20145686548              3       1      0.000000       0.000000   \n",
       "1  20254165035              2       1      0.000000       0.000000   \n",
       "2  20393274655              1       1     60.332465      63.860151   \n",
       "3  20393274655              1       1     16.410558       4.209729   \n",
       "4  20393274655              1       1     57.735027      57.735027   \n",
       "\n",
       "   TOTAL_ANUAL  NRO_ENTIDADES  \n",
       "0     0.000000              1  \n",
       "1     0.000000              1  \n",
       "2   766.321816              1  \n",
       "3   146.429638              1  \n",
       "4   692.820323              1  "
      ]
     },
     "execution_count": 69,
     "metadata": {},
     "output_type": "execute_result"
    }
   ],
   "source": [
    "master_workers.head()"
   ]
  },
  {
   "cell_type": "code",
   "execution_count": 70,
   "id": "230c5e9b-b8df-4b49-a90e-c0ed009fe406",
   "metadata": {},
   "outputs": [
    {
     "name": "stdout",
     "output_type": "stream",
     "text": [
      "CPU times: user 13.3 s, sys: 450 ms, total: 13.7 s\n",
      "Wall time: 14 s\n"
     ]
    }
   ],
   "source": [
    "%%time\n",
    "master_workers.to_csv(folder_data + \"master_workers_final.csv\", index=False)"
   ]
  },
  {
   "cell_type": "code",
   "execution_count": 71,
   "id": "7c0ac210-65f7-440c-829c-48051fbe7c3e",
   "metadata": {},
   "outputs": [
    {
     "data": {
      "text/plain": [
       "(2406983, 11)"
      ]
     },
     "execution_count": 71,
     "metadata": {},
     "output_type": "execute_result"
    }
   ],
   "source": [
    "master_workers.shape"
   ]
  },
  {
   "cell_type": "code",
   "execution_count": null,
   "id": "ec55f0be-9627-4c66-8e6c-28f00454adac",
   "metadata": {},
   "outputs": [],
   "source": []
  },
  {
   "cell_type": "markdown",
   "id": "3354c63d-80a5-486b-a100-a0e74e6f9490",
   "metadata": {},
   "source": [
    "##### ENTIDAD"
   ]
  },
  {
   "cell_type": "code",
   "execution_count": 72,
   "id": "2c688373-30c3-4fa1-bdd3-cc335515c464",
   "metadata": {},
   "outputs": [],
   "source": [
    "master_entidad = pd.DataFrame()"
   ]
  },
  {
   "cell_type": "code",
   "execution_count": 74,
   "id": "a56cfd4b-9a4a-4f64-b2ad-d1d49308c894",
   "metadata": {},
   "outputs": [
    {
     "data": {
      "text/plain": [
       "(27639016, 34)"
      ]
     },
     "execution_count": 74,
     "metadata": {},
     "output_type": "execute_result"
    }
   ],
   "source": [
    "airhsp_data.shape"
   ]
  },
  {
   "cell_type": "code",
   "execution_count": 75,
   "id": "50f86a6b-6b4b-4368-9e99-9d2b53148da5",
   "metadata": {},
   "outputs": [],
   "source": [
    "entidad_data = airhsp_data.copy()"
   ]
  },
  {
   "cell_type": "code",
   "execution_count": 73,
   "id": "31df32a4-de00-497a-90ec-eae60a68d55a",
   "metadata": {},
   "outputs": [],
   "source": [
    "# entidad_data = employee_data[(employee_data[\"CENT_RUC\"]==20198261476) | (employee_data[\"CENT_RUC\"]==20195970751)]\n",
    "# entidad_data.head()"
   ]
  },
  {
   "cell_type": "code",
   "execution_count": 76,
   "id": "0212e2e1-35f2-4ea3-9452-eb421ab88e55",
   "metadata": {},
   "outputs": [
    {
     "name": "stdout",
     "output_type": "stream",
     "text": [
      "CPU times: user 10.7 s, sys: 2.34 s, total: 13.1 s\n",
      "Wall time: 13.3 s\n"
     ]
    }
   ],
   "source": [
    "%%time\n",
    "# datos demograficos por entidad\n",
    "\n",
    "master_entidad = entidad_data[[\"CENT_RUC\",\"CENT_NOMBRE\",\"NOMBRE_DEPARTAMENTO\",\"NOMBRE_PROVINCIA\",\"NOMBRE_DISTRITO\",\"OBANT_SECTOR\"]].drop_duplicates()"
   ]
  },
  {
   "cell_type": "code",
   "execution_count": 77,
   "id": "8e3492e9-7256-4a3d-945b-357a901aa4b1",
   "metadata": {},
   "outputs": [
    {
     "data": {
      "text/plain": [
       "(892,)"
      ]
     },
     "execution_count": 77,
     "metadata": {},
     "output_type": "execute_result"
    }
   ],
   "source": [
    "master_entidad[\"CENT_RUC\"].shape"
   ]
  },
  {
   "cell_type": "code",
   "execution_count": 321,
   "id": "8e3315a4-eb8a-4de5-8feb-a92c3caf6b8d",
   "metadata": {},
   "outputs": [],
   "source": [
    "# # datos demograficos por entidad\n",
    "# entidad_data[\"DEMOG_UNIQUE\"] = entidad_data[\"CENT_RUC\"].astype(str)+\"_\"+entidad_data[\"NOMBRE_DEPARTAMENTO\"]+\"_\"+entidad_data[\"NOMBRE_PROVINCIA\"]+\"_\"+entidad_data[\"NOMBRE_DISTRITO\"]\n",
    "# entidad_data_demo_unique = entidad_data[\"DEMOG_UNIQUE\"].nunique()\n",
    "# # entidad_data_demo_unique[\"CENT_RUC\",\"NOMBRE_DEPARTAMENTO\",\"NOMBRE_PROVINCIA\",\"NOMBRE_DISTRITO\"] = entidad_data_demo_unique[\"DEMOG_UNIQUE\"].apply(lambda x: x.str.split(\"_\"))\n",
    "# # entidad_data_demo_unique                                                                                                                        "
   ]
  },
  {
   "cell_type": "code",
   "execution_count": 79,
   "id": "96f0043f-5573-4b29-a154-c3214b3207ad",
   "metadata": {},
   "outputs": [
    {
     "name": "stdout",
     "output_type": "stream",
     "text": [
      "CPU times: user 13.9 s, sys: 572 ms, total: 14.5 s\n",
      "Wall time: 14.7 s\n"
     ]
    },
    {
     "data": {
      "text/html": [
       "<div>\n",
       "<style scoped>\n",
       "    .dataframe tbody tr th:only-of-type {\n",
       "        vertical-align: middle;\n",
       "    }\n",
       "\n",
       "    .dataframe tbody tr th {\n",
       "        vertical-align: top;\n",
       "    }\n",
       "\n",
       "    .dataframe thead th {\n",
       "        text-align: right;\n",
       "    }\n",
       "</style>\n",
       "<table border=\"1\" class=\"dataframe\">\n",
       "  <thead>\n",
       "    <tr style=\"text-align: right;\">\n",
       "      <th></th>\n",
       "      <th>CENT_RUC</th>\n",
       "      <th>NRO_TRABAJADORES</th>\n",
       "    </tr>\n",
       "  </thead>\n",
       "  <tbody>\n",
       "    <tr>\n",
       "      <th>0</th>\n",
       "      <td>20105685875</td>\n",
       "      <td>1692</td>\n",
       "    </tr>\n",
       "    <tr>\n",
       "      <th>1</th>\n",
       "      <td>20112919377</td>\n",
       "      <td>561</td>\n",
       "    </tr>\n",
       "    <tr>\n",
       "      <th>2</th>\n",
       "      <td>20114050530</td>\n",
       "      <td>112</td>\n",
       "    </tr>\n",
       "    <tr>\n",
       "      <th>3</th>\n",
       "      <td>20131016396</td>\n",
       "      <td>403</td>\n",
       "    </tr>\n",
       "    <tr>\n",
       "      <th>4</th>\n",
       "      <td>20131023414</td>\n",
       "      <td>1591</td>\n",
       "    </tr>\n",
       "  </tbody>\n",
       "</table>\n",
       "</div>"
      ],
      "text/plain": [
       "      CENT_RUC  NRO_TRABAJADORES\n",
       "0  20105685875              1692\n",
       "1  20112919377               561\n",
       "2  20114050530               112\n",
       "3  20131016396               403\n",
       "4  20131023414              1591"
      ]
     },
     "execution_count": 79,
     "metadata": {},
     "output_type": "execute_result"
    }
   ],
   "source": [
    "%%time\n",
    "#nro trabajadores unicos por entidad\n",
    "nro_trabajadores_table = entidad_data.groupby([\"CENT_RUC\"])[\"NUMERO_DOCUMENTO_A\"].nunique()\n",
    "nro_trabajadores_df = nro_trabajadores_table.to_frame('NRO_TRABAJADORES').reset_index()\n",
    "nro_trabajadores_df.head()"
   ]
  },
  {
   "cell_type": "code",
   "execution_count": 81,
   "id": "36497d0c-a296-41da-bd48-27e84c52fa7e",
   "metadata": {},
   "outputs": [
    {
     "data": {
      "text/plain": [
       "(892, 2)"
      ]
     },
     "execution_count": 81,
     "metadata": {},
     "output_type": "execute_result"
    }
   ],
   "source": [
    "nro_trabajadores_df.shape"
   ]
  },
  {
   "cell_type": "code",
   "execution_count": null,
   "id": "a588333b-46f9-4ba4-994d-01c12e90cdd1",
   "metadata": {},
   "outputs": [],
   "source": []
  },
  {
   "cell_type": "code",
   "execution_count": 82,
   "id": "c73cb926-7f8a-4a22-a4f3-04ae6c14fea2",
   "metadata": {},
   "outputs": [
    {
     "name": "stdout",
     "output_type": "stream",
     "text": [
      "CPU times: user 3.75 ms, sys: 0 ns, total: 3.75 ms\n",
      "Wall time: 3.86 ms\n"
     ]
    },
    {
     "data": {
      "text/html": [
       "<div>\n",
       "<style scoped>\n",
       "    .dataframe tbody tr th:only-of-type {\n",
       "        vertical-align: middle;\n",
       "    }\n",
       "\n",
       "    .dataframe tbody tr th {\n",
       "        vertical-align: top;\n",
       "    }\n",
       "\n",
       "    .dataframe thead th {\n",
       "        text-align: right;\n",
       "    }\n",
       "</style>\n",
       "<table border=\"1\" class=\"dataframe\">\n",
       "  <thead>\n",
       "    <tr style=\"text-align: right;\">\n",
       "      <th></th>\n",
       "      <th>CENT_RUC</th>\n",
       "      <th>CENT_NOMBRE</th>\n",
       "      <th>NOMBRE_DEPARTAMENTO</th>\n",
       "      <th>NOMBRE_PROVINCIA</th>\n",
       "      <th>NOMBRE_DISTRITO</th>\n",
       "      <th>OBANT_SECTOR</th>\n",
       "      <th>NRO_TRABAJADORES</th>\n",
       "    </tr>\n",
       "  </thead>\n",
       "  <tbody>\n",
       "    <tr>\n",
       "      <th>0</th>\n",
       "      <td>20393274655</td>\n",
       "      <td>UNIDAD DE GESTIÓN EDUCATIVA LOCAL CORONEL PORT...</td>\n",
       "      <td>UCAYALI</td>\n",
       "      <td>CORONEL PORTILLO</td>\n",
       "      <td>CALLARIA</td>\n",
       "      <td>GOBIERNOS REGIONALES</td>\n",
       "      <td>10078</td>\n",
       "    </tr>\n",
       "    <tr>\n",
       "      <th>1</th>\n",
       "      <td>20195970751</td>\n",
       "      <td>DIRECCIÓN REGIONAL DE EDUCACIÓN UCAYALI</td>\n",
       "      <td>UCAYALI</td>\n",
       "      <td>CORONEL PORTILLO</td>\n",
       "      <td>CALLARIA</td>\n",
       "      <td>GOBIERNOS REGIONALES</td>\n",
       "      <td>591</td>\n",
       "    </tr>\n",
       "    <tr>\n",
       "      <th>2</th>\n",
       "      <td>20198261476</td>\n",
       "      <td>DIRECCIÓN REGIONAL DE SALUD UCAYALI</td>\n",
       "      <td>UCAYALI</td>\n",
       "      <td>CORONEL PORTILLO</td>\n",
       "      <td>CALLARIA</td>\n",
       "      <td>GOBIERNOS REGIONALES</td>\n",
       "      <td>1886</td>\n",
       "    </tr>\n",
       "    <tr>\n",
       "      <th>3</th>\n",
       "      <td>20254165035</td>\n",
       "      <td>OFICINA DE NORMALIZACIÓN PREVISIONAL - ONP</td>\n",
       "      <td>LIMA</td>\n",
       "      <td>LIMA</td>\n",
       "      <td>LIMA</td>\n",
       "      <td>ECONOMÍA Y FINANZAS</td>\n",
       "      <td>711179</td>\n",
       "    </tr>\n",
       "    <tr>\n",
       "      <th>4</th>\n",
       "      <td>20393146657</td>\n",
       "      <td>UNIVERSIDAD NACIONAL INTERCULTURAL DE LA AMAZONIA</td>\n",
       "      <td>UCAYALI</td>\n",
       "      <td>CORONEL PORTILLO</td>\n",
       "      <td>YARINACOCHA</td>\n",
       "      <td>EDUCACIÓN</td>\n",
       "      <td>278</td>\n",
       "    </tr>\n",
       "  </tbody>\n",
       "</table>\n",
       "</div>"
      ],
      "text/plain": [
       "      CENT_RUC                                        CENT_NOMBRE  \\\n",
       "0  20393274655  UNIDAD DE GESTIÓN EDUCATIVA LOCAL CORONEL PORT...   \n",
       "1  20195970751            DIRECCIÓN REGIONAL DE EDUCACIÓN UCAYALI   \n",
       "2  20198261476                DIRECCIÓN REGIONAL DE SALUD UCAYALI   \n",
       "3  20254165035         OFICINA DE NORMALIZACIÓN PREVISIONAL - ONP   \n",
       "4  20393146657  UNIVERSIDAD NACIONAL INTERCULTURAL DE LA AMAZONIA   \n",
       "\n",
       "  NOMBRE_DEPARTAMENTO  NOMBRE_PROVINCIA NOMBRE_DISTRITO          OBANT_SECTOR  \\\n",
       "0             UCAYALI  CORONEL PORTILLO        CALLARIA  GOBIERNOS REGIONALES   \n",
       "1             UCAYALI  CORONEL PORTILLO        CALLARIA  GOBIERNOS REGIONALES   \n",
       "2             UCAYALI  CORONEL PORTILLO        CALLARIA  GOBIERNOS REGIONALES   \n",
       "3                LIMA              LIMA            LIMA   ECONOMÍA Y FINANZAS   \n",
       "4             UCAYALI  CORONEL PORTILLO     YARINACOCHA             EDUCACIÓN   \n",
       "\n",
       "   NRO_TRABAJADORES  \n",
       "0             10078  \n",
       "1               591  \n",
       "2              1886  \n",
       "3            711179  \n",
       "4               278  "
      ]
     },
     "execution_count": 82,
     "metadata": {},
     "output_type": "execute_result"
    }
   ],
   "source": [
    "%%time\n",
    "master_entidad = pd.merge(master_entidad, nro_trabajadores_df, on='CENT_RUC', how='left')\n",
    "master_entidad.head()"
   ]
  },
  {
   "cell_type": "code",
   "execution_count": 83,
   "id": "2c2655d8-8c9c-4d71-9aca-24fb266bed20",
   "metadata": {},
   "outputs": [
    {
     "data": {
      "text/plain": [
       "(892, 7)"
      ]
     },
     "execution_count": 83,
     "metadata": {},
     "output_type": "execute_result"
    }
   ],
   "source": [
    "master_entidad.shape"
   ]
  },
  {
   "cell_type": "code",
   "execution_count": 84,
   "id": "f5d89890-0437-4e77-94f8-30891092b2de",
   "metadata": {},
   "outputs": [
    {
     "name": "stdout",
     "output_type": "stream",
     "text": [
      "CPU times: user 1.19 s, sys: 195 ms, total: 1.39 s\n",
      "Wall time: 1.41 s\n"
     ]
    }
   ],
   "source": [
    "%%time\n",
    "#nro trabajadores activos\n",
    "trabaj_activos_df = master_workers[master_workers[\"ESTADO\"]==1].groupby([\"CENT_RUC\"])[\"NUMERO_DOCUMENTO_A\"].nunique().to_frame('NRO_TRAB_ACTIVOS').reset_index()"
   ]
  },
  {
   "cell_type": "code",
   "execution_count": 86,
   "id": "f30776ca-b258-471b-a9bf-4c7637be7877",
   "metadata": {},
   "outputs": [
    {
     "data": {
      "text/html": [
       "<div>\n",
       "<style scoped>\n",
       "    .dataframe tbody tr th:only-of-type {\n",
       "        vertical-align: middle;\n",
       "    }\n",
       "\n",
       "    .dataframe tbody tr th {\n",
       "        vertical-align: top;\n",
       "    }\n",
       "\n",
       "    .dataframe thead th {\n",
       "        text-align: right;\n",
       "    }\n",
       "</style>\n",
       "<table border=\"1\" class=\"dataframe\">\n",
       "  <thead>\n",
       "    <tr style=\"text-align: right;\">\n",
       "      <th></th>\n",
       "      <th>CENT_RUC</th>\n",
       "      <th>CENT_NOMBRE</th>\n",
       "      <th>NOMBRE_DEPARTAMENTO</th>\n",
       "      <th>NOMBRE_PROVINCIA</th>\n",
       "      <th>NOMBRE_DISTRITO</th>\n",
       "      <th>OBANT_SECTOR</th>\n",
       "      <th>NRO_TRABAJADORES</th>\n",
       "      <th>NRO_TRAB_ACTIVOS</th>\n",
       "    </tr>\n",
       "  </thead>\n",
       "  <tbody>\n",
       "    <tr>\n",
       "      <th>0</th>\n",
       "      <td>20393274655</td>\n",
       "      <td>UNIDAD DE GESTIÓN EDUCATIVA LOCAL CORONEL PORT...</td>\n",
       "      <td>UCAYALI</td>\n",
       "      <td>CORONEL PORTILLO</td>\n",
       "      <td>CALLARIA</td>\n",
       "      <td>GOBIERNOS REGIONALES</td>\n",
       "      <td>10078</td>\n",
       "      <td>9183</td>\n",
       "    </tr>\n",
       "    <tr>\n",
       "      <th>1</th>\n",
       "      <td>20195970751</td>\n",
       "      <td>DIRECCIÓN REGIONAL DE EDUCACIÓN UCAYALI</td>\n",
       "      <td>UCAYALI</td>\n",
       "      <td>CORONEL PORTILLO</td>\n",
       "      <td>CALLARIA</td>\n",
       "      <td>GOBIERNOS REGIONALES</td>\n",
       "      <td>591</td>\n",
       "      <td>515</td>\n",
       "    </tr>\n",
       "    <tr>\n",
       "      <th>2</th>\n",
       "      <td>20198261476</td>\n",
       "      <td>DIRECCIÓN REGIONAL DE SALUD UCAYALI</td>\n",
       "      <td>UCAYALI</td>\n",
       "      <td>CORONEL PORTILLO</td>\n",
       "      <td>CALLARIA</td>\n",
       "      <td>GOBIERNOS REGIONALES</td>\n",
       "      <td>1886</td>\n",
       "      <td>1752</td>\n",
       "    </tr>\n",
       "    <tr>\n",
       "      <th>3</th>\n",
       "      <td>20254165035</td>\n",
       "      <td>OFICINA DE NORMALIZACIÓN PREVISIONAL - ONP</td>\n",
       "      <td>LIMA</td>\n",
       "      <td>LIMA</td>\n",
       "      <td>LIMA</td>\n",
       "      <td>ECONOMÍA Y FINANZAS</td>\n",
       "      <td>711179</td>\n",
       "      <td>707010</td>\n",
       "    </tr>\n",
       "    <tr>\n",
       "      <th>4</th>\n",
       "      <td>20393146657</td>\n",
       "      <td>UNIVERSIDAD NACIONAL INTERCULTURAL DE LA AMAZONIA</td>\n",
       "      <td>UCAYALI</td>\n",
       "      <td>CORONEL PORTILLO</td>\n",
       "      <td>YARINACOCHA</td>\n",
       "      <td>EDUCACIÓN</td>\n",
       "      <td>278</td>\n",
       "      <td>224</td>\n",
       "    </tr>\n",
       "  </tbody>\n",
       "</table>\n",
       "</div>"
      ],
      "text/plain": [
       "      CENT_RUC                                        CENT_NOMBRE  \\\n",
       "0  20393274655  UNIDAD DE GESTIÓN EDUCATIVA LOCAL CORONEL PORT...   \n",
       "1  20195970751            DIRECCIÓN REGIONAL DE EDUCACIÓN UCAYALI   \n",
       "2  20198261476                DIRECCIÓN REGIONAL DE SALUD UCAYALI   \n",
       "3  20254165035         OFICINA DE NORMALIZACIÓN PREVISIONAL - ONP   \n",
       "4  20393146657  UNIVERSIDAD NACIONAL INTERCULTURAL DE LA AMAZONIA   \n",
       "\n",
       "  NOMBRE_DEPARTAMENTO  NOMBRE_PROVINCIA NOMBRE_DISTRITO          OBANT_SECTOR  \\\n",
       "0             UCAYALI  CORONEL PORTILLO        CALLARIA  GOBIERNOS REGIONALES   \n",
       "1             UCAYALI  CORONEL PORTILLO        CALLARIA  GOBIERNOS REGIONALES   \n",
       "2             UCAYALI  CORONEL PORTILLO        CALLARIA  GOBIERNOS REGIONALES   \n",
       "3                LIMA              LIMA            LIMA   ECONOMÍA Y FINANZAS   \n",
       "4             UCAYALI  CORONEL PORTILLO     YARINACOCHA             EDUCACIÓN   \n",
       "\n",
       "   NRO_TRABAJADORES  NRO_TRAB_ACTIVOS  \n",
       "0             10078              9183  \n",
       "1               591               515  \n",
       "2              1886              1752  \n",
       "3            711179            707010  \n",
       "4               278               224  "
      ]
     },
     "execution_count": 86,
     "metadata": {},
     "output_type": "execute_result"
    }
   ],
   "source": [
    "master_entidad = pd.merge(master_entidad, trabaj_activos_df, on='CENT_RUC', how='left')\n",
    "master_entidad.head()"
   ]
  },
  {
   "cell_type": "code",
   "execution_count": 87,
   "id": "c098ed8e-bfb4-4978-9c36-92b07097cde2",
   "metadata": {},
   "outputs": [
    {
     "name": "stdout",
     "output_type": "stream",
     "text": [
      "CPU times: user 40.6 ms, sys: 87 µs, total: 40.7 ms\n",
      "Wall time: 42.6 ms\n"
     ]
    }
   ],
   "source": [
    "%%time\n",
    "#nro trabajadores no activos\n",
    "trabaj_no_activos_df = master_workers[master_workers[\"ESTADO\"]==0].groupby([\"CENT_RUC\"])[\"NUMERO_DOCUMENTO_A\"].nunique().to_frame('NRO_TRAB_NO_ACTIVOS').reset_index()"
   ]
  },
  {
   "cell_type": "code",
   "execution_count": 88,
   "id": "34f02011-db04-4945-ad6a-38adb077bf67",
   "metadata": {},
   "outputs": [
    {
     "data": {
      "text/html": [
       "<div>\n",
       "<style scoped>\n",
       "    .dataframe tbody tr th:only-of-type {\n",
       "        vertical-align: middle;\n",
       "    }\n",
       "\n",
       "    .dataframe tbody tr th {\n",
       "        vertical-align: top;\n",
       "    }\n",
       "\n",
       "    .dataframe thead th {\n",
       "        text-align: right;\n",
       "    }\n",
       "</style>\n",
       "<table border=\"1\" class=\"dataframe\">\n",
       "  <thead>\n",
       "    <tr style=\"text-align: right;\">\n",
       "      <th></th>\n",
       "      <th>CENT_RUC</th>\n",
       "      <th>CENT_NOMBRE</th>\n",
       "      <th>NOMBRE_DEPARTAMENTO</th>\n",
       "      <th>NOMBRE_PROVINCIA</th>\n",
       "      <th>NOMBRE_DISTRITO</th>\n",
       "      <th>OBANT_SECTOR</th>\n",
       "      <th>NRO_TRABAJADORES</th>\n",
       "      <th>NRO_TRAB_ACTIVOS</th>\n",
       "      <th>NRO_TRAB_NO_ACTIVOS</th>\n",
       "    </tr>\n",
       "  </thead>\n",
       "  <tbody>\n",
       "    <tr>\n",
       "      <th>0</th>\n",
       "      <td>20393274655</td>\n",
       "      <td>UNIDAD DE GESTIÓN EDUCATIVA LOCAL CORONEL PORT...</td>\n",
       "      <td>UCAYALI</td>\n",
       "      <td>CORONEL PORTILLO</td>\n",
       "      <td>CALLARIA</td>\n",
       "      <td>GOBIERNOS REGIONALES</td>\n",
       "      <td>10078</td>\n",
       "      <td>9183</td>\n",
       "      <td>468.0</td>\n",
       "    </tr>\n",
       "    <tr>\n",
       "      <th>1</th>\n",
       "      <td>20195970751</td>\n",
       "      <td>DIRECCIÓN REGIONAL DE EDUCACIÓN UCAYALI</td>\n",
       "      <td>UCAYALI</td>\n",
       "      <td>CORONEL PORTILLO</td>\n",
       "      <td>CALLARIA</td>\n",
       "      <td>GOBIERNOS REGIONALES</td>\n",
       "      <td>591</td>\n",
       "      <td>515</td>\n",
       "      <td>12.0</td>\n",
       "    </tr>\n",
       "    <tr>\n",
       "      <th>2</th>\n",
       "      <td>20198261476</td>\n",
       "      <td>DIRECCIÓN REGIONAL DE SALUD UCAYALI</td>\n",
       "      <td>UCAYALI</td>\n",
       "      <td>CORONEL PORTILLO</td>\n",
       "      <td>CALLARIA</td>\n",
       "      <td>GOBIERNOS REGIONALES</td>\n",
       "      <td>1886</td>\n",
       "      <td>1752</td>\n",
       "      <td>47.0</td>\n",
       "    </tr>\n",
       "    <tr>\n",
       "      <th>3</th>\n",
       "      <td>20254165035</td>\n",
       "      <td>OFICINA DE NORMALIZACIÓN PREVISIONAL - ONP</td>\n",
       "      <td>LIMA</td>\n",
       "      <td>LIMA</td>\n",
       "      <td>LIMA</td>\n",
       "      <td>ECONOMÍA Y FINANZAS</td>\n",
       "      <td>711179</td>\n",
       "      <td>707010</td>\n",
       "      <td>290.0</td>\n",
       "    </tr>\n",
       "    <tr>\n",
       "      <th>4</th>\n",
       "      <td>20393146657</td>\n",
       "      <td>UNIVERSIDAD NACIONAL INTERCULTURAL DE LA AMAZONIA</td>\n",
       "      <td>UCAYALI</td>\n",
       "      <td>CORONEL PORTILLO</td>\n",
       "      <td>YARINACOCHA</td>\n",
       "      <td>EDUCACIÓN</td>\n",
       "      <td>278</td>\n",
       "      <td>224</td>\n",
       "      <td>NaN</td>\n",
       "    </tr>\n",
       "  </tbody>\n",
       "</table>\n",
       "</div>"
      ],
      "text/plain": [
       "      CENT_RUC                                        CENT_NOMBRE  \\\n",
       "0  20393274655  UNIDAD DE GESTIÓN EDUCATIVA LOCAL CORONEL PORT...   \n",
       "1  20195970751            DIRECCIÓN REGIONAL DE EDUCACIÓN UCAYALI   \n",
       "2  20198261476                DIRECCIÓN REGIONAL DE SALUD UCAYALI   \n",
       "3  20254165035         OFICINA DE NORMALIZACIÓN PREVISIONAL - ONP   \n",
       "4  20393146657  UNIVERSIDAD NACIONAL INTERCULTURAL DE LA AMAZONIA   \n",
       "\n",
       "  NOMBRE_DEPARTAMENTO  NOMBRE_PROVINCIA NOMBRE_DISTRITO          OBANT_SECTOR  \\\n",
       "0             UCAYALI  CORONEL PORTILLO        CALLARIA  GOBIERNOS REGIONALES   \n",
       "1             UCAYALI  CORONEL PORTILLO        CALLARIA  GOBIERNOS REGIONALES   \n",
       "2             UCAYALI  CORONEL PORTILLO        CALLARIA  GOBIERNOS REGIONALES   \n",
       "3                LIMA              LIMA            LIMA   ECONOMÍA Y FINANZAS   \n",
       "4             UCAYALI  CORONEL PORTILLO     YARINACOCHA             EDUCACIÓN   \n",
       "\n",
       "   NRO_TRABAJADORES  NRO_TRAB_ACTIVOS  NRO_TRAB_NO_ACTIVOS  \n",
       "0             10078              9183                468.0  \n",
       "1               591               515                 12.0  \n",
       "2              1886              1752                 47.0  \n",
       "3            711179            707010                290.0  \n",
       "4               278               224                  NaN  "
      ]
     },
     "execution_count": 88,
     "metadata": {},
     "output_type": "execute_result"
    }
   ],
   "source": [
    "master_entidad = pd.merge(master_entidad, trabaj_no_activos_df, on='CENT_RUC', how='left')\n",
    "master_entidad.head()"
   ]
  },
  {
   "cell_type": "code",
   "execution_count": 96,
   "id": "4fbe7bb8-e541-4f14-99ed-694c57288c21",
   "metadata": {},
   "outputs": [
    {
     "name": "stdout",
     "output_type": "stream",
     "text": [
      "CPU times: user 584 ms, sys: 111 ms, total: 694 ms\n",
      "Wall time: 697 ms\n"
     ]
    },
    {
     "data": {
      "text/html": [
       "<div>\n",
       "<style scoped>\n",
       "    .dataframe tbody tr th:only-of-type {\n",
       "        vertical-align: middle;\n",
       "    }\n",
       "\n",
       "    .dataframe tbody tr th {\n",
       "        vertical-align: top;\n",
       "    }\n",
       "\n",
       "    .dataframe thead th {\n",
       "        text-align: right;\n",
       "    }\n",
       "</style>\n",
       "<table border=\"1\" class=\"dataframe\">\n",
       "  <thead>\n",
       "    <tr style=\"text-align: right;\">\n",
       "      <th></th>\n",
       "      <th>COSTO_PRESUP</th>\n",
       "      <th>TOTAL_MENSUAL</th>\n",
       "    </tr>\n",
       "    <tr>\n",
       "      <th>CENT_RUC</th>\n",
       "      <th></th>\n",
       "      <th></th>\n",
       "    </tr>\n",
       "  </thead>\n",
       "  <tbody>\n",
       "    <tr>\n",
       "      <th>20105685875</th>\n",
       "      <td>70293892.32</td>\n",
       "      <td>73397057.24</td>\n",
       "    </tr>\n",
       "    <tr>\n",
       "      <th>20112919377</th>\n",
       "      <td>28497718.72</td>\n",
       "      <td>27751792.72</td>\n",
       "    </tr>\n",
       "    <tr>\n",
       "      <th>20114050530</th>\n",
       "      <td>5560978.26</td>\n",
       "      <td>5006884.51</td>\n",
       "    </tr>\n",
       "    <tr>\n",
       "      <th>20131016396</th>\n",
       "      <td>31112582.15</td>\n",
       "      <td>29865970.67</td>\n",
       "    </tr>\n",
       "    <tr>\n",
       "      <th>20131023414</th>\n",
       "      <td>65504230.03</td>\n",
       "      <td>66046710.40</td>\n",
       "    </tr>\n",
       "  </tbody>\n",
       "</table>\n",
       "</div>"
      ],
      "text/plain": [
       "             COSTO_PRESUP  TOTAL_MENSUAL\n",
       "CENT_RUC                                \n",
       "20105685875   70293892.32    73397057.24\n",
       "20112919377   28497718.72    27751792.72\n",
       "20114050530    5560978.26     5006884.51\n",
       "20131016396   31112582.15    29865970.67\n",
       "20131023414   65504230.03    66046710.40"
      ]
     },
     "execution_count": 96,
     "metadata": {},
     "output_type": "execute_result"
    }
   ],
   "source": [
    "%%time\n",
    "# desviacion estandar del gasto de la entidad por sus trabajadores\n",
    "entidad_gastos_planilla = entidad_data.groupby([\"CENT_RUC\"])[[\"COSTO_PRESUP\",\"TOTAL_MENSUAL\",\"TOTAL_ANUAL\"]].agg({\n",
    "    'COSTO_PRESUP':'sum',\n",
    "    'TOTAL_MENSUAL':'sum'\n",
    "})\n",
    "entidad_gastos_planilla.head()"
   ]
  },
  {
   "cell_type": "code",
   "execution_count": 101,
   "id": "3fb7c6b1-81d2-4e79-954b-4669ce738530",
   "metadata": {},
   "outputs": [
    {
     "data": {
      "text/plain": [
       "(892, 2)"
      ]
     },
     "execution_count": 101,
     "metadata": {},
     "output_type": "execute_result"
    }
   ],
   "source": [
    "entidad_gastos_planilla.shape"
   ]
  },
  {
   "cell_type": "code",
   "execution_count": 102,
   "id": "aa7135ac-2c5d-47ba-a42e-53083e492639",
   "metadata": {},
   "outputs": [
    {
     "data": {
      "text/plain": [
       "(892, 14)"
      ]
     },
     "execution_count": 102,
     "metadata": {},
     "output_type": "execute_result"
    }
   ],
   "source": [
    "master_entidad = pd.merge(master_entidad, entidad_gastos_planilla, on='CENT_RUC', how='left')\n",
    "master_entidad.shape"
   ]
  },
  {
   "cell_type": "code",
   "execution_count": 103,
   "id": "bc95618d-755d-4576-9b64-a59e49ef7cc0",
   "metadata": {},
   "outputs": [
    {
     "data": {
      "text/html": [
       "<div>\n",
       "<style scoped>\n",
       "    .dataframe tbody tr th:only-of-type {\n",
       "        vertical-align: middle;\n",
       "    }\n",
       "\n",
       "    .dataframe tbody tr th {\n",
       "        vertical-align: top;\n",
       "    }\n",
       "\n",
       "    .dataframe thead th {\n",
       "        text-align: right;\n",
       "    }\n",
       "</style>\n",
       "<table border=\"1\" class=\"dataframe\">\n",
       "  <thead>\n",
       "    <tr style=\"text-align: right;\">\n",
       "      <th></th>\n",
       "      <th>CENT_RUC</th>\n",
       "      <th>TOTAL_ANUAL</th>\n",
       "    </tr>\n",
       "  </thead>\n",
       "  <tbody>\n",
       "    <tr>\n",
       "      <th>0</th>\n",
       "      <td>20105685875</td>\n",
       "      <td>7.969799e+07</td>\n",
       "    </tr>\n",
       "    <tr>\n",
       "      <th>1</th>\n",
       "      <td>20112919377</td>\n",
       "      <td>3.128049e+07</td>\n",
       "    </tr>\n",
       "    <tr>\n",
       "      <th>2</th>\n",
       "      <td>20114050530</td>\n",
       "      <td>6.416432e+06</td>\n",
       "    </tr>\n",
       "    <tr>\n",
       "      <th>3</th>\n",
       "      <td>20131016396</td>\n",
       "      <td>3.471544e+07</td>\n",
       "    </tr>\n",
       "    <tr>\n",
       "      <th>4</th>\n",
       "      <td>20131023414</td>\n",
       "      <td>8.106737e+07</td>\n",
       "    </tr>\n",
       "  </tbody>\n",
       "</table>\n",
       "</div>"
      ],
      "text/plain": [
       "      CENT_RUC   TOTAL_ANUAL\n",
       "0  20105685875  7.969799e+07\n",
       "1  20112919377  3.128049e+07\n",
       "2  20114050530  6.416432e+06\n",
       "3  20131016396  3.471544e+07\n",
       "4  20131023414  8.106737e+07"
      ]
     },
     "execution_count": 103,
     "metadata": {},
     "output_type": "execute_result"
    }
   ],
   "source": [
    "entidad_gastos_planilla_2 = entidad_data.groupby([\"CENT_RUC\",\"NUMERO_DOCUMENTO_A\"])[[\"TOTAL_ANUAL\"]].mean()\n",
    "entidad_gastos = entidad_gastos_planilla_2.groupby(\"CENT_RUC\")[\"TOTAL_ANUAL\"].sum()\n",
    "entidad_gastos_df = entidad_gastos.to_frame('TOTAL_ANUAL').reset_index()\n",
    "entidad_gastos_df.head()"
   ]
  },
  {
   "cell_type": "code",
   "execution_count": null,
   "id": "e148ed32-f4cf-4592-a7fc-24ace2ccc97f",
   "metadata": {},
   "outputs": [],
   "source": []
  },
  {
   "cell_type": "code",
   "execution_count": 104,
   "id": "8bb370f2-6772-43ab-abe6-e6a72a6c4018",
   "metadata": {},
   "outputs": [
    {
     "data": {
      "text/html": [
       "<div>\n",
       "<style scoped>\n",
       "    .dataframe tbody tr th:only-of-type {\n",
       "        vertical-align: middle;\n",
       "    }\n",
       "\n",
       "    .dataframe tbody tr th {\n",
       "        vertical-align: top;\n",
       "    }\n",
       "\n",
       "    .dataframe thead th {\n",
       "        text-align: right;\n",
       "    }\n",
       "</style>\n",
       "<table border=\"1\" class=\"dataframe\">\n",
       "  <thead>\n",
       "    <tr style=\"text-align: right;\">\n",
       "      <th></th>\n",
       "      <th>CENT_RUC</th>\n",
       "      <th>CENT_NOMBRE</th>\n",
       "      <th>NOMBRE_DEPARTAMENTO</th>\n",
       "      <th>NOMBRE_PROVINCIA</th>\n",
       "      <th>NOMBRE_DISTRITO</th>\n",
       "      <th>OBANT_SECTOR</th>\n",
       "      <th>NRO_TRABAJADORES</th>\n",
       "      <th>NRO_TRAB_ACTIVOS</th>\n",
       "      <th>NRO_TRAB_NO_ACTIVOS</th>\n",
       "      <th>COSTO_PRESUP_x</th>\n",
       "      <th>TOTAL_MENSUAL_x</th>\n",
       "      <th>TOTAL_ANUAL_x</th>\n",
       "      <th>COSTO_PRESUP_y</th>\n",
       "      <th>TOTAL_MENSUAL_y</th>\n",
       "      <th>TOTAL_ANUAL_y</th>\n",
       "    </tr>\n",
       "  </thead>\n",
       "  <tbody>\n",
       "    <tr>\n",
       "      <th>0</th>\n",
       "      <td>20393274655</td>\n",
       "      <td>UNIDAD DE GESTIÓN EDUCATIVA LOCAL CORONEL PORT...</td>\n",
       "      <td>UCAYALI</td>\n",
       "      <td>CORONEL PORTILLO</td>\n",
       "      <td>CALLARIA</td>\n",
       "      <td>GOBIERNOS REGIONALES</td>\n",
       "      <td>10078</td>\n",
       "      <td>9183</td>\n",
       "      <td>468.0</td>\n",
       "      <td>2.939537e+08</td>\n",
       "      <td>3.070530e+08</td>\n",
       "      <td>33358.070106</td>\n",
       "      <td>2.939537e+08</td>\n",
       "      <td>3.070530e+08</td>\n",
       "      <td>3.333983e+08</td>\n",
       "    </tr>\n",
       "    <tr>\n",
       "      <th>1</th>\n",
       "      <td>20195970751</td>\n",
       "      <td>DIRECCIÓN REGIONAL DE EDUCACIÓN UCAYALI</td>\n",
       "      <td>UCAYALI</td>\n",
       "      <td>CORONEL PORTILLO</td>\n",
       "      <td>CALLARIA</td>\n",
       "      <td>GOBIERNOS REGIONALES</td>\n",
       "      <td>591</td>\n",
       "      <td>515</td>\n",
       "      <td>12.0</td>\n",
       "      <td>1.546762e+07</td>\n",
       "      <td>1.595785e+07</td>\n",
       "      <td>32358.983231</td>\n",
       "      <td>1.546762e+07</td>\n",
       "      <td>1.595785e+07</td>\n",
       "      <td>1.986807e+07</td>\n",
       "    </tr>\n",
       "    <tr>\n",
       "      <th>2</th>\n",
       "      <td>20198261476</td>\n",
       "      <td>DIRECCIÓN REGIONAL DE SALUD UCAYALI</td>\n",
       "      <td>UCAYALI</td>\n",
       "      <td>CORONEL PORTILLO</td>\n",
       "      <td>CALLARIA</td>\n",
       "      <td>GOBIERNOS REGIONALES</td>\n",
       "      <td>1886</td>\n",
       "      <td>1752</td>\n",
       "      <td>47.0</td>\n",
       "      <td>5.704301e+07</td>\n",
       "      <td>5.893090e+07</td>\n",
       "      <td>41371.351329</td>\n",
       "      <td>5.704301e+07</td>\n",
       "      <td>5.893090e+07</td>\n",
       "      <td>7.791353e+07</td>\n",
       "    </tr>\n",
       "    <tr>\n",
       "      <th>3</th>\n",
       "      <td>20254165035</td>\n",
       "      <td>OFICINA DE NORMALIZACIÓN PREVISIONAL - ONP</td>\n",
       "      <td>LIMA</td>\n",
       "      <td>LIMA</td>\n",
       "      <td>LIMA</td>\n",
       "      <td>ECONOMÍA Y FINANZAS</td>\n",
       "      <td>711179</td>\n",
       "      <td>707010</td>\n",
       "      <td>290.0</td>\n",
       "      <td>5.723522e+09</td>\n",
       "      <td>5.274418e+09</td>\n",
       "      <td>8128.281273</td>\n",
       "      <td>5.723522e+09</td>\n",
       "      <td>5.274418e+09</td>\n",
       "      <td>5.731893e+09</td>\n",
       "    </tr>\n",
       "    <tr>\n",
       "      <th>4</th>\n",
       "      <td>20393146657</td>\n",
       "      <td>UNIVERSIDAD NACIONAL INTERCULTURAL DE LA AMAZONIA</td>\n",
       "      <td>UCAYALI</td>\n",
       "      <td>CORONEL PORTILLO</td>\n",
       "      <td>YARINACOCHA</td>\n",
       "      <td>EDUCACIÓN</td>\n",
       "      <td>278</td>\n",
       "      <td>224</td>\n",
       "      <td>NaN</td>\n",
       "      <td>1.034637e+07</td>\n",
       "      <td>1.088394e+07</td>\n",
       "      <td>50398.748509</td>\n",
       "      <td>1.034637e+07</td>\n",
       "      <td>1.088394e+07</td>\n",
       "      <td>1.446251e+07</td>\n",
       "    </tr>\n",
       "  </tbody>\n",
       "</table>\n",
       "</div>"
      ],
      "text/plain": [
       "      CENT_RUC                                        CENT_NOMBRE  \\\n",
       "0  20393274655  UNIDAD DE GESTIÓN EDUCATIVA LOCAL CORONEL PORT...   \n",
       "1  20195970751            DIRECCIÓN REGIONAL DE EDUCACIÓN UCAYALI   \n",
       "2  20198261476                DIRECCIÓN REGIONAL DE SALUD UCAYALI   \n",
       "3  20254165035         OFICINA DE NORMALIZACIÓN PREVISIONAL - ONP   \n",
       "4  20393146657  UNIVERSIDAD NACIONAL INTERCULTURAL DE LA AMAZONIA   \n",
       "\n",
       "  NOMBRE_DEPARTAMENTO  NOMBRE_PROVINCIA NOMBRE_DISTRITO          OBANT_SECTOR  \\\n",
       "0             UCAYALI  CORONEL PORTILLO        CALLARIA  GOBIERNOS REGIONALES   \n",
       "1             UCAYALI  CORONEL PORTILLO        CALLARIA  GOBIERNOS REGIONALES   \n",
       "2             UCAYALI  CORONEL PORTILLO        CALLARIA  GOBIERNOS REGIONALES   \n",
       "3                LIMA              LIMA            LIMA   ECONOMÍA Y FINANZAS   \n",
       "4             UCAYALI  CORONEL PORTILLO     YARINACOCHA             EDUCACIÓN   \n",
       "\n",
       "   NRO_TRABAJADORES  NRO_TRAB_ACTIVOS  NRO_TRAB_NO_ACTIVOS  COSTO_PRESUP_x  \\\n",
       "0             10078              9183                468.0    2.939537e+08   \n",
       "1               591               515                 12.0    1.546762e+07   \n",
       "2              1886              1752                 47.0    5.704301e+07   \n",
       "3            711179            707010                290.0    5.723522e+09   \n",
       "4               278               224                  NaN    1.034637e+07   \n",
       "\n",
       "   TOTAL_MENSUAL_x  TOTAL_ANUAL_x  COSTO_PRESUP_y  TOTAL_MENSUAL_y  \\\n",
       "0     3.070530e+08   33358.070106    2.939537e+08     3.070530e+08   \n",
       "1     1.595785e+07   32358.983231    1.546762e+07     1.595785e+07   \n",
       "2     5.893090e+07   41371.351329    5.704301e+07     5.893090e+07   \n",
       "3     5.274418e+09    8128.281273    5.723522e+09     5.274418e+09   \n",
       "4     1.088394e+07   50398.748509    1.034637e+07     1.088394e+07   \n",
       "\n",
       "   TOTAL_ANUAL_y  \n",
       "0   3.333983e+08  \n",
       "1   1.986807e+07  \n",
       "2   7.791353e+07  \n",
       "3   5.731893e+09  \n",
       "4   1.446251e+07  "
      ]
     },
     "execution_count": 104,
     "metadata": {},
     "output_type": "execute_result"
    }
   ],
   "source": [
    "master_entidad = pd.merge(master_entidad, entidad_gastos_df, on='CENT_RUC', how='left')\n",
    "master_entidad.head()"
   ]
  },
  {
   "cell_type": "code",
   "execution_count": 105,
   "id": "1e14e5f4-557e-46de-898c-58392d5f4b19",
   "metadata": {},
   "outputs": [
    {
     "data": {
      "text/plain": [
       "(892, 15)"
      ]
     },
     "execution_count": 105,
     "metadata": {},
     "output_type": "execute_result"
    }
   ],
   "source": [
    "master_entidad.shape"
   ]
  },
  {
   "cell_type": "code",
   "execution_count": null,
   "id": "83b49e81-639b-4d79-b217-874cbfd8a800",
   "metadata": {},
   "outputs": [],
   "source": []
  },
  {
   "cell_type": "code",
   "execution_count": 106,
   "id": "322d2e08-79aa-4515-8c5b-6cfff9d5ea03",
   "metadata": {},
   "outputs": [],
   "source": [
    "master_entidad.to_csv(folder_data + \"master_entidad.csv\", index=False)"
   ]
  },
  {
   "cell_type": "code",
   "execution_count": null,
   "id": "de79f252-3a15-4659-ac83-292f49716fbc",
   "metadata": {},
   "outputs": [],
   "source": []
  },
  {
   "cell_type": "code",
   "execution_count": null,
   "id": "a19752e1-783b-4a7e-bea1-1bee4e696fa3",
   "metadata": {},
   "outputs": [],
   "source": []
  },
  {
   "cell_type": "code",
   "execution_count": null,
   "id": "b49116a0-e76f-4025-89fa-a2dc92b1d91a",
   "metadata": {},
   "outputs": [],
   "source": []
  },
  {
   "cell_type": "code",
   "execution_count": null,
   "id": "29980a56-0827-4da1-8f15-8b61325cecf5",
   "metadata": {},
   "outputs": [],
   "source": []
  },
  {
   "cell_type": "code",
   "execution_count": null,
   "id": "1eeb1ee0-6ad6-468b-999d-658912efbc1e",
   "metadata": {},
   "outputs": [],
   "source": []
  },
  {
   "cell_type": "code",
   "execution_count": null,
   "id": "9459e29c-df57-4151-8258-f117938428ca",
   "metadata": {},
   "outputs": [],
   "source": []
  },
  {
   "cell_type": "code",
   "execution_count": null,
   "id": "3a08e852-67f1-4843-a79e-b51fd946ad58",
   "metadata": {},
   "outputs": [],
   "source": [
    "\n",
    "# FUNCIONARIO\n",
    "# ATRIBUTO: trabajo_2022 (boolean)\n",
    "# ATRIBUTO: cese_2022 (boolean)\n",
    "# ATRIBUTO: activo (boolean)\n",
    "\n",
    "\n",
    "# ENTIDAD\n",
    "# ATRIBUTO: nro trabajadores activos\n",
    "# ATRIBUTO: nro trabajadores que cesaron\n",
    "# ATRIBUTO: nro trabajadores que trabajaron el 2022\n",
    "\n",
    "# ATRIBUTO: numero de trabajadores activos según grupo funcional\n",
    "# ATRIBUTO: numero de trabajadores activos según TIPO-REGISTRO\n",
    "# ATRIBUTO: suma de costo presupuestado\n",
    "# ATRIBUTO: promedio de incentivo unico\n",
    "# ATRIBUTO: promedio del total mensual\n",
    "# ATRIBUTO: promedio del total anual\n",
    "\n",
    "desviaci[on estandar\n",
    "\n",
    "# normalizar DESC_GRUPO_OCUPACIONAL\n",
    "\n"
   ]
  },
  {
   "cell_type": "code",
   "execution_count": 61,
   "id": "ebf984ba-f2ce-4415-b20f-ec0a0da34210",
   "metadata": {},
   "outputs": [],
   "source": [
    "custom_airhsp = airhsp_data[[\"NUMERO_DOCUMENTO_A\",\"DESC_GRUPO_OCUPACIONAL\",\"CENT_RUC\",\"CENT_NOMBRE\",\"OBANT_GRUPO_FUNCIONAL\",\"COSTO_PRESUP\",\"INCENTIVO_UNICO\",\"TOTAL_MENSUAL\"]]"
   ]
  },
  {
   "cell_type": "code",
   "execution_count": 62,
   "id": "b230749e-b997-4b9b-8df1-c7b541431290",
   "metadata": {},
   "outputs": [
    {
     "data": {
      "text/html": [
       "<div>\n",
       "<style scoped>\n",
       "    .dataframe tbody tr th:only-of-type {\n",
       "        vertical-align: middle;\n",
       "    }\n",
       "\n",
       "    .dataframe tbody tr th {\n",
       "        vertical-align: top;\n",
       "    }\n",
       "\n",
       "    .dataframe thead th {\n",
       "        text-align: right;\n",
       "    }\n",
       "</style>\n",
       "<table border=\"1\" class=\"dataframe\">\n",
       "  <thead>\n",
       "    <tr style=\"text-align: right;\">\n",
       "      <th></th>\n",
       "      <th>NUMERO_DOCUMENTO_A</th>\n",
       "      <th>DESC_GRUPO_OCUPACIONAL</th>\n",
       "      <th>CENT_RUC</th>\n",
       "      <th>CENT_NOMBRE</th>\n",
       "      <th>OBANT_GRUPO_FUNCIONAL</th>\n",
       "      <th>COSTO_PRESUP</th>\n",
       "      <th>INCENTIVO_UNICO</th>\n",
       "      <th>TOTAL_MENSUAL</th>\n",
       "    </tr>\n",
       "  </thead>\n",
       "  <tbody>\n",
       "    <tr>\n",
       "      <th>0</th>\n",
       "      <td>10000482</td>\n",
       "      <td>Profesorado</td>\n",
       "      <td>20393274655</td>\n",
       "      <td>UNIDAD DE GESTIÓN EDUCATIVA LOCAL CORONEL PORT...</td>\n",
       "      <td>GOBIERNO REGIONAL</td>\n",
       "      <td>1267.68</td>\n",
       "      <td>0.0</td>\n",
       "      <td>1184.35</td>\n",
       "    </tr>\n",
       "    <tr>\n",
       "      <th>1</th>\n",
       "      <td>10002552</td>\n",
       "      <td>Profesionales</td>\n",
       "      <td>20195970751</td>\n",
       "      <td>DIRECCIÓN REGIONAL DE EDUCACIÓN UCAYALI</td>\n",
       "      <td>GOBIERNO REGIONAL</td>\n",
       "      <td>2262.97</td>\n",
       "      <td>1230.0</td>\n",
       "      <td>2263.34</td>\n",
       "    </tr>\n",
       "    <tr>\n",
       "      <th>2</th>\n",
       "      <td>10005000</td>\n",
       "      <td>Tecnicos</td>\n",
       "      <td>20198261476</td>\n",
       "      <td>DIRECCIÓN REGIONAL DE SALUD UCAYALI</td>\n",
       "      <td>GOBIERNO REGIONAL</td>\n",
       "      <td>3211.88</td>\n",
       "      <td>0.0</td>\n",
       "      <td>3252.98</td>\n",
       "    </tr>\n",
       "    <tr>\n",
       "      <th>3</th>\n",
       "      <td>10008979</td>\n",
       "      <td>Reforma Magisterial</td>\n",
       "      <td>20393274655</td>\n",
       "      <td>UNIDAD DE GESTIÓN EDUCATIVA LOCAL CORONEL PORT...</td>\n",
       "      <td>GOBIERNO REGIONAL</td>\n",
       "      <td>2583.63</td>\n",
       "      <td>0.0</td>\n",
       "      <td>2740.72</td>\n",
       "    </tr>\n",
       "    <tr>\n",
       "      <th>4</th>\n",
       "      <td>10011497</td>\n",
       "      <td>Sin Grupo Ocupacional</td>\n",
       "      <td>20254165035</td>\n",
       "      <td>OFICINA DE NORMALIZACIÓN PREVISIONAL - ONP</td>\n",
       "      <td>ECONOMICA PRODUCTIVA</td>\n",
       "      <td>385.00</td>\n",
       "      <td>0.0</td>\n",
       "      <td>385.00</td>\n",
       "    </tr>\n",
       "  </tbody>\n",
       "</table>\n",
       "</div>"
      ],
      "text/plain": [
       "   NUMERO_DOCUMENTO_A DESC_GRUPO_OCUPACIONAL     CENT_RUC  \\\n",
       "0            10000482            Profesorado  20393274655   \n",
       "1            10002552          Profesionales  20195970751   \n",
       "2            10005000               Tecnicos  20198261476   \n",
       "3            10008979    Reforma Magisterial  20393274655   \n",
       "4            10011497  Sin Grupo Ocupacional  20254165035   \n",
       "\n",
       "                                         CENT_NOMBRE OBANT_GRUPO_FUNCIONAL  \\\n",
       "0  UNIDAD DE GESTIÓN EDUCATIVA LOCAL CORONEL PORT...     GOBIERNO REGIONAL   \n",
       "1            DIRECCIÓN REGIONAL DE EDUCACIÓN UCAYALI     GOBIERNO REGIONAL   \n",
       "2                DIRECCIÓN REGIONAL DE SALUD UCAYALI     GOBIERNO REGIONAL   \n",
       "3  UNIDAD DE GESTIÓN EDUCATIVA LOCAL CORONEL PORT...     GOBIERNO REGIONAL   \n",
       "4         OFICINA DE NORMALIZACIÓN PREVISIONAL - ONP  ECONOMICA PRODUCTIVA   \n",
       "\n",
       "   COSTO_PRESUP  INCENTIVO_UNICO  TOTAL_MENSUAL  \n",
       "0       1267.68              0.0        1184.35  \n",
       "1       2262.97           1230.0        2263.34  \n",
       "2       3211.88              0.0        3252.98  \n",
       "3       2583.63              0.0        2740.72  \n",
       "4        385.00              0.0         385.00  "
      ]
     },
     "execution_count": 62,
     "metadata": {},
     "output_type": "execute_result"
    }
   ],
   "source": [
    "custom_airhsp.head()"
   ]
  },
  {
   "cell_type": "code",
   "execution_count": 63,
   "id": "574c4ba3-c090-4052-b6d5-2ba0b6b83601",
   "metadata": {},
   "outputs": [],
   "source": [
    "custom_airhsp.to_csv(folder_data + \"airhsp_v1.csv\", index=False)"
   ]
  },
  {
   "cell_type": "code",
   "execution_count": null,
   "id": "50ae5004-0493-4a60-a6cb-a821303b1e3e",
   "metadata": {},
   "outputs": [],
   "source": []
  },
  {
   "cell_type": "code",
   "execution_count": null,
   "id": "0e72da2c-530a-42f5-ac15-d8505c643ac8",
   "metadata": {},
   "outputs": [],
   "source": []
  },
  {
   "cell_type": "code",
   "execution_count": null,
   "id": "a913d6b9-e60c-4afb-a384-9caf8164c173",
   "metadata": {},
   "outputs": [],
   "source": []
  },
  {
   "cell_type": "markdown",
   "id": "a37fd175-7faa-4d20-b4c0-ce242147d08c",
   "metadata": {},
   "source": [
    "### SEACE"
   ]
  },
  {
   "cell_type": "code",
   "execution_count": 49,
   "id": "c1883d72-e172-422e-85b5-c71437452c82",
   "metadata": {},
   "outputs": [
    {
     "name": "stdout",
     "output_type": "stream",
     "text": [
      "\n",
      "Tamaños de archivos CSV en DS02_SEACE.zip:\n",
      "['DS02_SEACE.csv']\n",
      "DS02_SEACE.csv\n",
      "CPU times: user 1.86 s, sys: 56.9 ms, total: 1.92 s\n",
      "Wall time: 1.94 s\n"
     ]
    }
   ],
   "source": [
    "%%time\n",
    "\n",
    "seace_data = get_dataset('ds_seace',0)"
   ]
  },
  {
   "cell_type": "code",
   "execution_count": 62,
   "id": "2863bca7-4f0a-45da-865d-d2bbada99bff",
   "metadata": {},
   "outputs": [
    {
     "data": {
      "text/plain": [
       "(248253, 24)"
      ]
     },
     "execution_count": 62,
     "metadata": {},
     "output_type": "execute_result"
    }
   ],
   "source": [
    "seace_data.shape"
   ]
  },
  {
   "cell_type": "code",
   "execution_count": 50,
   "id": "58e2afc9-1a23-44bb-9b1b-15436f9dba3b",
   "metadata": {},
   "outputs": [
    {
     "data": {
      "text/plain": [
       "(248253, 19)"
      ]
     },
     "execution_count": 50,
     "metadata": {},
     "output_type": "execute_result"
    }
   ],
   "source": [
    "seace_data.shape"
   ]
  },
  {
   "cell_type": "code",
   "execution_count": 51,
   "id": "43cb812e-3ccf-41b0-8ab4-c036a92f553f",
   "metadata": {},
   "outputs": [
    {
     "data": {
      "text/plain": [
       "3004"
      ]
     },
     "execution_count": 51,
     "metadata": {},
     "output_type": "execute_result"
    }
   ],
   "source": [
    "len(seace_data[\"CENT_RUC\"].unique())"
   ]
  },
  {
   "cell_type": "code",
   "execution_count": 52,
   "id": "c08488be-6829-4743-8ca6-f120c8a514dd",
   "metadata": {},
   "outputs": [
    {
     "data": {
      "text/html": [
       "<div>\n",
       "<style scoped>\n",
       "    .dataframe tbody tr th:only-of-type {\n",
       "        vertical-align: middle;\n",
       "    }\n",
       "\n",
       "    .dataframe tbody tr th {\n",
       "        vertical-align: top;\n",
       "    }\n",
       "\n",
       "    .dataframe thead th {\n",
       "        text-align: right;\n",
       "    }\n",
       "</style>\n",
       "<table border=\"1\" class=\"dataframe\">\n",
       "  <thead>\n",
       "    <tr style=\"text-align: right;\">\n",
       "      <th></th>\n",
       "      <th>N_ID_EXPEDE</th>\n",
       "      <th>CENT_RUC</th>\n",
       "      <th>CENT_NOMBRE</th>\n",
       "      <th>OBANT_NIVEL_GOB</th>\n",
       "      <th>OBANT_SECTOR</th>\n",
       "      <th>NOMBRE_DEPARTAMENTO</th>\n",
       "      <th>NOMBRE_PROVINCIA</th>\n",
       "      <th>NOMBRE_DISTRITO</th>\n",
       "      <th>TIPO_PROCESO</th>\n",
       "      <th>PROCESO_SELECCION</th>\n",
       "      <th>FECHA_PUBLICACION</th>\n",
       "      <th>FECHA_ADJUDICACION</th>\n",
       "      <th>TIPO_MONEDA</th>\n",
       "      <th>TIPO_CAMBIO_CONV</th>\n",
       "      <th>MONTO_ADJUDICADO</th>\n",
       "      <th>MONTO_ADJ_PROVEEDOR</th>\n",
       "      <th>NUMERO_ITEMS</th>\n",
       "      <th>RUC_PROVEEDOR</th>\n",
       "      <th>ES_CONSORCIO</th>\n",
       "    </tr>\n",
       "  </thead>\n",
       "  <tbody>\n",
       "    <tr>\n",
       "      <th>0</th>\n",
       "      <td>680584</td>\n",
       "      <td>20555195444</td>\n",
       "      <td>SUPERINTENDENCIA NACIONAL DE FISCALIZACIÓN LAB...</td>\n",
       "      <td>GOBIERNO NACIONAL</td>\n",
       "      <td>TRABAJO Y PROMOCIÓN DEL EMPLEO</td>\n",
       "      <td>LIMA</td>\n",
       "      <td>LIMA</td>\n",
       "      <td>JESUS MARIA</td>\n",
       "      <td>Contratación Directa</td>\n",
       "      <td>DIRECTA-PROC-8-2020-SUNAFIL-1</td>\n",
       "      <td>15/12/2020</td>\n",
       "      <td>16/12/2020</td>\n",
       "      <td>S/</td>\n",
       "      <td>1.0</td>\n",
       "      <td>204000.00</td>\n",
       "      <td>204000.000</td>\n",
       "      <td>1</td>\n",
       "      <td>10101723050</td>\n",
       "      <td>N</td>\n",
       "    </tr>\n",
       "    <tr>\n",
       "      <th>1</th>\n",
       "      <td>653921</td>\n",
       "      <td>20602398103</td>\n",
       "      <td>REGION POLICIAL HUANUCO - SAN MARTIN - UCAYALI</td>\n",
       "      <td>GOBIERNO NACIONAL</td>\n",
       "      <td>INTERIOR</td>\n",
       "      <td>HUANUCO</td>\n",
       "      <td>HUANUCO</td>\n",
       "      <td>HUANUCO</td>\n",
       "      <td>Adjudicación Simplificada</td>\n",
       "      <td>AS-SM-6-2020-UEHSMU-4</td>\n",
       "      <td>29/09/2020</td>\n",
       "      <td>13/10/2020</td>\n",
       "      <td>S/</td>\n",
       "      <td>1.0</td>\n",
       "      <td>224913.00</td>\n",
       "      <td>224913.000</td>\n",
       "      <td>1</td>\n",
       "      <td>10102123960</td>\n",
       "      <td>N</td>\n",
       "    </tr>\n",
       "    <tr>\n",
       "      <th>2</th>\n",
       "      <td>590946</td>\n",
       "      <td>20207736261</td>\n",
       "      <td>PROYECTO ESPECIAL BINACIONAL DESARROLLO INTEGR...</td>\n",
       "      <td>GOBIERNO NACIONAL</td>\n",
       "      <td>AGRARIO Y DE RIEGO</td>\n",
       "      <td>LORETO</td>\n",
       "      <td>MAYNAS</td>\n",
       "      <td>IQUITOS</td>\n",
       "      <td>Adjudicación Simplificada</td>\n",
       "      <td>AS-SM-16-2019-PEBDICP/OEC-1</td>\n",
       "      <td>24/12/2019</td>\n",
       "      <td>30/01/2020</td>\n",
       "      <td>S/</td>\n",
       "      <td>1.0</td>\n",
       "      <td>72000.00</td>\n",
       "      <td>72000.000</td>\n",
       "      <td>1</td>\n",
       "      <td>10102395900</td>\n",
       "      <td>N</td>\n",
       "    </tr>\n",
       "    <tr>\n",
       "      <th>3</th>\n",
       "      <td>592653</td>\n",
       "      <td>20548776920</td>\n",
       "      <td>PROGRAMA NACIONAL DE SANEAMIENTO RURAL</td>\n",
       "      <td>GOBIERNO NACIONAL</td>\n",
       "      <td>VIVIENDA CONSTRUCCIÓN Y SANEAMIENTO</td>\n",
       "      <td>LIMA</td>\n",
       "      <td>LIMA</td>\n",
       "      <td>MIRAFLORES</td>\n",
       "      <td>Adjudicación Simplificada</td>\n",
       "      <td>AS-SM-71-2019-PNSR-1</td>\n",
       "      <td>30/12/2019</td>\n",
       "      <td>17/02/2020</td>\n",
       "      <td>S/</td>\n",
       "      <td>1.0</td>\n",
       "      <td>129756.44</td>\n",
       "      <td>77853.864</td>\n",
       "      <td>1</td>\n",
       "      <td>10102560950</td>\n",
       "      <td>S</td>\n",
       "    </tr>\n",
       "    <tr>\n",
       "      <th>4</th>\n",
       "      <td>633502</td>\n",
       "      <td>20148170933</td>\n",
       "      <td>MUNICIPALIDAD PROVINCIAL DE RIOJA</td>\n",
       "      <td>GOBIERNO LOCAL</td>\n",
       "      <td>GOBIERNO LOCAL</td>\n",
       "      <td>SAN MARTIN</td>\n",
       "      <td>RIOJA</td>\n",
       "      <td>RIOJA</td>\n",
       "      <td>Regímen Especial</td>\n",
       "      <td>RES-PROC-12-2020-MPR/CS-1</td>\n",
       "      <td>31/07/2020</td>\n",
       "      <td>14/08/2020</td>\n",
       "      <td>S/</td>\n",
       "      <td>1.0</td>\n",
       "      <td>65299.20</td>\n",
       "      <td>65299.200</td>\n",
       "      <td>1</td>\n",
       "      <td>10102560950</td>\n",
       "      <td>N</td>\n",
       "    </tr>\n",
       "  </tbody>\n",
       "</table>\n",
       "</div>"
      ],
      "text/plain": [
       "   N_ID_EXPEDE     CENT_RUC  \\\n",
       "0       680584  20555195444   \n",
       "1       653921  20602398103   \n",
       "2       590946  20207736261   \n",
       "3       592653  20548776920   \n",
       "4       633502  20148170933   \n",
       "\n",
       "                                         CENT_NOMBRE    OBANT_NIVEL_GOB  \\\n",
       "0  SUPERINTENDENCIA NACIONAL DE FISCALIZACIÓN LAB...  GOBIERNO NACIONAL   \n",
       "1     REGION POLICIAL HUANUCO - SAN MARTIN - UCAYALI  GOBIERNO NACIONAL   \n",
       "2  PROYECTO ESPECIAL BINACIONAL DESARROLLO INTEGR...  GOBIERNO NACIONAL   \n",
       "3             PROGRAMA NACIONAL DE SANEAMIENTO RURAL  GOBIERNO NACIONAL   \n",
       "4                  MUNICIPALIDAD PROVINCIAL DE RIOJA     GOBIERNO LOCAL   \n",
       "\n",
       "                          OBANT_SECTOR NOMBRE_DEPARTAMENTO NOMBRE_PROVINCIA  \\\n",
       "0       TRABAJO Y PROMOCIÓN DEL EMPLEO                LIMA             LIMA   \n",
       "1                             INTERIOR             HUANUCO          HUANUCO   \n",
       "2                   AGRARIO Y DE RIEGO              LORETO           MAYNAS   \n",
       "3  VIVIENDA CONSTRUCCIÓN Y SANEAMIENTO                LIMA             LIMA   \n",
       "4                       GOBIERNO LOCAL          SAN MARTIN            RIOJA   \n",
       "\n",
       "  NOMBRE_DISTRITO               TIPO_PROCESO              PROCESO_SELECCION  \\\n",
       "0     JESUS MARIA       Contratación Directa  DIRECTA-PROC-8-2020-SUNAFIL-1   \n",
       "1         HUANUCO  Adjudicación Simplificada          AS-SM-6-2020-UEHSMU-4   \n",
       "2         IQUITOS  Adjudicación Simplificada    AS-SM-16-2019-PEBDICP/OEC-1   \n",
       "3      MIRAFLORES  Adjudicación Simplificada           AS-SM-71-2019-PNSR-1   \n",
       "4           RIOJA           Regímen Especial      RES-PROC-12-2020-MPR/CS-1   \n",
       "\n",
       "  FECHA_PUBLICACION FECHA_ADJUDICACION TIPO_MONEDA  TIPO_CAMBIO_CONV  \\\n",
       "0        15/12/2020         16/12/2020          S/               1.0   \n",
       "1        29/09/2020         13/10/2020          S/               1.0   \n",
       "2        24/12/2019         30/01/2020          S/               1.0   \n",
       "3        30/12/2019         17/02/2020          S/               1.0   \n",
       "4        31/07/2020         14/08/2020          S/               1.0   \n",
       "\n",
       "   MONTO_ADJUDICADO  MONTO_ADJ_PROVEEDOR NUMERO_ITEMS RUC_PROVEEDOR  \\\n",
       "0         204000.00           204000.000            1   10101723050   \n",
       "1         224913.00           224913.000            1   10102123960   \n",
       "2          72000.00            72000.000            1   10102395900   \n",
       "3         129756.44            77853.864            1   10102560950   \n",
       "4          65299.20            65299.200            1   10102560950   \n",
       "\n",
       "  ES_CONSORCIO  \n",
       "0            N  \n",
       "1            N  \n",
       "2            N  \n",
       "3            S  \n",
       "4            N  "
      ]
     },
     "execution_count": 52,
     "metadata": {},
     "output_type": "execute_result"
    }
   ],
   "source": [
    "seace_data.head(5)"
   ]
  },
  {
   "cell_type": "code",
   "execution_count": null,
   "id": "42a0789a-8f0a-4976-96ba-1feb3e4d3142",
   "metadata": {},
   "outputs": [],
   "source": []
  },
  {
   "cell_type": "code",
   "execution_count": 53,
   "id": "ac4a85da-8d10-48d0-8d13-1f938b3e46a8",
   "metadata": {},
   "outputs": [],
   "source": [
    "# normalizar la unidad monetaria (convertir todos los montos a soles)\n",
    "seace_data[\"MONTO_ADJUDICADO_SOLES\"] = seace_data[\"MONTO_ADJUDICADO\"] * seace_data[\"TIPO_CAMBIO_CONV\"]\n",
    "seace_data[\"MONTO_ADJ_PROVEEDOR_SOLES\"] = seace_data[\"MONTO_ADJ_PROVEEDOR\"] * seace_data[\"TIPO_CAMBIO_CONV\"]"
   ]
  },
  {
   "cell_type": "code",
   "execution_count": 54,
   "id": "81f3e460-d11b-4a78-bcfa-fdaeab48a655",
   "metadata": {},
   "outputs": [
    {
     "name": "stderr",
     "output_type": "stream",
     "text": [
      "/tmp/ipykernel_1572254/1334909893.py:2: UserWarning: Parsing dates in %d/%m/%Y format when dayfirst=False (the default) was specified. Pass `dayfirst=True` or specify a format to silence this warning.\n",
      "  seace_data['FECHA_PUBLICACION'] = pd.to_datetime(seace_data['FECHA_PUBLICACION'])\n",
      "/tmp/ipykernel_1572254/1334909893.py:3: UserWarning: Parsing dates in %d/%m/%Y format when dayfirst=False (the default) was specified. Pass `dayfirst=True` or specify a format to silence this warning.\n",
      "  seace_data['FECHA_ADJUDICACION'] = pd.to_datetime(seace_data['FECHA_ADJUDICACION'])\n"
     ]
    }
   ],
   "source": [
    "# Asegúrate de que las fechas están en el formato correcto\n",
    "seace_data['FECHA_PUBLICACION'] = pd.to_datetime(seace_data['FECHA_PUBLICACION'])\n",
    "seace_data['FECHA_ADJUDICACION'] = pd.to_datetime(seace_data['FECHA_ADJUDICACION'])\n",
    "seace_data['ANO_ADJ'] = seace_data['FECHA_ADJUDICACION'].dt.year\n",
    "\n",
    "# Preparar DataFrame para cálculos\n",
    "grouped = seace_data.groupby(['CENT_RUC', 'ANO_ADJ'])\n",
    "\n",
    "# Contar valores únicos y sumas\n",
    "nuevo_df = grouped.agg(\n",
    "    CANTI_EXP=('N_ID_EXPEDE', 'nunique'),\n",
    "    TOTAL_ADJ_PROVEEDOR_SOLES=('MONTO_ADJ_PROVEEDOR_SOLES', 'sum'),\n",
    "    NRO_PROVEEDORES=('RUC_PROVEEDOR', 'nunique')\n",
    ")\n",
    "\n",
    "# Calcular porcentajes para cada tipo de proceso\n",
    "tipos_proceso = ['Contratación Directa', 'Adjudicación Simplificada', 'Subasta Inversa Electrónica', \n",
    "                 'Licitación Pública', 'Regímen Especial', 'Concurso Público', 'Procedimiento Especial de Contratación']\n",
    "for tipo in tipos_proceso:\n",
    "    nuevo_df[f'PORC_{tipo.replace(\" \", \"_\").upper()}'] = (\n",
    "        seace_data[seace_data['TIPO_PROCESO'] == tipo].groupby(['CENT_RUC', 'ANO_ADJ'])['N_ID_EXPEDE'].count()\n",
    "        / nuevo_df['CANTI_EXP']\n",
    "    ).fillna(0) * 100\n",
    "\n",
    "# Diferencia en días y su desviación estándar\n",
    "seace_data['DIF_PUB_ADJU'] = (seace_data['FECHA_ADJUDICACION'] - seace_data['FECHA_PUBLICACION']).dt.days\n",
    "nuevo_df['STD_DIF_PUB_ADJU'] = grouped['DIF_PUB_ADJU'].std()\n",
    "\n",
    "# Calcular porcentaje de adjudicación a proveedor y su desviación estándar\n",
    "seace_data['PORC_ADJ_PROVEEDOR'] = (seace_data['MONTO_ADJ_PROVEEDOR_SOLES'] / seace_data['MONTO_ADJUDICADO_SOLES']) * 100\n",
    "nuevo_df['STD_PORC_ADJ_PROVEEDOR'] = grouped['PORC_ADJ_PROVEEDOR'].std()\n",
    "\n",
    "# Calcular porcentaje de proveedores en consorcio\n",
    "nuevo_df['PORC_PROVEEDOR_CONS'] = (\n",
    "    seace_data[seace_data['ES_CONSORCIO'] == 'S'].groupby(['CENT_RUC', 'ANO_ADJ'])['RUC_PROVEEDOR'].count()\n",
    "    / nuevo_df['NRO_PROVEEDORES']\n",
    ").fillna(0) * 100\n",
    "\n",
    "# Restaurar índices y agregar columnas faltantes\n",
    "nuevo_df.reset_index(inplace=True)\n",
    "nuevo_df = nuevo_df.merge(\n",
    "    seace_data[['CENT_RUC', 'CENT_NOMBRE', 'NOMBRE_DEPARTAMENTO', 'NOMBRE_PROVINCIA', 'NOMBRE_DISTRITO']].drop_duplicates(),\n",
    "    on='CENT_RUC',\n",
    "    how='left'\n",
    ")\n"
   ]
  },
  {
   "cell_type": "code",
   "execution_count": null,
   "id": "c61dcfab-30d1-4842-8a66-db5ea326c0fb",
   "metadata": {},
   "outputs": [],
   "source": []
  },
  {
   "cell_type": "code",
   "execution_count": 55,
   "id": "b1261405-e467-4ac5-aeb8-94ad4c6d930f",
   "metadata": {},
   "outputs": [
    {
     "data": {
      "text/plain": [
       "(8331, 19)"
      ]
     },
     "execution_count": 55,
     "metadata": {},
     "output_type": "execute_result"
    }
   ],
   "source": [
    "nuevo_df.shape"
   ]
  },
  {
   "cell_type": "code",
   "execution_count": 56,
   "id": "e241060d-66df-4527-9363-034fd658a954",
   "metadata": {},
   "outputs": [
    {
     "data": {
      "text/html": [
       "<div>\n",
       "<style scoped>\n",
       "    .dataframe tbody tr th:only-of-type {\n",
       "        vertical-align: middle;\n",
       "    }\n",
       "\n",
       "    .dataframe tbody tr th {\n",
       "        vertical-align: top;\n",
       "    }\n",
       "\n",
       "    .dataframe thead th {\n",
       "        text-align: right;\n",
       "    }\n",
       "</style>\n",
       "<table border=\"1\" class=\"dataframe\">\n",
       "  <thead>\n",
       "    <tr style=\"text-align: right;\">\n",
       "      <th></th>\n",
       "      <th>CENT_RUC</th>\n",
       "      <th>ANO_ADJ</th>\n",
       "      <th>CANTI_EXP</th>\n",
       "      <th>TOTAL_ADJ_PROVEEDOR_SOLES</th>\n",
       "      <th>NRO_PROVEEDORES</th>\n",
       "      <th>PORC_CONTRATACIÓN_DIRECTA</th>\n",
       "      <th>PORC_ADJUDICACIÓN_SIMPLIFICADA</th>\n",
       "      <th>PORC_SUBASTA_INVERSA_ELECTRÓNICA</th>\n",
       "      <th>PORC_LICITACIÓN_PÚBLICA</th>\n",
       "      <th>PORC_REGÍMEN_ESPECIAL</th>\n",
       "      <th>PORC_CONCURSO_PÚBLICO</th>\n",
       "      <th>PORC_PROCEDIMIENTO_ESPECIAL_DE_CONTRATACIÓN</th>\n",
       "      <th>STD_DIF_PUB_ADJU</th>\n",
       "      <th>STD_PORC_ADJ_PROVEEDOR</th>\n",
       "      <th>PORC_PROVEEDOR_CONS</th>\n",
       "      <th>CENT_NOMBRE</th>\n",
       "      <th>NOMBRE_DEPARTAMENTO</th>\n",
       "      <th>NOMBRE_PROVINCIA</th>\n",
       "      <th>NOMBRE_DISTRITO</th>\n",
       "    </tr>\n",
       "  </thead>\n",
       "  <tbody>\n",
       "    <tr>\n",
       "      <th>0</th>\n",
       "      <td>20100003199</td>\n",
       "      <td>2020.0</td>\n",
       "      <td>19</td>\n",
       "      <td>8.906413e+06</td>\n",
       "      <td>19</td>\n",
       "      <td>5.263158</td>\n",
       "      <td>63.157895</td>\n",
       "      <td>0.0</td>\n",
       "      <td>5.263158</td>\n",
       "      <td>0.0</td>\n",
       "      <td>26.315789</td>\n",
       "      <td>0.0</td>\n",
       "      <td>26.206618</td>\n",
       "      <td>15.389675</td>\n",
       "      <td>10.526316</td>\n",
       "      <td>EMPRESA NACIONAL DE PUERTOS S.A.</td>\n",
       "      <td>CALLAO</td>\n",
       "      <td>CALLAO</td>\n",
       "      <td>CALLAO</td>\n",
       "    </tr>\n",
       "    <tr>\n",
       "      <th>1</th>\n",
       "      <td>20100003199</td>\n",
       "      <td>2021.0</td>\n",
       "      <td>19</td>\n",
       "      <td>7.326682e+06</td>\n",
       "      <td>18</td>\n",
       "      <td>5.263158</td>\n",
       "      <td>63.157895</td>\n",
       "      <td>0.0</td>\n",
       "      <td>5.263158</td>\n",
       "      <td>0.0</td>\n",
       "      <td>26.315789</td>\n",
       "      <td>0.0</td>\n",
       "      <td>19.869898</td>\n",
       "      <td>0.000000</td>\n",
       "      <td>0.000000</td>\n",
       "      <td>EMPRESA NACIONAL DE PUERTOS S.A.</td>\n",
       "      <td>CALLAO</td>\n",
       "      <td>CALLAO</td>\n",
       "      <td>CALLAO</td>\n",
       "    </tr>\n",
       "    <tr>\n",
       "      <th>2</th>\n",
       "      <td>20100003199</td>\n",
       "      <td>2022.0</td>\n",
       "      <td>19</td>\n",
       "      <td>6.527610e+06</td>\n",
       "      <td>22</td>\n",
       "      <td>0.000000</td>\n",
       "      <td>110.526316</td>\n",
       "      <td>0.0</td>\n",
       "      <td>0.000000</td>\n",
       "      <td>0.0</td>\n",
       "      <td>15.789474</td>\n",
       "      <td>0.0</td>\n",
       "      <td>21.412063</td>\n",
       "      <td>21.802805</td>\n",
       "      <td>27.272727</td>\n",
       "      <td>EMPRESA NACIONAL DE PUERTOS S.A.</td>\n",
       "      <td>CALLAO</td>\n",
       "      <td>CALLAO</td>\n",
       "      <td>CALLAO</td>\n",
       "    </tr>\n",
       "    <tr>\n",
       "      <th>3</th>\n",
       "      <td>20100003351</td>\n",
       "      <td>2020.0</td>\n",
       "      <td>32</td>\n",
       "      <td>1.459707e+07</td>\n",
       "      <td>36</td>\n",
       "      <td>15.625000</td>\n",
       "      <td>93.750000</td>\n",
       "      <td>0.0</td>\n",
       "      <td>3.125000</td>\n",
       "      <td>0.0</td>\n",
       "      <td>18.750000</td>\n",
       "      <td>0.0</td>\n",
       "      <td>17.404727</td>\n",
       "      <td>30.336556</td>\n",
       "      <td>38.888889</td>\n",
       "      <td>SERVICIOS INDUSTRIALES DE LA MARINA S.A.</td>\n",
       "      <td>CALLAO</td>\n",
       "      <td>CALLAO</td>\n",
       "      <td>CALLAO</td>\n",
       "    </tr>\n",
       "    <tr>\n",
       "      <th>4</th>\n",
       "      <td>20100003351</td>\n",
       "      <td>2021.0</td>\n",
       "      <td>44</td>\n",
       "      <td>2.028464e+07</td>\n",
       "      <td>42</td>\n",
       "      <td>2.272727</td>\n",
       "      <td>81.818182</td>\n",
       "      <td>0.0</td>\n",
       "      <td>4.545455</td>\n",
       "      <td>0.0</td>\n",
       "      <td>25.000000</td>\n",
       "      <td>0.0</td>\n",
       "      <td>14.355899</td>\n",
       "      <td>22.768578</td>\n",
       "      <td>16.666667</td>\n",
       "      <td>SERVICIOS INDUSTRIALES DE LA MARINA S.A.</td>\n",
       "      <td>CALLAO</td>\n",
       "      <td>CALLAO</td>\n",
       "      <td>CALLAO</td>\n",
       "    </tr>\n",
       "  </tbody>\n",
       "</table>\n",
       "</div>"
      ],
      "text/plain": [
       "      CENT_RUC  ANO_ADJ  CANTI_EXP  TOTAL_ADJ_PROVEEDOR_SOLES  \\\n",
       "0  20100003199   2020.0         19               8.906413e+06   \n",
       "1  20100003199   2021.0         19               7.326682e+06   \n",
       "2  20100003199   2022.0         19               6.527610e+06   \n",
       "3  20100003351   2020.0         32               1.459707e+07   \n",
       "4  20100003351   2021.0         44               2.028464e+07   \n",
       "\n",
       "   NRO_PROVEEDORES  PORC_CONTRATACIÓN_DIRECTA  PORC_ADJUDICACIÓN_SIMPLIFICADA  \\\n",
       "0               19                   5.263158                       63.157895   \n",
       "1               18                   5.263158                       63.157895   \n",
       "2               22                   0.000000                      110.526316   \n",
       "3               36                  15.625000                       93.750000   \n",
       "4               42                   2.272727                       81.818182   \n",
       "\n",
       "   PORC_SUBASTA_INVERSA_ELECTRÓNICA  PORC_LICITACIÓN_PÚBLICA  \\\n",
       "0                               0.0                 5.263158   \n",
       "1                               0.0                 5.263158   \n",
       "2                               0.0                 0.000000   \n",
       "3                               0.0                 3.125000   \n",
       "4                               0.0                 4.545455   \n",
       "\n",
       "   PORC_REGÍMEN_ESPECIAL  PORC_CONCURSO_PÚBLICO  \\\n",
       "0                    0.0              26.315789   \n",
       "1                    0.0              26.315789   \n",
       "2                    0.0              15.789474   \n",
       "3                    0.0              18.750000   \n",
       "4                    0.0              25.000000   \n",
       "\n",
       "   PORC_PROCEDIMIENTO_ESPECIAL_DE_CONTRATACIÓN  STD_DIF_PUB_ADJU  \\\n",
       "0                                          0.0         26.206618   \n",
       "1                                          0.0         19.869898   \n",
       "2                                          0.0         21.412063   \n",
       "3                                          0.0         17.404727   \n",
       "4                                          0.0         14.355899   \n",
       "\n",
       "   STD_PORC_ADJ_PROVEEDOR  PORC_PROVEEDOR_CONS  \\\n",
       "0               15.389675            10.526316   \n",
       "1                0.000000             0.000000   \n",
       "2               21.802805            27.272727   \n",
       "3               30.336556            38.888889   \n",
       "4               22.768578            16.666667   \n",
       "\n",
       "                                CENT_NOMBRE NOMBRE_DEPARTAMENTO  \\\n",
       "0          EMPRESA NACIONAL DE PUERTOS S.A.              CALLAO   \n",
       "1          EMPRESA NACIONAL DE PUERTOS S.A.              CALLAO   \n",
       "2          EMPRESA NACIONAL DE PUERTOS S.A.              CALLAO   \n",
       "3  SERVICIOS INDUSTRIALES DE LA MARINA S.A.              CALLAO   \n",
       "4  SERVICIOS INDUSTRIALES DE LA MARINA S.A.              CALLAO   \n",
       "\n",
       "  NOMBRE_PROVINCIA NOMBRE_DISTRITO  \n",
       "0           CALLAO          CALLAO  \n",
       "1           CALLAO          CALLAO  \n",
       "2           CALLAO          CALLAO  \n",
       "3           CALLAO          CALLAO  \n",
       "4           CALLAO          CALLAO  "
      ]
     },
     "execution_count": 56,
     "metadata": {},
     "output_type": "execute_result"
    }
   ],
   "source": [
    "nuevo_df.head()"
   ]
  },
  {
   "cell_type": "code",
   "execution_count": null,
   "id": "e9af60c0-e6a0-4021-a311-663afe0aae09",
   "metadata": {},
   "outputs": [],
   "source": []
  },
  {
   "cell_type": "code",
   "execution_count": 57,
   "id": "cb9b730d-818a-43aa-9463-d86f338b6660",
   "metadata": {},
   "outputs": [],
   "source": [
    "nuevo_df.to_csv(folder_data + \"master_entidad_seace.csv\", index=False)"
   ]
  },
  {
   "cell_type": "code",
   "execution_count": null,
   "id": "25efbb1f-0a5c-4e65-a67f-c2c26c79dd51",
   "metadata": {},
   "outputs": [],
   "source": []
  },
  {
   "cell_type": "markdown",
   "id": "cae5a5e0-053d-40ee-b57e-00a86b381495",
   "metadata": {},
   "source": [
    "### INCO"
   ]
  },
  {
   "cell_type": "code",
   "execution_count": 60,
   "id": "7e6dfb16-abee-4b54-9a78-d31b12ce5b96",
   "metadata": {},
   "outputs": [],
   "source": [
    "def get_dataset(id_dataset,id_elem):\n",
    "    archivo_zip = datasets[id_dataset]\n",
    "    ruta_zip = os.path.join(folder_data, archivo_zip)\n",
    "    df = pl.DataFrame()\n",
    "    \n",
    "    with zipfile.ZipFile(ruta_zip, 'r') as zip_ref:\n",
    "        print(f\"\\nTamaños de archivos CSV en {archivo_zip}:\")\n",
    "        # Iterar sobre los archivos dentro del zip\n",
    "        list_archivo = []\n",
    "        for nombre_archivo in zip_ref.namelist():\n",
    "            # Verificar si el archivo es un archivo CSV\n",
    "            \n",
    "            if nombre_archivo.endswith('.xlsx'):\n",
    "                list_archivo.append(nombre_archivo)\n",
    "            \n",
    "        print(list_archivo)\n",
    "        print(list_archivo[id_elem])\n",
    "        with zip_ref.open(list_archivo[id_elem]) as archivo_csv:\n",
    "            # df = pl.read_csv(archivo_csv, ignore_errors=True)\n",
    "            df = pd.read_csv(archivo_csv)\n",
    "            \n",
    "        # Obtener el tamaño del archivo en bytes\n",
    "        # tamano_bytes = zip_ref.getinfo(nombre_archivo).file_size\n",
    "\n",
    "        # # Convertir el tamaño a megabytes para mayor legibilidad\n",
    "        # tamano_mb = tamano_bytes / (1024 ** 3)\n",
    "\n",
    "        # # Imprimir el nombre del archivo y su tamaño\n",
    "        # print(f'{nombre_archivo}: {tamano_mb:.2f} GB')\n",
    "            # break\n",
    "    return df"
   ]
  },
  {
   "cell_type": "code",
   "execution_count": 61,
   "id": "d6f969fc-83ef-44c2-8c5e-5db1d34e0462",
   "metadata": {},
   "outputs": [
    {
     "name": "stdout",
     "output_type": "stream",
     "text": [
      "\n",
      "Tamaños de archivos CSV en DS08_INCO.zip:\n",
      "['08_DS_INCO/Resultados_INCO_2022_TABS AGRUPADOS_PORTAL WEB.xlsx', '08_DS_INCO/Resultados Finales_INCO 2021.xlsx', '08_DS_INCO/Resultados Finales_INCO 2022.xlsx', '08_DS_INCO/Resultados_INCO_2022_FICHAS ENTIDADES_PORTAL WEB.xlsx']\n",
      "08_DS_INCO/Resultados_INCO_2022_TABS AGRUPADOS_PORTAL WEB.xlsx\n"
     ]
    },
    {
     "ename": "UnicodeDecodeError",
     "evalue": "'utf-8' codec can't decode byte 0xfb in position 15: invalid start byte",
     "output_type": "error",
     "traceback": [
      "\u001b[0;31m---------------------------------------------------------------------------\u001b[0m",
      "\u001b[0;31mUnicodeDecodeError\u001b[0m                        Traceback (most recent call last)",
      "File \u001b[0;32m<timed exec>:1\u001b[0m\n",
      "Cell \u001b[0;32mIn[60], line 20\u001b[0m, in \u001b[0;36mget_dataset\u001b[0;34m(id_dataset, id_elem)\u001b[0m\n\u001b[1;32m     17\u001b[0m     \u001b[38;5;28mprint\u001b[39m(list_archivo[id_elem])\n\u001b[1;32m     18\u001b[0m     \u001b[38;5;28;01mwith\u001b[39;00m zip_ref\u001b[38;5;241m.\u001b[39mopen(list_archivo[id_elem]) \u001b[38;5;28;01mas\u001b[39;00m archivo_csv:\n\u001b[1;32m     19\u001b[0m         \u001b[38;5;66;03m# df = pl.read_csv(archivo_csv, ignore_errors=True)\u001b[39;00m\n\u001b[0;32m---> 20\u001b[0m         df \u001b[38;5;241m=\u001b[39m \u001b[43mpd\u001b[49m\u001b[38;5;241;43m.\u001b[39;49m\u001b[43mread_csv\u001b[49m\u001b[43m(\u001b[49m\u001b[43marchivo_csv\u001b[49m\u001b[43m)\u001b[49m\n\u001b[1;32m     22\u001b[0m     \u001b[38;5;66;03m# Obtener el tamaño del archivo en bytes\u001b[39;00m\n\u001b[1;32m     23\u001b[0m     \u001b[38;5;66;03m# tamano_bytes = zip_ref.getinfo(nombre_archivo).file_size\u001b[39;00m\n\u001b[1;32m     24\u001b[0m \n\u001b[0;32m   (...)\u001b[0m\n\u001b[1;32m     29\u001b[0m     \u001b[38;5;66;03m# print(f'{nombre_archivo}: {tamano_mb:.2f} GB')\u001b[39;00m\n\u001b[1;32m     30\u001b[0m         \u001b[38;5;66;03m# break\u001b[39;00m\n\u001b[1;32m     31\u001b[0m \u001b[38;5;28;01mreturn\u001b[39;00m df\n",
      "File \u001b[0;32m~/cgr_corrupcion/env/lib/python3.10/site-packages/pandas/io/parsers/readers.py:948\u001b[0m, in \u001b[0;36mread_csv\u001b[0;34m(filepath_or_buffer, sep, delimiter, header, names, index_col, usecols, dtype, engine, converters, true_values, false_values, skipinitialspace, skiprows, skipfooter, nrows, na_values, keep_default_na, na_filter, verbose, skip_blank_lines, parse_dates, infer_datetime_format, keep_date_col, date_parser, date_format, dayfirst, cache_dates, iterator, chunksize, compression, thousands, decimal, lineterminator, quotechar, quoting, doublequote, escapechar, comment, encoding, encoding_errors, dialect, on_bad_lines, delim_whitespace, low_memory, memory_map, float_precision, storage_options, dtype_backend)\u001b[0m\n\u001b[1;32m    935\u001b[0m kwds_defaults \u001b[38;5;241m=\u001b[39m _refine_defaults_read(\n\u001b[1;32m    936\u001b[0m     dialect,\n\u001b[1;32m    937\u001b[0m     delimiter,\n\u001b[0;32m   (...)\u001b[0m\n\u001b[1;32m    944\u001b[0m     dtype_backend\u001b[38;5;241m=\u001b[39mdtype_backend,\n\u001b[1;32m    945\u001b[0m )\n\u001b[1;32m    946\u001b[0m kwds\u001b[38;5;241m.\u001b[39mupdate(kwds_defaults)\n\u001b[0;32m--> 948\u001b[0m \u001b[38;5;28;01mreturn\u001b[39;00m \u001b[43m_read\u001b[49m\u001b[43m(\u001b[49m\u001b[43mfilepath_or_buffer\u001b[49m\u001b[43m,\u001b[49m\u001b[43m \u001b[49m\u001b[43mkwds\u001b[49m\u001b[43m)\u001b[49m\n",
      "File \u001b[0;32m~/cgr_corrupcion/env/lib/python3.10/site-packages/pandas/io/parsers/readers.py:611\u001b[0m, in \u001b[0;36m_read\u001b[0;34m(filepath_or_buffer, kwds)\u001b[0m\n\u001b[1;32m    608\u001b[0m _validate_names(kwds\u001b[38;5;241m.\u001b[39mget(\u001b[38;5;124m\"\u001b[39m\u001b[38;5;124mnames\u001b[39m\u001b[38;5;124m\"\u001b[39m, \u001b[38;5;28;01mNone\u001b[39;00m))\n\u001b[1;32m    610\u001b[0m \u001b[38;5;66;03m# Create the parser.\u001b[39;00m\n\u001b[0;32m--> 611\u001b[0m parser \u001b[38;5;241m=\u001b[39m \u001b[43mTextFileReader\u001b[49m\u001b[43m(\u001b[49m\u001b[43mfilepath_or_buffer\u001b[49m\u001b[43m,\u001b[49m\u001b[43m \u001b[49m\u001b[38;5;241;43m*\u001b[39;49m\u001b[38;5;241;43m*\u001b[39;49m\u001b[43mkwds\u001b[49m\u001b[43m)\u001b[49m\n\u001b[1;32m    613\u001b[0m \u001b[38;5;28;01mif\u001b[39;00m chunksize \u001b[38;5;129;01mor\u001b[39;00m iterator:\n\u001b[1;32m    614\u001b[0m     \u001b[38;5;28;01mreturn\u001b[39;00m parser\n",
      "File \u001b[0;32m~/cgr_corrupcion/env/lib/python3.10/site-packages/pandas/io/parsers/readers.py:1448\u001b[0m, in \u001b[0;36mTextFileReader.__init__\u001b[0;34m(self, f, engine, **kwds)\u001b[0m\n\u001b[1;32m   1445\u001b[0m     \u001b[38;5;28mself\u001b[39m\u001b[38;5;241m.\u001b[39moptions[\u001b[38;5;124m\"\u001b[39m\u001b[38;5;124mhas_index_names\u001b[39m\u001b[38;5;124m\"\u001b[39m] \u001b[38;5;241m=\u001b[39m kwds[\u001b[38;5;124m\"\u001b[39m\u001b[38;5;124mhas_index_names\u001b[39m\u001b[38;5;124m\"\u001b[39m]\n\u001b[1;32m   1447\u001b[0m \u001b[38;5;28mself\u001b[39m\u001b[38;5;241m.\u001b[39mhandles: IOHandles \u001b[38;5;241m|\u001b[39m \u001b[38;5;28;01mNone\u001b[39;00m \u001b[38;5;241m=\u001b[39m \u001b[38;5;28;01mNone\u001b[39;00m\n\u001b[0;32m-> 1448\u001b[0m \u001b[38;5;28mself\u001b[39m\u001b[38;5;241m.\u001b[39m_engine \u001b[38;5;241m=\u001b[39m \u001b[38;5;28;43mself\u001b[39;49m\u001b[38;5;241;43m.\u001b[39;49m\u001b[43m_make_engine\u001b[49m\u001b[43m(\u001b[49m\u001b[43mf\u001b[49m\u001b[43m,\u001b[49m\u001b[43m \u001b[49m\u001b[38;5;28;43mself\u001b[39;49m\u001b[38;5;241;43m.\u001b[39;49m\u001b[43mengine\u001b[49m\u001b[43m)\u001b[49m\n",
      "File \u001b[0;32m~/cgr_corrupcion/env/lib/python3.10/site-packages/pandas/io/parsers/readers.py:1723\u001b[0m, in \u001b[0;36mTextFileReader._make_engine\u001b[0;34m(self, f, engine)\u001b[0m\n\u001b[1;32m   1720\u001b[0m     \u001b[38;5;28;01mraise\u001b[39;00m \u001b[38;5;167;01mValueError\u001b[39;00m(msg)\n\u001b[1;32m   1722\u001b[0m \u001b[38;5;28;01mtry\u001b[39;00m:\n\u001b[0;32m-> 1723\u001b[0m     \u001b[38;5;28;01mreturn\u001b[39;00m \u001b[43mmapping\u001b[49m\u001b[43m[\u001b[49m\u001b[43mengine\u001b[49m\u001b[43m]\u001b[49m\u001b[43m(\u001b[49m\u001b[43mf\u001b[49m\u001b[43m,\u001b[49m\u001b[43m \u001b[49m\u001b[38;5;241;43m*\u001b[39;49m\u001b[38;5;241;43m*\u001b[39;49m\u001b[38;5;28;43mself\u001b[39;49m\u001b[38;5;241;43m.\u001b[39;49m\u001b[43moptions\u001b[49m\u001b[43m)\u001b[49m\n\u001b[1;32m   1724\u001b[0m \u001b[38;5;28;01mexcept\u001b[39;00m \u001b[38;5;167;01mException\u001b[39;00m:\n\u001b[1;32m   1725\u001b[0m     \u001b[38;5;28;01mif\u001b[39;00m \u001b[38;5;28mself\u001b[39m\u001b[38;5;241m.\u001b[39mhandles \u001b[38;5;129;01mis\u001b[39;00m \u001b[38;5;129;01mnot\u001b[39;00m \u001b[38;5;28;01mNone\u001b[39;00m:\n",
      "File \u001b[0;32m~/cgr_corrupcion/env/lib/python3.10/site-packages/pandas/io/parsers/c_parser_wrapper.py:93\u001b[0m, in \u001b[0;36mCParserWrapper.__init__\u001b[0;34m(self, src, **kwds)\u001b[0m\n\u001b[1;32m     90\u001b[0m \u001b[38;5;28;01mif\u001b[39;00m kwds[\u001b[38;5;124m\"\u001b[39m\u001b[38;5;124mdtype_backend\u001b[39m\u001b[38;5;124m\"\u001b[39m] \u001b[38;5;241m==\u001b[39m \u001b[38;5;124m\"\u001b[39m\u001b[38;5;124mpyarrow\u001b[39m\u001b[38;5;124m\"\u001b[39m:\n\u001b[1;32m     91\u001b[0m     \u001b[38;5;66;03m# Fail here loudly instead of in cython after reading\u001b[39;00m\n\u001b[1;32m     92\u001b[0m     import_optional_dependency(\u001b[38;5;124m\"\u001b[39m\u001b[38;5;124mpyarrow\u001b[39m\u001b[38;5;124m\"\u001b[39m)\n\u001b[0;32m---> 93\u001b[0m \u001b[38;5;28mself\u001b[39m\u001b[38;5;241m.\u001b[39m_reader \u001b[38;5;241m=\u001b[39m \u001b[43mparsers\u001b[49m\u001b[38;5;241;43m.\u001b[39;49m\u001b[43mTextReader\u001b[49m\u001b[43m(\u001b[49m\u001b[43msrc\u001b[49m\u001b[43m,\u001b[49m\u001b[43m \u001b[49m\u001b[38;5;241;43m*\u001b[39;49m\u001b[38;5;241;43m*\u001b[39;49m\u001b[43mkwds\u001b[49m\u001b[43m)\u001b[49m\n\u001b[1;32m     95\u001b[0m \u001b[38;5;28mself\u001b[39m\u001b[38;5;241m.\u001b[39munnamed_cols \u001b[38;5;241m=\u001b[39m \u001b[38;5;28mself\u001b[39m\u001b[38;5;241m.\u001b[39m_reader\u001b[38;5;241m.\u001b[39munnamed_cols\n\u001b[1;32m     97\u001b[0m \u001b[38;5;66;03m# error: Cannot determine type of 'names'\u001b[39;00m\n",
      "File \u001b[0;32mparsers.pyx:579\u001b[0m, in \u001b[0;36mpandas._libs.parsers.TextReader.__cinit__\u001b[0;34m()\u001b[0m\n",
      "File \u001b[0;32mparsers.pyx:668\u001b[0m, in \u001b[0;36mpandas._libs.parsers.TextReader._get_header\u001b[0;34m()\u001b[0m\n",
      "File \u001b[0;32mparsers.pyx:879\u001b[0m, in \u001b[0;36mpandas._libs.parsers.TextReader._tokenize_rows\u001b[0;34m()\u001b[0m\n",
      "File \u001b[0;32mparsers.pyx:890\u001b[0m, in \u001b[0;36mpandas._libs.parsers.TextReader._check_tokenize_status\u001b[0;34m()\u001b[0m\n",
      "File \u001b[0;32mparsers.pyx:2050\u001b[0m, in \u001b[0;36mpandas._libs.parsers.raise_parser_error\u001b[0;34m()\u001b[0m\n",
      "\u001b[0;31mUnicodeDecodeError\u001b[0m: 'utf-8' codec can't decode byte 0xfb in position 15: invalid start byte"
     ]
    }
   ],
   "source": [
    "%%time\n",
    "\n",
    "inco_data = get_dataset('ds_inco',0)"
   ]
  },
  {
   "cell_type": "code",
   "execution_count": null,
   "id": "93480200-5767-4252-af93-c536989d0f14",
   "metadata": {},
   "outputs": [],
   "source": []
  },
  {
   "cell_type": "code",
   "execution_count": null,
   "id": "c722f723-0add-4c3d-bb84-408521267086",
   "metadata": {},
   "outputs": [],
   "source": []
  },
  {
   "cell_type": "code",
   "execution_count": null,
   "id": "f49666d9-f342-4b63-82fb-6b92d849b4a8",
   "metadata": {},
   "outputs": [],
   "source": []
  },
  {
   "cell_type": "code",
   "execution_count": null,
   "id": "803b333d-f547-44aa-99a4-9d4e01acedb3",
   "metadata": {},
   "outputs": [],
   "source": []
  },
  {
   "cell_type": "code",
   "execution_count": null,
   "id": "7cd04b86-23c0-4f89-8746-b4f22563fdee",
   "metadata": {},
   "outputs": [],
   "source": []
  },
  {
   "cell_type": "code",
   "execution_count": null,
   "id": "ae3496ff-556a-448d-9c64-0e278c44146b",
   "metadata": {},
   "outputs": [],
   "source": []
  },
  {
   "cell_type": "code",
   "execution_count": null,
   "id": "db47f629-6783-469d-8434-1c5df1264964",
   "metadata": {},
   "outputs": [],
   "source": []
  },
  {
   "cell_type": "code",
   "execution_count": null,
   "id": "c4d7a7c5-03e2-43dd-81ae-b5690a7fdaa2",
   "metadata": {},
   "outputs": [],
   "source": []
  },
  {
   "cell_type": "code",
   "execution_count": null,
   "id": "ea5bb220-a391-4844-b41b-f73d851a9435",
   "metadata": {},
   "outputs": [],
   "source": []
  }
 ],
 "metadata": {
  "kernelspec": {
   "display_name": "Python 3 (ipykernel)",
   "language": "python",
   "name": "python3"
  },
  "language_info": {
   "codemirror_mode": {
    "name": "ipython",
    "version": 3
   },
   "file_extension": ".py",
   "mimetype": "text/x-python",
   "name": "python",
   "nbconvert_exporter": "python",
   "pygments_lexer": "ipython3",
   "version": "3.10.12"
  }
 },
 "nbformat": 4,
 "nbformat_minor": 5
}
