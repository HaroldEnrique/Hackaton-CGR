{
 "cells": [
  {
   "cell_type": "code",
   "execution_count": 11,
   "id": "e7fabacf-9d1e-40b7-b751-be9fe570a24b",
   "metadata": {},
   "outputs": [
    {
     "name": "stdout",
     "output_type": "stream",
     "text": [
      "Collecting polars\n",
      "  Downloading polars-0.19.15-cp38-abi3-manylinux_2_17_x86_64.manylinux2014_x86_64.whl (28.4 MB)\n",
      "\u001b[2K     \u001b[90m━━━━━━━━━━━━━━━━━━━━━━━━━━━━━━━━━━━━━━━━\u001b[0m \u001b[32m28.4/28.4 MB\u001b[0m \u001b[31m31.5 MB/s\u001b[0m eta \u001b[36m0:00:00\u001b[0m00:01\u001b[0m00:01\u001b[0m\n",
      "\u001b[?25hInstalling collected packages: polars\n",
      "Successfully installed polars-0.19.15\n"
     ]
    }
   ],
   "source": [
    "!pip install polars"
   ]
  },
  {
   "cell_type": "code",
   "execution_count": null,
   "id": "b31e5e9b-09aa-480e-bb83-3bd9d6d519e3",
   "metadata": {},
   "outputs": [],
   "source": []
  },
  {
   "cell_type": "code",
   "execution_count": null,
   "id": "27210e0b-cdcf-4128-addb-4e3458311c63",
   "metadata": {},
   "outputs": [],
   "source": []
  },
  {
   "cell_type": "code",
   "execution_count": 39,
   "id": "cdb1b302-0faa-4e2b-a3a1-c6e6ce73c1ba",
   "metadata": {},
   "outputs": [],
   "source": [
    "import zipfile\n",
    "import os\n",
    "from io import BytesIO\n",
    "\n",
    "import polars as pl"
   ]
  },
  {
   "cell_type": "code",
   "execution_count": 40,
   "id": "1c8a109b-4465-4385-887d-dfeca091a020",
   "metadata": {},
   "outputs": [
    {
     "name": "stdout",
     "output_type": "stream",
     "text": [
      "/home/prueba/cgr_corrupcion/\n"
     ]
    }
   ],
   "source": [
    "BASE_URL = os.environ.get(\"BASE_URL\")\n",
    "print(BASE_URL)"
   ]
  },
  {
   "cell_type": "code",
   "execution_count": 44,
   "id": "fde34617-25c0-40e0-9a2c-b2681d5cf986",
   "metadata": {},
   "outputs": [],
   "source": [
    "# datasets\n",
    "folder_data = BASE_URL + 'data/'\n",
    "\n",
    "datasets = {\n",
    "    'ds_airhsp' : 'DS01_AIRHSP.zip',\n",
    "    'ds_seace' : 'DS02_SEACE.zip',\n",
    "    'ds_siag' : 'DS03_ORDENES_SIAF.zip',\n",
    "    'ds_rep_emp' : 'DS04_REPRESENTANTES_EMPRESAS.zip',\n",
    "    'ds_sancion' : 'DS05_SANCIONADOS_SERVIR.zip',\n",
    "    'ds_gastos' : 'DS06_GASTOS_EJECUTORA.zip',\n",
    "    'ds_prov' : 'DS07_PROVEEDORES_PROYECTOS.zip',\n",
    "    'ds_proy_inv' : 'DS07_PROYECTOS_INVERSION.zip',\n",
    "    'ds_inco' : 'DS08_INCO.zip'\n",
    "}"
   ]
  },
  {
   "cell_type": "code",
   "execution_count": 45,
   "id": "231cf94d-9257-421c-bd92-d55e162554c9",
   "metadata": {},
   "outputs": [
    {
     "data": {
      "text/plain": [
       "dict_values(['DS01_AIRHSP.zip', 'DS02_SEACE.zip', 'DS03_ORDENES_SIAF.zip', 'DS04_REPRESENTANTES_EMPRESAS.zip', 'DS05_SANCIONADOS_SERVIR.zip', 'DS06_GASTOS_EJECUTORA.zip', 'DS07_PROVEEDORES_PROYECTOS.zip', 'DS07_PROYECTOS_INVERSION.zip', 'DS08_INCO.zip'])"
      ]
     },
     "execution_count": 45,
     "metadata": {},
     "output_type": "execute_result"
    }
   ],
   "source": [
    "datasets.values()"
   ]
  },
  {
   "cell_type": "code",
   "execution_count": 46,
   "id": "419e2829-fb63-4a4a-99cf-863d87411c03",
   "metadata": {},
   "outputs": [
    {
     "name": "stdout",
     "output_type": "stream",
     "text": [
      "DS01_AIRHSP.zip\n",
      "DS02_SEACE.zip\n",
      "DS03_ORDENES_SIAF.zip\n",
      "DS04_REPRESENTANTES_EMPRESAS.zip\n",
      "DS05_SANCIONADOS_SERVIR.zip\n",
      "DS06_GASTOS_EJECUTORA.zip\n",
      "DS07_PROVEEDORES_PROYECTOS.zip\n",
      "DS07_PROYECTOS_INVERSION.zip\n",
      "DS08_INCO.zip\n"
     ]
    }
   ],
   "source": [
    "for dataset in datasets.values():\n",
    "    print(dataset)"
   ]
  },
  {
   "cell_type": "code",
   "execution_count": 49,
   "id": "1e44571e-25f0-4909-88f7-dab9a41e985b",
   "metadata": {},
   "outputs": [
    {
     "name": "stdout",
     "output_type": "stream",
     "text": [
      "\n",
      "Tamaños de archivos CSV en DS01_AIRHSP.zip:\n",
      "DS01_AIRHSP/AIRHSP_2201.csv: 0.75 GB\n",
      "DS01_AIRHSP/AIRHSP_2202.csv: 0.75 GB\n",
      "DS01_AIRHSP/AIRHSP_2203.csv: 0.75 GB\n",
      "DS01_AIRHSP/AIRHSP_2204.csv: 0.76 GB\n",
      "DS01_AIRHSP/AIRHSP_2205.csv: 0.76 GB\n",
      "DS01_AIRHSP/AIRHSP_2206.csv: 0.76 GB\n",
      "DS01_AIRHSP/AIRHSP_2207.csv: 0.77 GB\n",
      "DS01_AIRHSP/AIRHSP_2208.csv: 0.77 GB\n",
      "DS01_AIRHSP/AIRHSP_2209.csv: 0.77 GB\n",
      "DS01_AIRHSP/AIRHSP_2210.csv: 0.77 GB\n",
      "DS01_AIRHSP/AIRHSP_2211.csv: 0.78 GB\n",
      "DS01_AIRHSP/AIRHSP_2212.csv: 0.78 GB\n",
      "\n",
      "Tamaños de archivos CSV en DS02_SEACE.zip:\n",
      "DS02_SEACE.csv: 0.06 GB\n",
      "\n",
      "Tamaños de archivos CSV en DS03_ORDENES_SIAF.zip:\n",
      "DS03_ORDENES_SIAF/DS03_ORDENESSIAF_2020.csv: 4.16 GB\n",
      "DS03_ORDENES_SIAF/DS03_ORDENESSIAF_2021.csv: 4.82 GB\n",
      "DS03_ORDENES_SIAF/DS03_ORDENESSIAF_2022.csv: 5.40 GB\n",
      "\n",
      "Tamaños de archivos CSV en DS04_REPRESENTANTES_EMPRESAS.zip:\n",
      "DS04_REPRESENTANTES.csv: 3.66 GB\n",
      "\n",
      "Tamaños de archivos CSV en DS05_SANCIONADOS_SERVIR.zip:\n",
      "DS05_SERVIR_SANCIONADOS.csv: 0.01 GB\n",
      "\n",
      "Tamaños de archivos CSV en DS06_GASTOS_EJECUTORA.zip:\n",
      "DS06_GASTOSEJECUTORA.csv: 4.16 GB\n",
      "\n",
      "Tamaños de archivos CSV en DS07_PROVEEDORES_PROYECTOS.zip:\n",
      "DS07_PROVEEDORES_DE_PROYECTOS.csv: 4.91 GB\n",
      "\n",
      "Tamaños de archivos CSV en DS07_PROYECTOS_INVERSION.zip:\n",
      "DS07_PROYECTOSINVERSION/DS07_PROVEEDORES_PROYECTOSINV.csv: 1.26 GB\n",
      "DS07_PROYECTOSINVERSION/DS07_PROYECTOS_INVERSION.csv: 1.45 GB\n",
      "\n",
      "Tamaños de archivos CSV en DS08_INCO.zip:\n"
     ]
    }
   ],
   "source": [
    "for archivo_zip in datasets.values():\n",
    "    ruta_zip = os.path.join(folder_data, archivo_zip)\n",
    "\n",
    "    with zipfile.ZipFile(ruta_zip, 'r') as zip_ref:\n",
    "        print(f\"\\nTamaños de archivos CSV en {archivo_zip}:\")\n",
    "        # Iterar sobre los archivos dentro del zip\n",
    "        for nombre_archivo in zip_ref.namelist():\n",
    "            # Verificar si el archivo es un archivo CSV\n",
    "            if nombre_archivo.endswith('.csv'):\n",
    "                # Obtener el tamaño del archivo en bytes\n",
    "                tamano_bytes = zip_ref.getinfo(nombre_archivo).file_size\n",
    "\n",
    "                # Convertir el tamaño a megabytes para mayor legibilidad\n",
    "                tamano_mb = tamano_bytes / (1024 ** 3)\n",
    "\n",
    "                # Imprimir el nombre del archivo y su tamaño\n",
    "                print(f'{nombre_archivo}: {tamano_mb:.2f} GB')"
   ]
  },
  {
   "cell_type": "code",
   "execution_count": 32,
   "id": "1211faed-4ac0-4a1e-a623-c28ba276555a",
   "metadata": {},
   "outputs": [
    {
     "name": "stdout",
     "output_type": "stream",
     "text": [
      "/home/prueba/cgr_corrupcion/data/01_DS_AIRHSP.zip\n",
      "/home/prueba/cgr_corrupcion/data/02_DS_SEACE.zip\n",
      "/home/prueba/cgr_corrupcion/data/03_DS_ORDENES_SIAF.zip\n",
      "DS03_ORDENES_SIAF/DS03_ORDENESSIAF_2020.csv: 4.16 GB\n",
      "DS03_ORDENES_SIAF/DS03_ORDENESSIAF_2021.csv: 4.82 GB\n",
      "DS03_ORDENES_SIAF/DS03_ORDENESSIAF_2022.csv: 5.40 GB\n",
      "/home/prueba/cgr_corrupcion/data/04_DS_REPRESENTANTES_EMPRESAS.zip\n",
      "/home/prueba/cgr_corrupcion/data/05_DS_SANCIONADOS_SERVIR.zip\n",
      "/home/prueba/cgr_corrupcion/data/06_DS_GASTOS_POR_EJECUTORA.zip\n",
      "/home/prueba/cgr_corrupcion/data/07_DS_PROYECTOS_DE_INVERSION.zip\n",
      "/home/prueba/cgr_corrupcion/data/08_DS_INCO.zip\n"
     ]
    }
   ],
   "source": [
    "df = pl.DataFrame()\n",
    "\n",
    "for dataset in datasets.values():\n",
    "    with zipfile.ZipFile(dataset, 'r') as zip_ref:\n",
    "\n",
    "        print(dataset)\n",
    "        # Obtener la lista de nombres de archivos dentro del zip\n",
    "        nombres_archivos = zip_ref.namelist()\n",
    "    \n",
    "        # Iterar sobre los archivos y mostrar el tamaño en megabytes\n",
    "        for nombre_archivo in nombres_archivos:\n",
    "            # Verificar si el archivo es un archivo CSV\n",
    "            if nombre_archivo.endswith('.csv'):\n",
    "                # Obtener el tamaño del archivo en bytes\n",
    "                tamano_bytes = zip_ref.getinfo(nombre_archivo).file_size\n",
    "                \n",
    "                # Convertir el tamaño a megabytes\n",
    "                tamano_megabytes = tamano_bytes / (1024 **3)\n",
    "    \n",
    "                # Imprimir el nombre del archivo y su tamaño en megabytes\n",
    "                print(f'{nombre_archivo}: {tamano_megabytes:.2f} GB')\n",
    "    \n",
    "    \n",
    "                # with zip_ref.open(nombre_archivo) as archivo_csv:\n",
    "                #     # contenido_csv = archivo_csv.read().decode('utf-8')\n",
    "                    \n",
    "                #     # # Utilizar BytesIO para convertir el contenido en un objeto de bytes\n",
    "                #     # bytes_io = BytesIO(contenido_csv)\n",
    "                    \n",
    "                #     # Leer el DataFrame desde el objeto de bytes\n",
    "                #     df = pl.read_csv(archivo_csv, ignore_errors=True) # dtypes = {\"TIPO_CAMBIO\": pl.Float32}\n",
    "                    \n",
    "                #     # # Agregar el DataFrame al DataFrame principal\n",
    "                #     # df = df.concat(df_temp)\n",
    "                    \n",
    "                # break"
   ]
  },
  {
   "cell_type": "code",
   "execution_count": null,
   "id": "cb39dd22-c9fb-475c-94fe-6e4d169c0a04",
   "metadata": {},
   "outputs": [],
   "source": []
  },
  {
   "cell_type": "code",
   "execution_count": 24,
   "id": "0c357292-cbc4-467e-a57a-8282eb264c6a",
   "metadata": {},
   "outputs": [
    {
     "data": {
      "text/html": [
       "<div><style>\n",
       ".dataframe > thead > tr,\n",
       ".dataframe > tbody > tr {\n",
       "  text-align: right;\n",
       "  white-space: pre-wrap;\n",
       "}\n",
       "</style>\n",
       "<small>shape: (5, 42)</small><table border=\"1\" class=\"dataframe\"><thead><tr><th>ANO_EJE</th><th>CENT_RUC</th><th>CENT_NOMBRE</th><th>OBANT_NIVEL_GOB</th><th>OBANT_SECTOR</th><th>NOMBRE_DEPARTAMENTO</th><th>NOMBRE_PROVINCIA</th><th>NOMBRE_DISTRITO</th><th>EXPEDIENTE</th><th>TIPO_ORDEN</th><th>NUM_DOC</th><th>FECHA_DOC</th><th>MONEDA</th><th>TIPO_CAMBIO</th><th>MONTO_NACIONAL_DOC</th><th>MONTO_NACIONAL_COMP</th><th>MONTO_NACIONAL_DEV</th><th>MONTO_NACIONAL_GIR</th><th>FLAG_HASTA_8UIT</th><th>GLOSA_COMP</th><th>GLOSA_DEV</th><th>GLOSA_GIR</th><th>RUC_PROVEEDOR</th><th>MODALIDAD_COMPRA_DESC</th><th>TIPO_PROCESO_DESC</th><th>COMPROMISO</th><th>CLASIFICADOR</th><th>DESCRIPCION_TIPO_TRANSACCION</th><th>DESCRIPCION_GENERICA</th><th>DESCRIPCION_SUBGENERICA</th><th>DESCRIPCION_SUBGENERICA_DET</th><th>DESCRIPCION_ESPECIFICA</th><th>DESCRIPCION_ESPECIFICA_DET</th><th>RUBRO_FINANC</th><th>RUBRO_FINANC_NOMBRE</th><th>FUENTE_FINANC</th><th>FUENTE_FINANC_NOMBRE</th><th>DEPARTAMENTO</th><th>DEPARTAMENTO_NOMBRE</th><th>CATEGORIA_PRESUPUESTAL</th><th>PRODUCTO_PROYECTO</th><th>GRUPO_GASTO</th></tr><tr><td>i64</td><td>i64</td><td>str</td><td>str</td><td>str</td><td>str</td><td>str</td><td>str</td><td>i64</td><td>str</td><td>str</td><td>str</td><td>str</td><td>i64</td><td>f64</td><td>f64</td><td>f64</td><td>f64</td><td>i64</td><td>str</td><td>str</td><td>str</td><td>i64</td><td>str</td><td>str</td><td>i64</td><td>str</td><td>str</td><td>str</td><td>str</td><td>str</td><td>str</td><td>str</td><td>i64</td><td>str</td><td>i64</td><td>str</td><td>i64</td><td>str</td><td>str</td><td>str</td><td>str</td></tr></thead><tbody><tr><td>2020</td><td>20214061474</td><td>&quot;MUNICIPALIDAD …</td><td>&quot;GOBIERNO LOCAL…</td><td>&quot;GOBIERNO LOCAL…</td><td>&quot;CUSCO&quot;</td><td>&quot;QUISPICANCHIS&quot;</td><td>&quot;MARCAPATA&quot;</td><td>702</td><td>&quot;Orden de Servi…</td><td>&quot;264&quot;</td><td>&quot;12/05/2020&quot;</td><td>&quot;S/.&quot;</td><td>1</td><td>1700.0</td><td>1700.0</td><td>1700.0</td><td>1700.0</td><td>1</td><td>&quot;&quot;</td><td>&quot;POR EL SERVICI…</td><td>&quot;IMPORTE QUE SE…</td><td>10229550587</td><td>&quot;LEY DE CONTRAT…</td><td>&quot;ADJUDICACION S…</td><td>1</td><td>&quot;2.3.2.7.11.99&quot;</td><td>&quot;GASTOS PRESUPU…</td><td>&quot;BIENES Y SERVI…</td><td>&quot;CONTRATACION D…</td><td>&quot;SERVICIOS PROF…</td><td>&quot;OTROS SERVICIO…</td><td>&quot;SERVICIOS DIVE…</td><td>7</td><td>&quot;FONDO DE COMPE…</td><td>5</td><td>&quot;RECURSOS DETER…</td><td>8</td><td>&quot;CUSCO&quot;</td><td>&quot;PP&quot;</td><td>&quot;PRODUCTO&quot;</td><td>&quot;GASTO CORRIENT…</td></tr><tr><td>2020</td><td>20131369809</td><td>&quot;MUNICIPALIDAD …</td><td>&quot;GOBIERNO LOCAL…</td><td>&quot;GOBIERNO LOCAL…</td><td>&quot;CALLAO&quot;</td><td>&quot;CALLAO&quot;</td><td>&quot;VENTANILLA&quot;</td><td>19918</td><td>&quot;Orden de Servi…</td><td>&quot;15209&quot;</td><td>&quot;01/12/2020&quot;</td><td>&quot;S/.&quot;</td><td>1</td><td>1880.0</td><td>1880.0</td><td>1880.0</td><td>1880.0</td><td>1</td><td>&quot;SERVICIO DE MA…</td><td>&quot;SERVICIO DE MA…</td><td>&quot;POR EL GIRO DE…</td><td>10150218962</td><td>&quot;MODALIDAD DE C…</td><td>&quot;&quot;</td><td>1</td><td>&quot;2.3.2.7.11.99&quot;</td><td>&quot;GASTOS PRESUPU…</td><td>&quot;BIENES Y SERVI…</td><td>&quot;CONTRATACION D…</td><td>&quot;SERVICIOS PROF…</td><td>&quot;OTROS SERVICIO…</td><td>&quot;SERVICIOS DIVE…</td><td>0</td><td>&quot;RECURSOS ORDIN…</td><td>1</td><td>&quot;RECURSOS ORDIN…</td><td>7</td><td>&quot;PROVINCIA CONS…</td><td>&quot;APNOP&quot;</td><td>&quot;ACTIVIDAD&quot;</td><td>&quot;GASTO CORRIENT…</td></tr><tr><td>2020</td><td>20166544000</td><td>&quot;MUNICIPALIDAD …</td><td>&quot;GOBIERNO LOCAL…</td><td>&quot;GOBIERNO LOCAL…</td><td>&quot;ANCASH&quot;</td><td>&quot;HUARI&quot;</td><td>&quot;SAN MARCOS&quot;</td><td>1642</td><td>&quot;Orden de Servi…</td><td>&quot;00528-2020&quot;</td><td>&quot;31/05/2020&quot;</td><td>&quot;S/.&quot;</td><td>1</td><td>1700.0</td><td>1700.0</td><td>1700.0</td><td>1700.0</td><td>1</td><td>&quot;SERVICIOS DE U…</td><td>&quot;POR EL DEVENGA…</td><td>&quot;POR EL GIRADO …</td><td>10202724234</td><td>&quot;LEY DE CONTRAT…</td><td>&quot;ADJUDICACION S…</td><td>1</td><td>&quot;2.6.8.1.2.1&quot;</td><td>&quot;GASTOS PRESUPU…</td><td>&quot;ADQUISICION DE…</td><td>&quot;OTROS GASTOS D…</td><td>&quot;OTROS GASTOS D…</td><td>&quot;ESTUDIO DE PRE…</td><td>&quot;ESTUDIO DE PRE…</td><td>18</td><td>&quot;CANON Y SOBREC…</td><td>5</td><td>&quot;RECURSOS DETER…</td><td>2</td><td>&quot;ANCASH&quot;</td><td>&quot;APNOP&quot;</td><td>&quot;PROYECTO&quot;</td><td>&quot;GASTO DE INVER…</td></tr><tr><td>2020</td><td>20131369809</td><td>&quot;MUNICIPALIDAD …</td><td>&quot;GOBIERNO LOCAL…</td><td>&quot;GOBIERNO LOCAL…</td><td>&quot;CALLAO&quot;</td><td>&quot;CALLAO&quot;</td><td>&quot;VENTANILLA&quot;</td><td>6692</td><td>&quot;Orden de Servi…</td><td>&quot;SCDP-2552&quot;</td><td>&quot;12/05/2020&quot;</td><td>&quot;S/.&quot;</td><td>1</td><td>31500.0</td><td>31500.0</td><td>31500.0</td><td>31500.0</td><td>1</td><td>&quot;COMPROMISO POR…</td><td>&quot;DEVENGADO POR …</td><td>&quot;GIRO POR EL SE…</td><td>10181476524</td><td>&quot;LEY DE CONTRAT…</td><td>&quot;ADJUDICACION S…</td><td>1</td><td>&quot;2.6.8.1.4.3&quot;</td><td>&quot;GASTOS PRESUPU…</td><td>&quot;ADQUISICION DE…</td><td>&quot;OTROS GASTOS D…</td><td>&quot;OTROS GASTOS D…</td><td>&quot;OTROS GASTOS D…</td><td>&quot;GASTO POR LA C…</td><td>7</td><td>&quot;FONDO DE COMPE…</td><td>5</td><td>&quot;RECURSOS DETER…</td><td>7</td><td>&quot;PROVINCIA CONS…</td><td>&quot;APNOP&quot;</td><td>&quot;PROYECTO&quot;</td><td>&quot;GASTO DE INVER…</td></tr><tr><td>2020</td><td>20573020970</td><td>&quot;RED DE SALUD D…</td><td>&quot;GOBIERNO REGIO…</td><td>&quot;GOBIERNOS REGI…</td><td>&quot;HUANUCO&quot;</td><td>&quot;HUAMALIES&quot;</td><td>&quot;LLATA&quot;</td><td>175</td><td>&quot;Orden de Compr…</td><td>&quot;0000010&quot;</td><td>&quot;07/03/2020&quot;</td><td>&quot;S/.&quot;</td><td>1</td><td>2017.8</td><td>2017.8</td><td>2017.8</td><td>2017.8</td><td>1</td><td>&quot;COMPROMISO POR…</td><td>&quot;DEVENGADO POR …</td><td>&quot;QUE SE GIRA PO…</td><td>20102065616</td><td>&quot;LEY DE CONTRAT…</td><td>&quot;ADJUDICACION S…</td><td>1</td><td>&quot;2.3.1.9.1.2&quot;</td><td>&quot;GASTOS PRESUPU…</td><td>&quot;BIENES Y SERVI…</td><td>&quot;COMPRA DE BIEN…</td><td>&quot;MATERIALES Y U…</td><td>&quot;MATERIALES Y U…</td><td>&quot;MATERIAL DIDAC…</td><td>0</td><td>&quot;RECURSOS ORDIN…</td><td>1</td><td>&quot;RECURSOS ORDIN…</td><td>10</td><td>&quot;HUANUCO&quot;</td><td>&quot;PP&quot;</td><td>&quot;PRODUCTO&quot;</td><td>&quot;GASTO CORRIENT…</td></tr></tbody></table></div>"
      ],
      "text/plain": [
       "shape: (5, 42)\n",
       "┌─────────┬────────────┬───────────┬───────────┬───┬───────────┬───────────┬───────────┬───────────┐\n",
       "│ ANO_EJE ┆ CENT_RUC   ┆ CENT_NOMB ┆ OBANT_NIV ┆ … ┆ DEPARTAME ┆ CATEGORIA ┆ PRODUCTO_ ┆ GRUPO_GAS │\n",
       "│ ---     ┆ ---        ┆ RE        ┆ EL_GOB    ┆   ┆ NTO_NOMBR ┆ _PRESUPUE ┆ PROYECTO  ┆ TO        │\n",
       "│ i64     ┆ i64        ┆ ---       ┆ ---       ┆   ┆ E         ┆ STAL      ┆ ---       ┆ ---       │\n",
       "│         ┆            ┆ str       ┆ str       ┆   ┆ ---       ┆ ---       ┆ str       ┆ str       │\n",
       "│         ┆            ┆           ┆           ┆   ┆ str       ┆ str       ┆           ┆           │\n",
       "╞═════════╪════════════╪═══════════╪═══════════╪═══╪═══════════╪═══════════╪═══════════╪═══════════╡\n",
       "│ 2020    ┆ 2021406147 ┆ MUNICIPAL ┆ GOBIERNO  ┆ … ┆ CUSCO     ┆ PP        ┆ PRODUCTO  ┆ GASTO     │\n",
       "│         ┆ 4          ┆ IDAD      ┆ LOCAL     ┆   ┆           ┆           ┆           ┆ CORRIENTE │\n",
       "│         ┆            ┆ DISTRITAL ┆           ┆   ┆           ┆           ┆           ┆           │\n",
       "│         ┆            ┆ DE MARCA… ┆           ┆   ┆           ┆           ┆           ┆           │\n",
       "│ 2020    ┆ 2013136980 ┆ MUNICIPAL ┆ GOBIERNO  ┆ … ┆ PROVINCIA ┆ APNOP     ┆ ACTIVIDAD ┆ GASTO     │\n",
       "│         ┆ 9          ┆ IDAD      ┆ LOCAL     ┆   ┆ CONSTITUC ┆           ┆           ┆ CORRIENTE │\n",
       "│         ┆            ┆ DISTRITAL ┆           ┆   ┆ IONAL DEL ┆           ┆           ┆           │\n",
       "│         ┆            ┆ DE VENTA… ┆           ┆   ┆ CAL…      ┆           ┆           ┆           │\n",
       "│ 2020    ┆ 2016654400 ┆ MUNICIPAL ┆ GOBIERNO  ┆ … ┆ ANCASH    ┆ APNOP     ┆ PROYECTO  ┆ GASTO DE  │\n",
       "│         ┆ 0          ┆ IDAD      ┆ LOCAL     ┆   ┆           ┆           ┆           ┆ INVERSION │\n",
       "│         ┆            ┆ DISTRITAL ┆           ┆   ┆           ┆           ┆           ┆           │\n",
       "│         ┆            ┆ DE SAN M… ┆           ┆   ┆           ┆           ┆           ┆           │\n",
       "│ 2020    ┆ 2013136980 ┆ MUNICIPAL ┆ GOBIERNO  ┆ … ┆ PROVINCIA ┆ APNOP     ┆ PROYECTO  ┆ GASTO DE  │\n",
       "│         ┆ 9          ┆ IDAD      ┆ LOCAL     ┆   ┆ CONSTITUC ┆           ┆           ┆ INVERSION │\n",
       "│         ┆            ┆ DISTRITAL ┆           ┆   ┆ IONAL DEL ┆           ┆           ┆           │\n",
       "│         ┆            ┆ DE VENTA… ┆           ┆   ┆ CAL…      ┆           ┆           ┆           │\n",
       "│ 2020    ┆ 2057302097 ┆ RED DE    ┆ GOBIERNO  ┆ … ┆ HUANUCO   ┆ PP        ┆ PRODUCTO  ┆ GASTO     │\n",
       "│         ┆ 0          ┆ SALUD DE  ┆ REGIONAL  ┆   ┆           ┆           ┆           ┆ CORRIENTE │\n",
       "│         ┆            ┆ HUAMALIES ┆           ┆   ┆           ┆           ┆           ┆           │\n",
       "└─────────┴────────────┴───────────┴───────────┴───┴───────────┴───────────┴───────────┴───────────┘"
      ]
     },
     "execution_count": 24,
     "metadata": {},
     "output_type": "execute_result"
    }
   ],
   "source": [
    "df.head()"
   ]
  },
  {
   "cell_type": "code",
   "execution_count": null,
   "id": "4c4b6b7b-8578-4e90-b6e2-ec2d8fbac459",
   "metadata": {},
   "outputs": [],
   "source": []
  },
  {
   "cell_type": "code",
   "execution_count": null,
   "id": "5b321afc-c072-4d5e-89f0-62d223d19133",
   "metadata": {},
   "outputs": [],
   "source": []
  },
  {
   "cell_type": "code",
   "execution_count": 50,
   "id": "db536608-d1f4-4732-8f35-e4b38556c603",
   "metadata": {},
   "outputs": [
    {
     "name": "stdout",
     "output_type": "stream",
     "text": [
      "anyio==4.1.0\n",
      "argon2-cffi==23.1.0\n",
      "argon2-cffi-bindings==21.2.0\n",
      "arrow==1.3.0\n",
      "asttokens==2.4.1\n",
      "async-lru==2.0.4\n",
      "attrs==23.1.0\n",
      "Babel==2.13.1\n",
      "beautifulsoup4==4.12.2\n",
      "bleach==6.1.0\n",
      "certifi==2023.11.17\n",
      "cffi==1.16.0\n",
      "charset-normalizer==3.3.2\n",
      "comm==0.2.0\n",
      "debugpy==1.8.0\n",
      "decorator==5.1.1\n",
      "defusedxml==0.7.1\n",
      "exceptiongroup==1.2.0\n",
      "executing==2.0.1\n",
      "fastjsonschema==2.19.0\n",
      "fqdn==1.5.1\n",
      "idna==3.4\n",
      "ipykernel==6.27.0\n",
      "ipython==8.17.2\n",
      "isoduration==20.11.0\n",
      "jedi==0.19.1\n",
      "Jinja2==3.1.2\n",
      "json5==0.9.14\n",
      "jsonpointer==2.4\n",
      "jsonschema==4.20.0\n",
      "jsonschema-specifications==2023.11.1\n",
      "jupyter-events==0.9.0\n",
      "jupyter-lsp==2.2.0\n",
      "jupyter_client==8.6.0\n",
      "jupyter_core==5.5.0\n",
      "jupyter_server==2.10.1\n",
      "jupyter_server_terminals==0.4.4\n",
      "jupyterlab==4.0.9\n",
      "jupyterlab-pygments==0.2.2\n",
      "jupyterlab_server==2.25.2\n",
      "MarkupSafe==2.1.3\n",
      "matplotlib-inline==0.1.6\n",
      "mistune==3.0.2\n",
      "nbclient==0.9.0\n",
      "nbconvert==7.11.0\n",
      "nbformat==5.9.2\n",
      "nest-asyncio==1.5.8\n",
      "notebook_shim==0.2.3\n",
      "overrides==7.4.0\n",
      "packaging==23.2\n",
      "pandocfilters==1.5.0\n",
      "parso==0.8.3\n",
      "pexpect==4.8.0\n",
      "platformdirs==4.0.0\n",
      "polars==0.19.15\n",
      "prometheus-client==0.19.0\n",
      "prompt-toolkit==3.0.41\n",
      "psutil==5.9.6\n",
      "ptyprocess==0.7.0\n",
      "pure-eval==0.2.2\n",
      "pycparser==2.21\n",
      "Pygments==2.17.2\n",
      "python-dateutil==2.8.2\n",
      "python-json-logger==2.0.7\n",
      "PyYAML==6.0.1\n",
      "pyzmq==25.1.1\n",
      "referencing==0.31.0\n",
      "requests==2.31.0\n",
      "rfc3339-validator==0.1.4\n",
      "rfc3986-validator==0.1.1\n",
      "rpds-py==0.13.1\n",
      "Send2Trash==1.8.2\n",
      "six==1.16.0\n",
      "sniffio==1.3.0\n",
      "soupsieve==2.5\n",
      "stack-data==0.6.3\n",
      "terminado==0.18.0\n",
      "tinycss2==1.2.1\n",
      "tomli==2.0.1\n",
      "tornado==6.3.3\n",
      "traitlets==5.13.0\n",
      "types-python-dateutil==2.8.19.14\n",
      "typing_extensions==4.8.0\n",
      "uri-template==1.3.0\n",
      "urllib3==2.1.0\n",
      "wcwidth==0.2.12\n",
      "webcolors==1.13\n",
      "webencodings==0.5.1\n",
      "websocket-client==1.6.4\n"
     ]
    }
   ],
   "source": [
    "!pip freeze"
   ]
  },
  {
   "cell_type": "code",
   "execution_count": null,
   "id": "590cde91-3915-4790-afc1-00e2ff03bccb",
   "metadata": {},
   "outputs": [],
   "source": []
  }
 ],
 "metadata": {
  "kernelspec": {
   "display_name": "Python 3 (ipykernel)",
   "language": "python",
   "name": "python3"
  },
  "language_info": {
   "codemirror_mode": {
    "name": "ipython",
    "version": 3
   },
   "file_extension": ".py",
   "mimetype": "text/x-python",
   "name": "python",
   "nbconvert_exporter": "python",
   "pygments_lexer": "ipython3",
   "version": "3.10.12"
  }
 },
 "nbformat": 4,
 "nbformat_minor": 5
}
