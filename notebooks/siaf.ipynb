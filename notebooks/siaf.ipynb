{
 "cells": [
  {
   "cell_type": "code",
   "execution_count": null,
   "id": "8ce8a6df-74a9-4f8c-ac7a-fc60afc760b8",
   "metadata": {},
   "outputs": [],
   "source": [
    "import zipfile\n",
    "import os\n",
    "from io import BytesIO\n",
    "from datetime import datetime\n",
    "\n",
    "import polars as pl\n",
    "import pandas as pd\n",
    "\n",
    "pd.set_option(\"display.max_columns\", None)\n",
    "pd.set_option('display.max_rows', None)"
   ]
  },
  {
   "cell_type": "code",
   "execution_count": null,
   "id": "cc64988f-5019-4607-8b75-3e06fca6e5e4",
   "metadata": {},
   "outputs": [],
   "source": [
    "BASE_URL = os.environ.get(\"BASE_URL\")\n",
    "print(BASE_URL)"
   ]
  },
  {
   "cell_type": "code",
   "execution_count": null,
   "id": "071e52c8-4a95-43bb-8445-05f08b3c2b38",
   "metadata": {},
   "outputs": [],
   "source": [
    "# datasets\n",
    "folder_data = BASE_URL + 'data/'\n",
    "\n",
    "datasets = {\n",
    "    'ds_airhsp' : 'DS01_AIRHSP.zip',\n",
    "    'ds_seace' : 'DS02_SEACE.zip',\n",
    "    'ds_siaf' : 'DS03_ORDENES_SIAF.zip',\n",
    "    'ds_empresas' : 'DS04_REPRESENTANTES_EMPRESAS.zip',\n",
    "    'ds_servir' : 'DS05_SANCIONADOS_SERVIR.zip',\n",
    "    'ds_gstos' : 'DS06_GASTOS_EJECUTORA.zip',\n",
    "    'ds_proveedor' : 'DS07_PROVEEDORES_PROYECTOS.zip',\n",
    "    'ds_proyectos' : 'DS07_PROYECTOS_INVERSION.zip',\n",
    "    'ds_inco' : 'DS08_INCO.zip'\n",
    "}"
   ]
  },
  {
   "cell_type": "code",
   "execution_count": null,
   "id": "472fa674-d9e8-4020-9898-dcfa5e186ecc",
   "metadata": {},
   "outputs": [],
   "source": [
    "def get_dataset(id_dataset,id_elem):\n",
    "    archivo_zip = datasets[id_dataset]\n",
    "    ruta_zip = os.path.join(folder_data, archivo_zip)\n",
    "    df = pl.DataFrame()\n",
    "    \n",
    "    with zipfile.ZipFile(ruta_zip, 'r') as zip_ref:\n",
    "        print(f\"\\nTamaños de archivos CSV en {archivo_zip}:\")\n",
    "        # Iterar sobre los archivos dentro del zip\n",
    "        list_archivo = []\n",
    "        for nombre_archivo in zip_ref.namelist():\n",
    "            # Verificar si el archivo es un archivo CSV\n",
    "            \n",
    "            if nombre_archivo.endswith('.csv'):\n",
    "                list_archivo.append(nombre_archivo)\n",
    "            \n",
    "        print(list_archivo)\n",
    "        print(list_archivo[id_elem])\n",
    "        with zip_ref.open(list_archivo[id_elem]) as archivo_csv:\n",
    "            # df = pl.read_csv(archivo_csv, ignore_errors=True)\n",
    "            df = pd.read_csv(archivo_csv)\n",
    "            \n",
    "        # Obtener el tamaño del archivo en bytes\n",
    "        # tamano_bytes = zip_ref.getinfo(nombre_archivo).file_size\n",
    "\n",
    "        # # Convertir el tamaño a megabytes para mayor legibilidad\n",
    "        # tamano_mb = tamano_bytes / (1024 ** 3)\n",
    "\n",
    "        # # Imprimir el nombre del archivo y su tamaño\n",
    "        # print(f'{nombre_archivo}: {tamano_mb:.2f} GB')\n",
    "            # break\n",
    "    return df"
   ]
  },
  {
   "cell_type": "code",
   "execution_count": null,
   "id": "6658986a-8dee-4e26-b648-31c1d7c1f8ff",
   "metadata": {},
   "outputs": [],
   "source": [
    "def get_dataset_multiple_files(id_dataset):\n",
    "\n",
    "    archivo_zip = datasets[id_dataset]\n",
    "    ruta_zip = os.path.join(folder_data, archivo_zip)\n",
    "    \n",
    "    # Crear un DataFrame vacío\n",
    "    df = pd.DataFrame()\n",
    "    \n",
    "    with zipfile.ZipFile(ruta_zip, 'r') as zip_ref:\n",
    "        # Iterar sobre los nombres de los archivos en el zip\n",
    "        for nombre_archivo in zip_ref.namelist():\n",
    "            # Verificar si el archivo es un archivo CSV\n",
    "            if nombre_archivo.endswith('.csv'):\n",
    "                # Leer el contenido del archivo CSV\n",
    "                with zip_ref.open(nombre_archivo) as archivo_csv:\n",
    "                    # contenido_csv = archivo_csv.read().decode('utf-8')\n",
    "                    \n",
    "                    # # Utilizar BytesIO para convertir el contenido en un objeto de bytes\n",
    "                    # bytes_io = BytesIO(contenido_csv)\n",
    "                    \n",
    "                    # Leer el DataFrame desde el objeto de bytes\n",
    "                    df_temp = pd.read_csv(archivo_csv)\n",
    "                    \n",
    "                    # Agregar el DataFrame al DataFrame principal\n",
    "                    df = pd.concat([df, df_temp])\n",
    "    \n",
    "    # Imprimir el DataFrame resultante\n",
    "    return df"
   ]
  },
  {
   "cell_type": "markdown",
   "id": "dcd40439-16af-4d72-a48b-10519b483ae8",
   "metadata": {},
   "source": [
    "### SIAF"
   ]
  },
  {
   "cell_type": "code",
   "execution_count": null,
   "id": "1ba4b983-304c-430a-a30e-12a80b0f7b49",
   "metadata": {},
   "outputs": [],
   "source": []
  },
  {
   "cell_type": "code",
   "execution_count": null,
   "id": "81577b55-2c28-40f4-ad6b-380452e13a06",
   "metadata": {},
   "outputs": [],
   "source": []
  },
  {
   "cell_type": "code",
   "execution_count": null,
   "id": "079090bd-8fde-4fbf-9b3e-5c358d13aa90",
   "metadata": {},
   "outputs": [],
   "source": []
  },
  {
   "cell_type": "code",
   "execution_count": null,
   "id": "53135d80-b05f-4e75-8724-91acc8bec3d9",
   "metadata": {},
   "outputs": [],
   "source": []
  }
 ],
 "metadata": {
  "kernelspec": {
   "display_name": "Python 3 (ipykernel)",
   "language": "python",
   "name": "python3"
  },
  "language_info": {
   "codemirror_mode": {
    "name": "ipython",
    "version": 3
   },
   "file_extension": ".py",
   "mimetype": "text/x-python",
   "name": "python",
   "nbconvert_exporter": "python",
   "pygments_lexer": "ipython3",
   "version": "3.10.12"
  }
 },
 "nbformat": 4,
 "nbformat_minor": 5
}
